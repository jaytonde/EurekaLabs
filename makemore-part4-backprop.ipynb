{
 "cells": [
  {
   "cell_type": "markdown",
   "id": "ae0c5825",
   "metadata": {
    "papermill": {
     "duration": 0.006702,
     "end_time": "2024-08-17T03:13:49.288568",
     "exception": false,
     "start_time": "2024-08-17T03:13:49.281866",
     "status": "completed"
    },
    "tags": []
   },
   "source": [
    "## Imports"
   ]
  },
  {
   "cell_type": "code",
   "execution_count": 1,
   "id": "a6346c45",
   "metadata": {
    "execution": {
     "iopub.execute_input": "2024-08-17T03:13:49.303089Z",
     "iopub.status.busy": "2024-08-17T03:13:49.302629Z",
     "iopub.status.idle": "2024-08-17T03:13:52.541531Z",
     "shell.execute_reply": "2024-08-17T03:13:52.540576Z"
    },
    "papermill": {
     "duration": 3.249232,
     "end_time": "2024-08-17T03:13:52.544277",
     "exception": false,
     "start_time": "2024-08-17T03:13:49.295045",
     "status": "completed"
    },
    "tags": []
   },
   "outputs": [],
   "source": [
    "import torch\n",
    "from tqdm import tqdm\n",
    "import torch.nn.functional as F\n",
    "import matplotlib.pyplot as plt\n",
    "%matplotlib inline \n",
    "# %matplotlib inline to creating seperate window for matplotlib figures it will draw it in cell output instead"
   ]
  },
  {
   "cell_type": "markdown",
   "id": "ba687291",
   "metadata": {
    "papermill": {
     "duration": 0.006063,
     "end_time": "2024-08-17T03:13:52.556890",
     "exception": false,
     "start_time": "2024-08-17T03:13:52.550827",
     "status": "completed"
    },
    "tags": []
   },
   "source": [
    "## Read Dataset"
   ]
  },
  {
   "cell_type": "code",
   "execution_count": 2,
   "id": "3593c56a",
   "metadata": {
    "execution": {
     "iopub.execute_input": "2024-08-17T03:13:52.571411Z",
     "iopub.status.busy": "2024-08-17T03:13:52.570895Z",
     "iopub.status.idle": "2024-08-17T03:13:52.593695Z",
     "shell.execute_reply": "2024-08-17T03:13:52.592615Z"
    },
    "papermill": {
     "duration": 0.032535,
     "end_time": "2024-08-17T03:13:52.595846",
     "exception": false,
     "start_time": "2024-08-17T03:13:52.563311",
     "status": "completed"
    },
    "tags": []
   },
   "outputs": [
    {
     "data": {
      "text/plain": [
       "['emma', 'olivia', 'ava', 'isabella', 'sophia', 'charlotte', 'mia', 'amelia']"
      ]
     },
     "execution_count": 2,
     "metadata": {},
     "output_type": "execute_result"
    }
   ],
   "source": [
    "words = open(\"/kaggle/input/eureka-labs/names.txt\",\"r\").read().splitlines()\n",
    "words[:8]"
   ]
  },
  {
   "cell_type": "code",
   "execution_count": 3,
   "id": "0b994258",
   "metadata": {
    "execution": {
     "iopub.execute_input": "2024-08-17T03:13:52.610400Z",
     "iopub.status.busy": "2024-08-17T03:13:52.609936Z",
     "iopub.status.idle": "2024-08-17T03:13:52.616238Z",
     "shell.execute_reply": "2024-08-17T03:13:52.615276Z"
    },
    "papermill": {
     "duration": 0.016105,
     "end_time": "2024-08-17T03:13:52.618505",
     "exception": false,
     "start_time": "2024-08-17T03:13:52.602400",
     "status": "completed"
    },
    "tags": []
   },
   "outputs": [
    {
     "data": {
      "text/plain": [
       "32033"
      ]
     },
     "execution_count": 3,
     "metadata": {},
     "output_type": "execute_result"
    }
   ],
   "source": [
    "len(words)"
   ]
  },
  {
   "cell_type": "markdown",
   "id": "28e38647",
   "metadata": {
    "papermill": {
     "duration": 0.006318,
     "end_time": "2024-08-17T03:13:52.631547",
     "exception": false,
     "start_time": "2024-08-17T03:13:52.625229",
     "status": "completed"
    },
    "tags": []
   },
   "source": [
    "## char to id"
   ]
  },
  {
   "cell_type": "code",
   "execution_count": 4,
   "id": "b1ff361e",
   "metadata": {
    "execution": {
     "iopub.execute_input": "2024-08-17T03:13:52.646783Z",
     "iopub.status.busy": "2024-08-17T03:13:52.646029Z",
     "iopub.status.idle": "2024-08-17T03:13:52.657968Z",
     "shell.execute_reply": "2024-08-17T03:13:52.656917Z"
    },
    "papermill": {
     "duration": 0.022193,
     "end_time": "2024-08-17T03:13:52.660514",
     "exception": false,
     "start_time": "2024-08-17T03:13:52.638321",
     "status": "completed"
    },
    "tags": []
   },
   "outputs": [
    {
     "name": "stdout",
     "output_type": "stream",
     "text": [
      "{1: 'a', 2: 'b', 3: 'c', 4: 'd', 5: 'e', 6: 'f', 7: 'g', 8: 'h', 9: 'i', 10: 'j', 11: 'k', 12: 'l', 13: 'm', 14: 'n', 15: 'o', 16: 'p', 17: 'q', 18: 'r', 19: 's', 20: 't', 21: 'u', 22: 'v', 23: 'w', 24: 'x', 25: 'y', 26: 'z', 0: '.'}\n"
     ]
    }
   ],
   "source": [
    "chars     = sorted(list(set(''.join(words))))\n",
    "stoi      = {s:i+1 for i,s in enumerate(chars)}\n",
    "stoi['.'] = 0\n",
    "itos      = {i:s for s,i in stoi.items()}\n",
    "print(itos)"
   ]
  },
  {
   "cell_type": "markdown",
   "id": "5705e73f",
   "metadata": {
    "papermill": {
     "duration": 0.006475,
     "end_time": "2024-08-17T03:13:52.674102",
     "exception": false,
     "start_time": "2024-08-17T03:13:52.667627",
     "status": "completed"
    },
    "tags": []
   },
   "source": [
    "## Dataset"
   ]
  },
  {
   "cell_type": "code",
   "execution_count": 5,
   "id": "3f7d6542",
   "metadata": {
    "execution": {
     "iopub.execute_input": "2024-08-17T03:13:52.689201Z",
     "iopub.status.busy": "2024-08-17T03:13:52.688824Z",
     "iopub.status.idle": "2024-08-17T03:13:53.651846Z",
     "shell.execute_reply": "2024-08-17T03:13:53.650777Z"
    },
    "papermill": {
     "duration": 0.973715,
     "end_time": "2024-08-17T03:13:53.654587",
     "exception": false,
     "start_time": "2024-08-17T03:13:52.680872",
     "status": "completed"
    },
    "tags": []
   },
   "outputs": [],
   "source": [
    "def build_dataset(words):\n",
    "    block_size = 3 # context length : how many characters do we take to predict next one\n",
    "    X, Y       = [],[]\n",
    "\n",
    "    for w in words:\n",
    "        #print(w)\n",
    "        context = [0] * block_size\n",
    "        for ch in w + '.':\n",
    "            ix = stoi[ch]\n",
    "            X.append(context)\n",
    "            Y.append(ix)\n",
    "            #print(''.join(itos[i] for i in context), '----->', itos[ix])\n",
    "            context = context[1:] + [ix] #crop and apppend\n",
    "\n",
    "    X = torch.tensor(X)\n",
    "    Y = torch.tensor(Y)\n",
    "    \n",
    "    return X,Y\n",
    "\n",
    "import random\n",
    "random.seed(42)\n",
    "random.shuffle(words)\n",
    "\n",
    "n1 = int(0.8*len(words))\n",
    "n2 = int(0.9*len(words))\n",
    "\n",
    "Xtr, Ytr   = build_dataset(words[:n1])\n",
    "Xval, Yval = build_dataset(words[n1:n2])\n",
    "Xte, Yte   = build_dataset(words[n2])"
   ]
  },
  {
   "cell_type": "markdown",
   "id": "4d6a5bdb",
   "metadata": {
    "papermill": {
     "duration": 0.006451,
     "end_time": "2024-08-17T03:13:53.668037",
     "exception": false,
     "start_time": "2024-08-17T03:13:53.661586",
     "status": "completed"
    },
    "tags": []
   },
   "source": [
    "## Initialize weights"
   ]
  },
  {
   "cell_type": "code",
   "execution_count": 6,
   "id": "cf714248",
   "metadata": {
    "execution": {
     "iopub.execute_input": "2024-08-17T03:13:53.683397Z",
     "iopub.status.busy": "2024-08-17T03:13:53.682605Z",
     "iopub.status.idle": "2024-08-17T03:13:53.728628Z",
     "shell.execute_reply": "2024-08-17T03:13:53.727665Z"
    },
    "papermill": {
     "duration": 0.05657,
     "end_time": "2024-08-17T03:13:53.731268",
     "exception": false,
     "start_time": "2024-08-17T03:13:53.674698",
     "status": "completed"
    },
    "tags": []
   },
   "outputs": [],
   "source": [
    "n_hidden   = 64 # the number of neurons in the hidden layer of the MLP\n",
    "vocab_size = 27\n",
    "n_embd     = 10 # the dimensionality of the character embedding vectors\n",
    "block_size = 3\n",
    "\n",
    "g = torch.Generator().manual_seed(2147483647) # for reproducability\n",
    "C = torch.randn((vocab_size, n_embd),             generator=g)\n",
    "\n",
    "W1 = torch.randn((n_embd * block_size, n_hidden), generator=g) * (5/3)/((n_embd * block_size) ** 0.5) #kamming dist \n",
    "b1 = torch.randn(n_hidden,                        generator=g) * 0.1 #for making initial weights near to zero to mask un uinform distribution\n",
    "\n",
    "W2 = torch.randn((n_hidden, vocab_size),          generator=g) * 0.1\n",
    "b2 = torch.randn(vocab_size,                      generator=g) * 0.1\n",
    "\n",
    "bngain = torch.randn((1,n_hidden)) * 0.1 + 1.0   #Batch normalization trainable parameter\n",
    "bnbias = torch.randn((1,n_hidden)) * 0.1  #Batch normalization trainable parameter\n",
    "\n",
    "# bnmean_running = torch.randn((1,n_hidden))\n",
    "# bnstd_running  = torch.randn((1,n_hidden))\n",
    "\n",
    "parameters = [C, W1, b1, W2, b2, bngain, bnbias]\n",
    "for p in parameters:\n",
    "    p.requires_grad = True"
   ]
  },
  {
   "cell_type": "markdown",
   "id": "617f082c",
   "metadata": {
    "papermill": {
     "duration": 0.006385,
     "end_time": "2024-08-17T03:13:53.744558",
     "exception": false,
     "start_time": "2024-08-17T03:13:53.738173",
     "status": "completed"
    },
    "tags": []
   },
   "source": [
    "## Training loop"
   ]
  },
  {
   "cell_type": "code",
   "execution_count": 7,
   "id": "0d1edc15",
   "metadata": {
    "execution": {
     "iopub.execute_input": "2024-08-17T03:13:53.759638Z",
     "iopub.status.busy": "2024-08-17T03:13:53.759214Z",
     "iopub.status.idle": "2024-08-17T03:13:53.777517Z",
     "shell.execute_reply": "2024-08-17T03:13:53.776372Z"
    },
    "papermill": {
     "duration": 0.028843,
     "end_time": "2024-08-17T03:13:53.780139",
     "exception": false,
     "start_time": "2024-08-17T03:13:53.751296",
     "status": "completed"
    },
    "tags": []
   },
   "outputs": [],
   "source": [
    "batch_size = 32\n",
    "n          = batch_size\n",
    "\n",
    "# minibatch\n",
    "ix         = torch.randint(0, Xtr.shape[0], (batch_size,), generator=g)\n",
    "Xb, Yb     = Xtr[ix], Ytr[ix]"
   ]
  },
  {
   "cell_type": "code",
   "execution_count": 8,
   "id": "cc39a916",
   "metadata": {
    "execution": {
     "iopub.execute_input": "2024-08-17T03:13:53.796589Z",
     "iopub.status.busy": "2024-08-17T03:13:53.796183Z",
     "iopub.status.idle": "2024-08-17T03:13:53.902920Z",
     "shell.execute_reply": "2024-08-17T03:13:53.901796Z"
    },
    "papermill": {
     "duration": 0.118224,
     "end_time": "2024-08-17T03:13:53.905513",
     "exception": false,
     "start_time": "2024-08-17T03:13:53.787289",
     "status": "completed"
    },
    "tags": []
   },
   "outputs": [
    {
     "data": {
      "text/plain": [
       "tensor(3.3565, grad_fn=<NegBackward0>)"
      ]
     },
     "execution_count": 8,
     "metadata": {},
     "output_type": "execute_result"
    }
   ],
   "source": [
    "#forward pass \"chunkated\" into smaller steps that are possible to backward one at a time\n",
    "emb     = C[Xb] #embed the characters into the vectors\n",
    "embcat  = emb.view(emb.shape[0], -1) # concate the vectors\n",
    "\n",
    "#Linear layer 1\n",
    "hprebn  = embcat @ W1 + b1 #hidden layer pre activation\n",
    "\n",
    "#------------------------------- BatchNorm layer -------------------------------\n",
    "bnmeani   = 1/n*hprebn.sum(0, keepdim=True)\n",
    "bndiff    = hprebn - bnmeani\n",
    "bndiff2   = bndiff**2\n",
    "bnvar     = 1/(n-1)*(bndiff2).sum(0, keepdim=True) # note: Bessel's correction (dividing by n-1, not n) Check notes for more info\n",
    "bnvar_inv = (bnvar + 1e-5)**-0.5 #?? (bnvar + 0.00001)/2\n",
    "bnraw     = bndiff * bnvar_inv\n",
    "hpreact   = bngain * bnraw + bnbias\n",
    "#------------------------------------------------------------------------------\n",
    "#Non linearity\n",
    "h              = torch.tanh(hpreact) #hidden layer\n",
    "\n",
    "#Linear layer 2\n",
    "logits         = h @ W2 + b2 # output layer\n",
    "#-----------------------------loss function------------------------------------------------\n",
    "logit_maxes    = logits.max(1, keepdim=True).values\n",
    "norm_logits    = logits - logit_maxes                    # subtract max for numerical stability cause high values lead to instability as we are exponentiating them\n",
    "counts         = norm_logits.exp()                       #taking natural(e^x) exponent of all values from tensor\n",
    "counts_sum     = counts.sum(1, keepdims=True)\n",
    "counts_sum_inv = counts_sum**-1                          # if I use (1.0 / counts_sum) instead then I can't get backprop to be bit exact...\n",
    "probs          = counts * counts_sum_inv\n",
    "logprobs       = probs.log()                             #natural logaritham of all elements from the tensor.\n",
    "loss           = -logprobs[range(n), Yb].mean()\n",
    "#-----------------------------------------------------------------------------\n",
    "\n",
    "#Backward pass\n",
    "for p in parameters:\n",
    "    p.grad = None\n",
    "    \n",
    "for t in [logprobs, probs, counts, counts_sum, counts_sum_inv, # afaik there is no cleaner way\n",
    "          norm_logits, logit_maxes, logits, h, hpreact, bnraw,\n",
    "         bnvar_inv, bnvar, bndiff2, bndiff, hprebn, bnmeani,\n",
    "         embcat, emb]:\n",
    "    t.retain_grad()\n",
    "loss.backward()\n",
    "loss"
   ]
  },
  {
   "cell_type": "code",
   "execution_count": 9,
   "id": "1039393d",
   "metadata": {
    "execution": {
     "iopub.execute_input": "2024-08-17T03:13:53.921689Z",
     "iopub.status.busy": "2024-08-17T03:13:53.920641Z",
     "iopub.status.idle": "2024-08-17T03:13:53.925993Z",
     "shell.execute_reply": "2024-08-17T03:13:53.924893Z"
    },
    "papermill": {
     "duration": 0.015804,
     "end_time": "2024-08-17T03:13:53.928347",
     "exception": false,
     "start_time": "2024-08-17T03:13:53.912543",
     "status": "completed"
    },
    "tags": []
   },
   "outputs": [],
   "source": [
    "# logprobs[(0,1),(0,1)]"
   ]
  },
  {
   "cell_type": "code",
   "execution_count": 10,
   "id": "d2beb92e",
   "metadata": {
    "execution": {
     "iopub.execute_input": "2024-08-17T03:13:53.944352Z",
     "iopub.status.busy": "2024-08-17T03:13:53.943938Z",
     "iopub.status.idle": "2024-08-17T03:13:53.950249Z",
     "shell.execute_reply": "2024-08-17T03:13:53.949225Z"
    },
    "papermill": {
     "duration": 0.016935,
     "end_time": "2024-08-17T03:13:53.952552",
     "exception": false,
     "start_time": "2024-08-17T03:13:53.935617",
     "status": "completed"
    },
    "tags": []
   },
   "outputs": [],
   "source": [
    "#utility function we are going to use later for comparing manual gradients with PyTorch gradients\n",
    "def cmp(s, dt, t):\n",
    "    ex      = torch.all(dt == t.grad).item() # Extractly equal : checking if all values are equal by precision also if yes it retruns boolean value as .item()\n",
    "    app     = torch.allclose(dt, t.grad)     # Approximatly equal by precision level is ignored\n",
    "    maxdiff = (dt - t.grad).abs().max().item() # highest absolute diffrence\n",
    "    print(f'{s:15s} | exact: {str(ex):5s} | approximate: {str(app):5s} | maxdiff: {maxdiff}')"
   ]
  },
  {
   "cell_type": "code",
   "execution_count": 11,
   "id": "25bd6a42",
   "metadata": {
    "execution": {
     "iopub.execute_input": "2024-08-17T03:13:53.967928Z",
     "iopub.status.busy": "2024-08-17T03:13:53.967568Z",
     "iopub.status.idle": "2024-08-17T03:13:53.972523Z",
     "shell.execute_reply": "2024-08-17T03:13:53.971272Z"
    },
    "papermill": {
     "duration": 0.01527,
     "end_time": "2024-08-17T03:13:53.974814",
     "exception": false,
     "start_time": "2024-08-17T03:13:53.959544",
     "status": "completed"
    },
    "tags": []
   },
   "outputs": [],
   "source": [
    "#norm_logits    = logits - logit_maxes\n",
    "# c11 c12 c13 = a11 a12 a13   b1\n",
    "# c21 c22 c23 = a21 a22 a23 - b2\n",
    "# c31 c32 c33 = a31 a32 a33   b3\n",
    "\n",
    "#so e.g C32 = a32 - b3\n",
    "\n",
    "#norm_logits    = logits - logit_maxes - this operation is for numerical stability only so it dose not impact the \n",
    "# loss at all so it's derivative is zero"
   ]
  },
  {
   "cell_type": "code",
   "execution_count": 12,
   "id": "e2269815",
   "metadata": {
    "execution": {
     "iopub.execute_input": "2024-08-17T03:13:53.990741Z",
     "iopub.status.busy": "2024-08-17T03:13:53.990360Z",
     "iopub.status.idle": "2024-08-17T03:13:54.034594Z",
     "shell.execute_reply": "2024-08-17T03:13:54.033205Z"
    },
    "papermill": {
     "duration": 0.055099,
     "end_time": "2024-08-17T03:13:54.036938",
     "exception": false,
     "start_time": "2024-08-17T03:13:53.981839",
     "status": "completed"
    },
    "tags": []
   },
   "outputs": [
    {
     "name": "stdout",
     "output_type": "stream",
     "text": [
      "logprobs        | exact: True  | approximate: True  | maxdiff: 0.0\n",
      "probs           | exact: True  | approximate: True  | maxdiff: 0.0\n",
      "counts_sum_inv  | exact: True  | approximate: True  | maxdiff: 0.0\n",
      "counts_sum      | exact: True  | approximate: True  | maxdiff: 0.0\n",
      "counts          | exact: True  | approximate: True  | maxdiff: 0.0\n",
      "logit_maxes     | exact: True  | approximate: True  | maxdiff: 0.0\n",
      "logits          | exact: True  | approximate: True  | maxdiff: 0.0\n",
      "h               | exact: True  | approximate: True  | maxdiff: 0.0\n",
      "W2              | exact: True  | approximate: True  | maxdiff: 0.0\n",
      "b2              | exact: True  | approximate: True  | maxdiff: 0.0\n",
      "hpreact         | exact: False | approximate: True  | maxdiff: 4.656612873077393e-10\n",
      "bngain          | exact: False | approximate: True  | maxdiff: 1.862645149230957e-09\n",
      "bnraw           | exact: False | approximate: True  | maxdiff: 9.313225746154785e-10\n",
      "bnbias          | exact: False | approximate: True  | maxdiff: 2.7939677238464355e-09\n",
      "bnvar_inv       | exact: False | approximate: True  | maxdiff: 3.725290298461914e-09\n",
      "bnvar           | exact: False | approximate: True  | maxdiff: 9.313225746154785e-10\n",
      "bndiff2         | exact: False | approximate: True  | maxdiff: 5.820766091346741e-11\n",
      "bndiff          | exact: False | approximate: True  | maxdiff: 6.984919309616089e-10\n",
      "bnmeani         | exact: False | approximate: True  | maxdiff: 1.862645149230957e-09\n",
      "hprebn          | exact: False | approximate: True  | maxdiff: 6.984919309616089e-10\n",
      "embcat          | exact: False | approximate: True  | maxdiff: 1.3969838619232178e-09\n",
      "W1              | exact: False | approximate: True  | maxdiff: 3.725290298461914e-09\n",
      "b1              | exact: False | approximate: True  | maxdiff: 1.862645149230957e-09\n",
      "emb             | exact: False | approximate: True  | maxdiff: 1.3969838619232178e-09\n",
      "C               | exact: False | approximate: True  | maxdiff: 7.450580596923828e-09\n"
     ]
    }
   ],
   "source": [
    "# Exercise 1: backprop through the whole thing manually, \n",
    "# backpropagating through exactly all of the variables \n",
    "# as they are defined in the forward pass above, one by one\n",
    "\n",
    "dlogprobs               = torch.zeros_like(logprobs)\n",
    "dlogprobs[range(n), Yb] = -1.0 / n                          #d(loss)/d(logprobs) = -1/n\n",
    "dprobs                  = (1.0 / probs) * dlogprobs         #d/dx log(x)         = 1/x   # Boosting the gradients where probs is low if it is 1 then we just pass grads in back layer\n",
    "dcounts_sum_inv         = (counts * dprobs).sum(1, keepdim=True) # count : (32,27) * (32,1) using broadcasting for sum operation\n",
    "dcounts                 = counts_sum_inv * dprobs\n",
    "dcounts_sum             = (-counts_sum**-2) * dcounts_sum_inv #d(x**-1)/dx = -1/x**2 \n",
    "dcounts                += torch.ones_like(counts) * dcounts_sum\n",
    "dnorm_logits            = counts * dcounts                    #d(e^x)/dx = x     \n",
    "dlogits                 = dnorm_logits.clone()\n",
    "dlogit_maxes            = (-dnorm_logits).sum(1, keepdim=True) #drivaties flow as it is through nodes for -ve and +ve operations.\n",
    "dlogits                += F.one_hot(logits.max(1).indices, num_classes=logits.shape[1]) * dlogit_maxes\n",
    "\n",
    "dh                      = dlogits @ W2.T # for more clarification see the video : 51:00 hrs\n",
    "dW2                     = h.T @ dlogits  #--\n",
    "db2                     = dlogits.sum(0) #--\n",
    "\n",
    "dhpreact                = (1.0 - h**2) * dh #d(tanh(x))/dx = 1 - tanh(x) ** 2\n",
    "\n",
    "dbngain                 = (bnraw * dhpreact).sum(0, keepdim=True)\n",
    "dbnraw                  = bngain * dhpreact\n",
    "dbnbias                 = dhpreact.sum(0, keepdim=True)\n",
    "dbndiff                 = bnvar_inv * dbnraw\n",
    "dbnvar_inv              = (bndiff * dbnraw).sum(0, keepdim=True)\n",
    "dbnvar                  = (-0.5*(bnvar + 1e-5)**-1.5) * dbnvar_inv # d(x^y)/dw = y * (x ^ (y-1))\n",
    "dbndiff2                = (1.0/(n-1))*torch.ones_like(bndiff2) * dbnvar\n",
    "dbndiff                += (2*bndiff) * dbndiff2\n",
    "dhprebn                 = dbndiff.clone()\n",
    "dbnmeani                = (-dbndiff).sum(0)\n",
    "dhprebn                += 1.0/n * (torch.ones_like(hprebn) * dbnmeani)\n",
    "dembcat                 = dhprebn @ W1.T        # In multiplication it is transpose of other element and global derivative\n",
    "dW1                     = embcat.T @ dhprebn    # In multiplication it is transpose of other element and global derivative\n",
    "db1                     = dhprebn.sum(0)        # in add operation derivates flows as it we just have to consider right using brodcasting\n",
    "demb                    = dembcat.view(emb.shape)  # just undoing the view operation from forward pass\n",
    "\n",
    "dC = torch.zeros_like(C)\n",
    "for k in range(Xb.shape[0]):\n",
    "    for j in range(Xb.shape[1]):\n",
    "        ix = Xb[k,j]\n",
    "        dC[ix] += demb[k,j]\n",
    "    \n",
    "cmp('logprobs',       dlogprobs,        logprobs)\n",
    "cmp('probs',          dprobs,           probs)\n",
    "cmp('counts_sum_inv', dcounts_sum_inv,  counts_sum_inv)\n",
    "cmp('counts_sum',     dcounts_sum,      counts_sum)\n",
    "cmp('counts',         dcounts,          counts)\n",
    "cmp('logit_maxes',    dlogit_maxes,     logit_maxes)\n",
    "cmp('logits',         dlogits,          logits)\n",
    "\n",
    "cmp('h',              dh,               h)\n",
    "cmp('W2',             dW2,              W2)\n",
    "cmp('b2',             db2,              b2)\n",
    "\n",
    "cmp('hpreact',        dhpreact,         hpreact)\n",
    "\n",
    "cmp('bngain',         dbngain,          bngain)\n",
    "cmp('bnraw',          dbnraw,           bnraw)\n",
    "cmp('bnbias',         dbnbias,          bnbias)\n",
    "cmp('bnvar_inv',      dbnvar_inv,       bnvar_inv)\n",
    "cmp('bnvar',          dbnvar,           bnvar)\n",
    "cmp('bndiff2',        dbndiff2,         bndiff2)\n",
    "cmp('bndiff',         dbndiff,          bndiff)\n",
    "cmp('bnmeani',        dbnmeani,         bnmeani)\n",
    "cmp('hprebn',         dhprebn,          hprebn)\n",
    "\n",
    "cmp('embcat',         dembcat,          embcat)\n",
    "cmp('W1',             dW1,              W1)\n",
    "cmp('b1',             db1,              b1)\n",
    "\n",
    "cmp('emb',            demb,             emb)\n",
    "cmp('C',              dC,               C)"
   ]
  },
  {
   "cell_type": "code",
   "execution_count": null,
   "id": "f3ccf372",
   "metadata": {
    "papermill": {
     "duration": 0.006523,
     "end_time": "2024-08-17T03:13:54.051219",
     "exception": false,
     "start_time": "2024-08-17T03:13:54.044696",
     "status": "completed"
    },
    "tags": []
   },
   "outputs": [],
   "source": []
  }
 ],
 "metadata": {
  "kaggle": {
   "accelerator": "none",
   "dataSources": [
    {
     "databundleVersionId": 9094797,
     "sourceId": 63056,
     "sourceType": "competition"
    },
    {
     "datasetId": 5447273,
     "sourceId": 9036689,
     "sourceType": "datasetVersion"
    }
   ],
   "dockerImageVersionId": 30746,
   "isGpuEnabled": false,
   "isInternetEnabled": true,
   "language": "python",
   "sourceType": "notebook"
  },
  "kernelspec": {
   "display_name": "Python 3",
   "language": "python",
   "name": "python3"
  },
  "language_info": {
   "codemirror_mode": {
    "name": "ipython",
    "version": 3
   },
   "file_extension": ".py",
   "mimetype": "text/x-python",
   "name": "python",
   "nbconvert_exporter": "python",
   "pygments_lexer": "ipython3",
   "version": "3.10.13"
  },
  "papermill": {
   "default_parameters": {},
   "duration": 8.405945,
   "end_time": "2024-08-17T03:13:54.879420",
   "environment_variables": {},
   "exception": null,
   "input_path": "__notebook__.ipynb",
   "output_path": "__notebook__.ipynb",
   "parameters": {},
   "start_time": "2024-08-17T03:13:46.473475",
   "version": "2.5.0"
  }
 },
 "nbformat": 4,
 "nbformat_minor": 5
}
