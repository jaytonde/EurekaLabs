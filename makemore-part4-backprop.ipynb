{
 "cells": [
  {
   "cell_type": "code",
   "execution_count": null,
   "id": "93c53bbe",
   "metadata": {
    "papermill": {
     "duration": 0.004991,
     "end_time": "2024-08-15T05:42:09.559257",
     "exception": false,
     "start_time": "2024-08-15T05:42:09.554266",
     "status": "completed"
    },
    "tags": []
   },
   "outputs": [],
   "source": []
  },
  {
   "cell_type": "markdown",
   "id": "c9955def",
   "metadata": {
    "papermill": {
     "duration": 0.004254,
     "end_time": "2024-08-15T05:42:09.568202",
     "exception": false,
     "start_time": "2024-08-15T05:42:09.563948",
     "status": "completed"
    },
    "tags": []
   },
   "source": [
    "## Imports"
   ]
  },
  {
   "cell_type": "code",
   "execution_count": 1,
   "id": "1b5d7aa3",
   "metadata": {
    "execution": {
     "iopub.execute_input": "2024-08-15T05:42:09.579380Z",
     "iopub.status.busy": "2024-08-15T05:42:09.578399Z",
     "iopub.status.idle": "2024-08-15T05:42:12.689362Z",
     "shell.execute_reply": "2024-08-15T05:42:12.688481Z"
    },
    "papermill": {
     "duration": 3.119224,
     "end_time": "2024-08-15T05:42:12.691829",
     "exception": false,
     "start_time": "2024-08-15T05:42:09.572605",
     "status": "completed"
    },
    "tags": []
   },
   "outputs": [],
   "source": [
    "import torch\n",
    "from tqdm import tqdm\n",
    "import torch.nn.functional as F\n",
    "import matplotlib.pyplot as plt\n",
    "%matplotlib inline \n",
    "# %matplotlib inline to creating seperate window for matplotlib figures it will draw it in cell output instead"
   ]
  },
  {
   "cell_type": "markdown",
   "id": "18ea3095",
   "metadata": {
    "papermill": {
     "duration": 0.004214,
     "end_time": "2024-08-15T05:42:12.700756",
     "exception": false,
     "start_time": "2024-08-15T05:42:12.696542",
     "status": "completed"
    },
    "tags": []
   },
   "source": [
    "## Read Dataset"
   ]
  },
  {
   "cell_type": "code",
   "execution_count": 2,
   "id": "c5668d38",
   "metadata": {
    "execution": {
     "iopub.execute_input": "2024-08-15T05:42:12.711957Z",
     "iopub.status.busy": "2024-08-15T05:42:12.710818Z",
     "iopub.status.idle": "2024-08-15T05:42:12.731559Z",
     "shell.execute_reply": "2024-08-15T05:42:12.730495Z"
    },
    "papermill": {
     "duration": 0.028826,
     "end_time": "2024-08-15T05:42:12.734002",
     "exception": false,
     "start_time": "2024-08-15T05:42:12.705176",
     "status": "completed"
    },
    "tags": []
   },
   "outputs": [
    {
     "data": {
      "text/plain": [
       "['emma', 'olivia', 'ava', 'isabella', 'sophia', 'charlotte', 'mia', 'amelia']"
      ]
     },
     "execution_count": 2,
     "metadata": {},
     "output_type": "execute_result"
    }
   ],
   "source": [
    "words = open(\"/kaggle/input/eureka-labs/names.txt\",\"r\").read().splitlines()\n",
    "words[:8]"
   ]
  },
  {
   "cell_type": "code",
   "execution_count": 3,
   "id": "af8c02d2",
   "metadata": {
    "execution": {
     "iopub.execute_input": "2024-08-15T05:42:12.745506Z",
     "iopub.status.busy": "2024-08-15T05:42:12.744560Z",
     "iopub.status.idle": "2024-08-15T05:42:12.751008Z",
     "shell.execute_reply": "2024-08-15T05:42:12.750015Z"
    },
    "papermill": {
     "duration": 0.014549,
     "end_time": "2024-08-15T05:42:12.753311",
     "exception": false,
     "start_time": "2024-08-15T05:42:12.738762",
     "status": "completed"
    },
    "tags": []
   },
   "outputs": [
    {
     "data": {
      "text/plain": [
       "32033"
      ]
     },
     "execution_count": 3,
     "metadata": {},
     "output_type": "execute_result"
    }
   ],
   "source": [
    "len(words)"
   ]
  },
  {
   "cell_type": "markdown",
   "id": "0ff38f0a",
   "metadata": {
    "papermill": {
     "duration": 0.004473,
     "end_time": "2024-08-15T05:42:12.762682",
     "exception": false,
     "start_time": "2024-08-15T05:42:12.758209",
     "status": "completed"
    },
    "tags": []
   },
   "source": [
    "## char to id"
   ]
  },
  {
   "cell_type": "code",
   "execution_count": 4,
   "id": "98122740",
   "metadata": {
    "execution": {
     "iopub.execute_input": "2024-08-15T05:42:12.773874Z",
     "iopub.status.busy": "2024-08-15T05:42:12.773517Z",
     "iopub.status.idle": "2024-08-15T05:42:12.784570Z",
     "shell.execute_reply": "2024-08-15T05:42:12.783512Z"
    },
    "papermill": {
     "duration": 0.019507,
     "end_time": "2024-08-15T05:42:12.787039",
     "exception": false,
     "start_time": "2024-08-15T05:42:12.767532",
     "status": "completed"
    },
    "tags": []
   },
   "outputs": [
    {
     "name": "stdout",
     "output_type": "stream",
     "text": [
      "{1: 'a', 2: 'b', 3: 'c', 4: 'd', 5: 'e', 6: 'f', 7: 'g', 8: 'h', 9: 'i', 10: 'j', 11: 'k', 12: 'l', 13: 'm', 14: 'n', 15: 'o', 16: 'p', 17: 'q', 18: 'r', 19: 's', 20: 't', 21: 'u', 22: 'v', 23: 'w', 24: 'x', 25: 'y', 26: 'z', 0: '.'}\n"
     ]
    }
   ],
   "source": [
    "chars     = sorted(list(set(''.join(words))))\n",
    "stoi      = {s:i+1 for i,s in enumerate(chars)}\n",
    "stoi['.'] = 0\n",
    "itos      = {i:s for s,i in stoi.items()}\n",
    "print(itos)"
   ]
  },
  {
   "cell_type": "markdown",
   "id": "249e70e0",
   "metadata": {
    "papermill": {
     "duration": 0.004547,
     "end_time": "2024-08-15T05:42:12.796419",
     "exception": false,
     "start_time": "2024-08-15T05:42:12.791872",
     "status": "completed"
    },
    "tags": []
   },
   "source": [
    "## Dataset"
   ]
  },
  {
   "cell_type": "code",
   "execution_count": 5,
   "id": "22ad3605",
   "metadata": {
    "execution": {
     "iopub.execute_input": "2024-08-15T05:42:12.808124Z",
     "iopub.status.busy": "2024-08-15T05:42:12.807170Z",
     "iopub.status.idle": "2024-08-15T05:42:13.523507Z",
     "shell.execute_reply": "2024-08-15T05:42:13.522451Z"
    },
    "papermill": {
     "duration": 0.724883,
     "end_time": "2024-08-15T05:42:13.526056",
     "exception": false,
     "start_time": "2024-08-15T05:42:12.801173",
     "status": "completed"
    },
    "tags": []
   },
   "outputs": [],
   "source": [
    "def build_dataset(words):\n",
    "    block_size = 3 # context length : how many characters do we take to predict next one\n",
    "    X, Y       = [],[]\n",
    "\n",
    "    for w in words:\n",
    "        #print(w)\n",
    "        context = [0] * block_size\n",
    "        for ch in w + '.':\n",
    "            ix = stoi[ch]\n",
    "            X.append(context)\n",
    "            Y.append(ix)\n",
    "            #print(''.join(itos[i] for i in context), '----->', itos[ix])\n",
    "            context = context[1:] + [ix] #crop and apppend\n",
    "\n",
    "    X = torch.tensor(X)\n",
    "    Y = torch.tensor(Y)\n",
    "    \n",
    "    return X,Y\n",
    "\n",
    "import random\n",
    "random.seed(42)\n",
    "random.shuffle(words)\n",
    "\n",
    "n1 = int(0.8*len(words))\n",
    "n2 = int(0.9*len(words))\n",
    "\n",
    "Xtr, Ytr   = build_dataset(words[:n1])\n",
    "Xval, Yval = build_dataset(words[n1:n2])\n",
    "Xte, Yte   = build_dataset(words[n2])"
   ]
  },
  {
   "cell_type": "markdown",
   "id": "7dbfb83c",
   "metadata": {
    "papermill": {
     "duration": 0.004477,
     "end_time": "2024-08-15T05:42:13.535538",
     "exception": false,
     "start_time": "2024-08-15T05:42:13.531061",
     "status": "completed"
    },
    "tags": []
   },
   "source": [
    "## Initialize weights"
   ]
  },
  {
   "cell_type": "code",
   "execution_count": 6,
   "id": "60240c88",
   "metadata": {
    "execution": {
     "iopub.execute_input": "2024-08-15T05:42:13.546767Z",
     "iopub.status.busy": "2024-08-15T05:42:13.546319Z",
     "iopub.status.idle": "2024-08-15T05:42:13.591614Z",
     "shell.execute_reply": "2024-08-15T05:42:13.590570Z"
    },
    "papermill": {
     "duration": 0.053896,
     "end_time": "2024-08-15T05:42:13.594227",
     "exception": false,
     "start_time": "2024-08-15T05:42:13.540331",
     "status": "completed"
    },
    "tags": []
   },
   "outputs": [],
   "source": [
    "n_hidden   = 64 # the number of neurons in the hidden layer of the MLP\n",
    "vocab_size = 27\n",
    "n_embd     = 10 # the dimensionality of the character embedding vectors\n",
    "block_size = 3\n",
    "\n",
    "g = torch.Generator().manual_seed(2147483647) # for reproducability\n",
    "C = torch.randn((vocab_size, n_embd), generator=g)\n",
    "\n",
    "W1 = torch.randn((n_embd * block_size, n_hidden), generator=g) * (5/3)/((n_embd * block_size) ** 0.5) #kamming dist \n",
    "b1 = torch.randn((n_hidden), generator=g) * 0.1 #for making initial weights near to zero to mask un uinform distribution\n",
    "\n",
    "W2 = torch.randn((n_hidden, vocab_size), generator=g) * 0.1\n",
    "b2 = torch.randn((vocab_size), generator=g) * 0.1\n",
    "\n",
    "bngain = torch.ones((1,n_hidden)) * 0.1 + 0.1   #Batch normalization trainable parameter\n",
    "bnbias = torch.zeros((1,n_hidden)) * 0.1  #Batch normalization trainable parameter\n",
    "\n",
    "bnmean_running = torch.zeros((1,n_hidden))\n",
    "bnstd_running  = torch.ones((1,n_hidden))\n",
    "\n",
    "parameters = [C, W1, b1, W2, b2, bngain, bnbias]\n",
    "for p in parameters:\n",
    "    p.requires_grad = True"
   ]
  },
  {
   "cell_type": "markdown",
   "id": "9ccea699",
   "metadata": {
    "papermill": {
     "duration": 0.004965,
     "end_time": "2024-08-15T05:42:13.604183",
     "exception": false,
     "start_time": "2024-08-15T05:42:13.599218",
     "status": "completed"
    },
    "tags": []
   },
   "source": [
    "## Training loop"
   ]
  },
  {
   "cell_type": "code",
   "execution_count": 7,
   "id": "da60bf5e",
   "metadata": {
    "execution": {
     "iopub.execute_input": "2024-08-15T05:42:13.615587Z",
     "iopub.status.busy": "2024-08-15T05:42:13.615201Z",
     "iopub.status.idle": "2024-08-15T05:42:13.631422Z",
     "shell.execute_reply": "2024-08-15T05:42:13.630516Z"
    },
    "papermill": {
     "duration": 0.024545,
     "end_time": "2024-08-15T05:42:13.633738",
     "exception": false,
     "start_time": "2024-08-15T05:42:13.609193",
     "status": "completed"
    },
    "tags": []
   },
   "outputs": [],
   "source": [
    "batch_size = 32\n",
    "n = batch_size\n",
    "# minibatch\n",
    "ix     = torch.randint(0, Xtr.shape[0], (batch_size,), generator=g)\n",
    "Xb, Yb = Xtr[ix], Ytr[ix]"
   ]
  },
  {
   "cell_type": "code",
   "execution_count": 8,
   "id": "a23843aa",
   "metadata": {
    "execution": {
     "iopub.execute_input": "2024-08-15T05:42:13.645245Z",
     "iopub.status.busy": "2024-08-15T05:42:13.644862Z",
     "iopub.status.idle": "2024-08-15T05:42:13.741584Z",
     "shell.execute_reply": "2024-08-15T05:42:13.740472Z"
    },
    "papermill": {
     "duration": 0.105057,
     "end_time": "2024-08-15T05:42:13.743788",
     "exception": false,
     "start_time": "2024-08-15T05:42:13.638731",
     "status": "completed"
    },
    "tags": []
   },
   "outputs": [
    {
     "data": {
      "text/plain": [
       "tensor(3.2848, grad_fn=<NegBackward0>)"
      ]
     },
     "execution_count": 8,
     "metadata": {},
     "output_type": "execute_result"
    }
   ],
   "source": [
    "#forward pass \"chunkated\" into smaller steps that are possible to backward one at a time\n",
    "emb     = C[Xb] #embed the characters into the vectors\n",
    "embcat  = emb.view(emb.shape[0], -1) # concate the vectors\n",
    "\n",
    "#Linear layer 1\n",
    "hprebn  = embcat @ W1 + b1 #hidden layer pre activation\n",
    "\n",
    "#------------------------------- BatchNorm layer -------------------------------\n",
    "bnmeani   = 1/n*hprebn.sum(0, keepdim=True)\n",
    "bndiff    = hprebn - bnmeani\n",
    "bndiff2   = bndiff**2\n",
    "bnvar     = 1/(n-1)*(bndiff2).sum(0, keepdim=True) # note: Bessel's correction (dividing by n-1, not n)\n",
    "bnvar_inv = (bnvar + 1e-5)**-0.5 #?? (bnvar + 0.00001)/2\n",
    "bnraw     = bndiff * bnvar_inv\n",
    "hpreact   = bngain * bnraw + bnbias\n",
    "#------------------------------------------------------------------------------\n",
    "#Non linearity\n",
    "h       = torch.tanh(hpreact) #hidden layer\n",
    "\n",
    "#Linear layer 2\n",
    "logits  = h @ W2 + b2 # output layer\n",
    "#print(logits[0])\n",
    "\n",
    "#-----------------------------loss function------------------------------------------------\n",
    "\n",
    "logit_maxes    = logits.max(1, keepdim=True).values\n",
    "norm_logits    = logits - logit_maxes # subtract max for numerical stability cause high values lead to instability as we are exponentiating them\n",
    "#print(norm_logits[0])\n",
    "counts         = norm_logits.exp() #converted to 0-1\n",
    "#print(counts)\n",
    "counts_sum     = counts.sum(1, keepdims=True)\n",
    "# print(counts_sum)\n",
    "counts_sum_inv = counts_sum**-1 # if I use (1.0 / counts_sum) instead then I can't get backprop to be bit exact...\n",
    "# print(counts_sum_inv)\n",
    "probs          = counts * counts_sum_inv\n",
    "# print(probs)\n",
    "logprobs       = probs.log()\n",
    "#print(logprobs) #logits become -ve now\n",
    "loss           = -logprobs[range(n), Yb].mean()\n",
    "#-----------------------------------------------------------------------------\n",
    "\n",
    "#Backward pass\n",
    "for p in parameters:\n",
    "    p.grad = None\n",
    "    \n",
    "for t in [logprobs, probs, counts, counts_sum, counts_sum_inv, # afaik there is no cleaner way\n",
    "          norm_logits, logit_maxes, logits, h, hpreact, bnraw,\n",
    "         bnvar_inv, bnvar, bndiff2, bndiff, hprebn, bnmeani,\n",
    "         embcat, emb]:\n",
    "    t.retain_grad()\n",
    "loss.backward()\n",
    "loss"
   ]
  },
  {
   "cell_type": "code",
   "execution_count": 9,
   "id": "9746d086",
   "metadata": {
    "execution": {
     "iopub.execute_input": "2024-08-15T05:42:13.755792Z",
     "iopub.status.busy": "2024-08-15T05:42:13.754912Z",
     "iopub.status.idle": "2024-08-15T05:42:13.759452Z",
     "shell.execute_reply": "2024-08-15T05:42:13.758390Z"
    },
    "papermill": {
     "duration": 0.012786,
     "end_time": "2024-08-15T05:42:13.761564",
     "exception": false,
     "start_time": "2024-08-15T05:42:13.748778",
     "status": "completed"
    },
    "tags": []
   },
   "outputs": [],
   "source": [
    "# logprobs[(0,1),(0,1)]"
   ]
  },
  {
   "cell_type": "code",
   "execution_count": 10,
   "id": "4c468f86",
   "metadata": {
    "execution": {
     "iopub.execute_input": "2024-08-15T05:42:13.773905Z",
     "iopub.status.busy": "2024-08-15T05:42:13.773019Z",
     "iopub.status.idle": "2024-08-15T05:42:13.779129Z",
     "shell.execute_reply": "2024-08-15T05:42:13.778042Z"
    },
    "papermill": {
     "duration": 0.014625,
     "end_time": "2024-08-15T05:42:13.781415",
     "exception": false,
     "start_time": "2024-08-15T05:42:13.766790",
     "status": "completed"
    },
    "tags": []
   },
   "outputs": [],
   "source": [
    "#utility function we are going to use later for comparing manual gradients with PyTorch gradients\n",
    "def cmp(s, dt, t):\n",
    "    ex      = torch.all(dt == t.grad).item() # Extractly equal : checking if all values are equal by precision also if yes it retruns boolean value as .item()\n",
    "    app     = torch.allclose(dt, t.grad)     # Approximatly equal by precision level is ignored\n",
    "    maxdiff = (dt - t.grad).abs().max().item() # highest absolute diffrence\n",
    "    print(f'{s:15s} | exact: {str(ex):5s} | approximate: {str(app):5s} | maxdiff: {maxdiff}')"
   ]
  },
  {
   "cell_type": "code",
   "execution_count": 11,
   "id": "a9a4a896",
   "metadata": {
    "execution": {
     "iopub.execute_input": "2024-08-15T05:42:13.793334Z",
     "iopub.status.busy": "2024-08-15T05:42:13.792569Z",
     "iopub.status.idle": "2024-08-15T05:42:13.809385Z",
     "shell.execute_reply": "2024-08-15T05:42:13.807927Z"
    },
    "papermill": {
     "duration": 0.025054,
     "end_time": "2024-08-15T05:42:13.811524",
     "exception": false,
     "start_time": "2024-08-15T05:42:13.786470",
     "status": "completed"
    },
    "tags": []
   },
   "outputs": [
    {
     "name": "stdout",
     "output_type": "stream",
     "text": [
      "logprobs        | exact: True  | approximate: True  | maxdiff: 0.0\n",
      "probs           | exact: True  | approximate: True  | maxdiff: 0.0\n",
      "counts_sum_inv  | exact: True  | approximate: True  | maxdiff: 0.0\n",
      "counts_sum      | exact: True  | approximate: True  | maxdiff: 0.0\n",
      "dcounts         | exact: False | approximate: False | maxdiff: 0.0021077580749988556\n"
     ]
    }
   ],
   "source": [
    "# Exercise 1: backprop through the whole thing manually, \n",
    "# backpropagating through exactly all of the variables \n",
    "# as they are defined in the forward pass above, one by one\n",
    "\n",
    "dlogprobs               = torch.zeros_like(logprobs)\n",
    "dlogprobs[range(n), Yb] = -1.0 / n                          #d(loss)/d(logprobs) = -1/n\n",
    "dprobs                  = (1.0 / probs) * dlogprobs         #d/dx log(x)         = 1/x   # Boosting the gradients where probs is low if it is 1 then we just pass grads in back layer\n",
    "dcounts_sum_inv         = (counts * dprobs).sum(1, keepdim=True) # count : (32,27) * (32,1) using broadcasting for sum operation\n",
    "dcounts                 = counts_sum_inv * dprobs\n",
    "dcounts_sum             = (-counts_sum**-2) * dcounts_sum_inv #d(x**-1)/dx = -1/x**2 \n",
    "\n",
    "cmp('logprobs', dlogprobs, logprobs)\n",
    "cmp('probs', dprobs, probs)\n",
    "cmp('counts_sum_inv', dcounts_sum_inv, counts_sum_inv)\n",
    "cmp('counts_sum', dcounts_sum, counts_sum)\n",
    "cmp('dcounts', dcounts, counts)"
   ]
  },
  {
   "cell_type": "code",
   "execution_count": null,
   "id": "9ff3f447",
   "metadata": {
    "papermill": {
     "duration": 0.004763,
     "end_time": "2024-08-15T05:42:13.821308",
     "exception": false,
     "start_time": "2024-08-15T05:42:13.816545",
     "status": "completed"
    },
    "tags": []
   },
   "outputs": [],
   "source": []
  }
 ],
 "metadata": {
  "kaggle": {
   "accelerator": "none",
   "dataSources": [
    {
     "databundleVersionId": 9094797,
     "sourceId": 63056,
     "sourceType": "competition"
    },
    {
     "datasetId": 5447273,
     "sourceId": 9036689,
     "sourceType": "datasetVersion"
    }
   ],
   "dockerImageVersionId": 30746,
   "isGpuEnabled": false,
   "isInternetEnabled": true,
   "language": "python",
   "sourceType": "notebook"
  },
  "kernelspec": {
   "display_name": "Python 3",
   "language": "python",
   "name": "python3"
  },
  "language_info": {
   "codemirror_mode": {
    "name": "ipython",
    "version": 3
   },
   "file_extension": ".py",
   "mimetype": "text/x-python",
   "name": "python",
   "nbconvert_exporter": "python",
   "pygments_lexer": "ipython3",
   "version": "3.10.13"
  },
  "papermill": {
   "default_parameters": {},
   "duration": 7.700286,
   "end_time": "2024-08-15T05:42:14.648591",
   "environment_variables": {},
   "exception": null,
   "input_path": "__notebook__.ipynb",
   "output_path": "__notebook__.ipynb",
   "parameters": {},
   "start_time": "2024-08-15T05:42:06.948305",
   "version": "2.5.0"
  }
 },
 "nbformat": 4,
 "nbformat_minor": 5
}
