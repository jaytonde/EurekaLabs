{
 "cells": [
  {
   "cell_type": "code",
   "execution_count": null,
   "id": "e22a1ee4",
   "metadata": {
    "papermill": {
     "duration": 0.006838,
     "end_time": "2024-08-15T03:25:52.503081",
     "exception": false,
     "start_time": "2024-08-15T03:25:52.496243",
     "status": "completed"
    },
    "tags": []
   },
   "outputs": [],
   "source": []
  },
  {
   "cell_type": "markdown",
   "id": "e5d32421",
   "metadata": {
    "papermill": {
     "duration": 0.005758,
     "end_time": "2024-08-15T03:25:52.515227",
     "exception": false,
     "start_time": "2024-08-15T03:25:52.509469",
     "status": "completed"
    },
    "tags": []
   },
   "source": [
    "## Imports"
   ]
  },
  {
   "cell_type": "code",
   "execution_count": 1,
   "id": "9e0e3669",
   "metadata": {
    "execution": {
     "iopub.execute_input": "2024-08-15T03:25:52.528608Z",
     "iopub.status.busy": "2024-08-15T03:25:52.528203Z",
     "iopub.status.idle": "2024-08-15T03:25:56.122320Z",
     "shell.execute_reply": "2024-08-15T03:25:56.121345Z"
    },
    "papermill": {
     "duration": 3.603967,
     "end_time": "2024-08-15T03:25:56.125053",
     "exception": false,
     "start_time": "2024-08-15T03:25:52.521086",
     "status": "completed"
    },
    "tags": []
   },
   "outputs": [],
   "source": [
    "import torch\n",
    "from tqdm import tqdm\n",
    "import torch.nn.functional as F\n",
    "import matplotlib.pyplot as plt\n",
    "%matplotlib inline \n",
    "# %matplotlib inline to creating seperate window for matplotlib figures it will draw it in cell output instead"
   ]
  },
  {
   "cell_type": "markdown",
   "id": "b99d4815",
   "metadata": {
    "papermill": {
     "duration": 0.006551,
     "end_time": "2024-08-15T03:25:56.137668",
     "exception": false,
     "start_time": "2024-08-15T03:25:56.131117",
     "status": "completed"
    },
    "tags": []
   },
   "source": [
    "## Read Dataset"
   ]
  },
  {
   "cell_type": "code",
   "execution_count": 2,
   "id": "69e51dcf",
   "metadata": {
    "execution": {
     "iopub.execute_input": "2024-08-15T03:25:56.155518Z",
     "iopub.status.busy": "2024-08-15T03:25:56.154936Z",
     "iopub.status.idle": "2024-08-15T03:25:56.186209Z",
     "shell.execute_reply": "2024-08-15T03:25:56.184612Z"
    },
    "papermill": {
     "duration": 0.044618,
     "end_time": "2024-08-15T03:25:56.190286",
     "exception": false,
     "start_time": "2024-08-15T03:25:56.145668",
     "status": "completed"
    },
    "tags": []
   },
   "outputs": [
    {
     "data": {
      "text/plain": [
       "['emma', 'olivia', 'ava', 'isabella', 'sophia', 'charlotte', 'mia', 'amelia']"
      ]
     },
     "execution_count": 2,
     "metadata": {},
     "output_type": "execute_result"
    }
   ],
   "source": [
    "words = open(\"/kaggle/input/eureka-labs/names.txt\",\"r\").read().splitlines()\n",
    "words[:8]"
   ]
  },
  {
   "cell_type": "code",
   "execution_count": 3,
   "id": "6c48b736",
   "metadata": {
    "execution": {
     "iopub.execute_input": "2024-08-15T03:25:56.208926Z",
     "iopub.status.busy": "2024-08-15T03:25:56.208511Z",
     "iopub.status.idle": "2024-08-15T03:25:56.215234Z",
     "shell.execute_reply": "2024-08-15T03:25:56.214198Z"
    },
    "papermill": {
     "duration": 0.020268,
     "end_time": "2024-08-15T03:25:56.217601",
     "exception": false,
     "start_time": "2024-08-15T03:25:56.197333",
     "status": "completed"
    },
    "tags": []
   },
   "outputs": [
    {
     "data": {
      "text/plain": [
       "32033"
      ]
     },
     "execution_count": 3,
     "metadata": {},
     "output_type": "execute_result"
    }
   ],
   "source": [
    "len(words)"
   ]
  },
  {
   "cell_type": "markdown",
   "id": "9a4d038b",
   "metadata": {
    "papermill": {
     "duration": 0.005887,
     "end_time": "2024-08-15T03:25:56.229789",
     "exception": false,
     "start_time": "2024-08-15T03:25:56.223902",
     "status": "completed"
    },
    "tags": []
   },
   "source": [
    "## char to id"
   ]
  },
  {
   "cell_type": "code",
   "execution_count": 4,
   "id": "f4cc791b",
   "metadata": {
    "execution": {
     "iopub.execute_input": "2024-08-15T03:25:56.244299Z",
     "iopub.status.busy": "2024-08-15T03:25:56.243880Z",
     "iopub.status.idle": "2024-08-15T03:25:56.256084Z",
     "shell.execute_reply": "2024-08-15T03:25:56.254462Z"
    },
    "papermill": {
     "duration": 0.023064,
     "end_time": "2024-08-15T03:25:56.258969",
     "exception": false,
     "start_time": "2024-08-15T03:25:56.235905",
     "status": "completed"
    },
    "tags": []
   },
   "outputs": [
    {
     "name": "stdout",
     "output_type": "stream",
     "text": [
      "{1: 'a', 2: 'b', 3: 'c', 4: 'd', 5: 'e', 6: 'f', 7: 'g', 8: 'h', 9: 'i', 10: 'j', 11: 'k', 12: 'l', 13: 'm', 14: 'n', 15: 'o', 16: 'p', 17: 'q', 18: 'r', 19: 's', 20: 't', 21: 'u', 22: 'v', 23: 'w', 24: 'x', 25: 'y', 26: 'z', 0: '.'}\n"
     ]
    }
   ],
   "source": [
    "chars     = sorted(list(set(''.join(words))))\n",
    "stoi      = {s:i+1 for i,s in enumerate(chars)}\n",
    "stoi['.'] = 0\n",
    "itos      = {i:s for s,i in stoi.items()}\n",
    "print(itos)"
   ]
  },
  {
   "cell_type": "markdown",
   "id": "e36ebfd4",
   "metadata": {
    "papermill": {
     "duration": 0.007481,
     "end_time": "2024-08-15T03:25:56.275390",
     "exception": false,
     "start_time": "2024-08-15T03:25:56.267909",
     "status": "completed"
    },
    "tags": []
   },
   "source": [
    "## Dataset"
   ]
  },
  {
   "cell_type": "code",
   "execution_count": 5,
   "id": "58e73434",
   "metadata": {
    "execution": {
     "iopub.execute_input": "2024-08-15T03:25:56.293217Z",
     "iopub.status.busy": "2024-08-15T03:25:56.292123Z",
     "iopub.status.idle": "2024-08-15T03:25:57.354667Z",
     "shell.execute_reply": "2024-08-15T03:25:57.353473Z"
    },
    "papermill": {
     "duration": 1.074012,
     "end_time": "2024-08-15T03:25:57.358167",
     "exception": false,
     "start_time": "2024-08-15T03:25:56.284155",
     "status": "completed"
    },
    "tags": []
   },
   "outputs": [],
   "source": [
    "def build_dataset(words):\n",
    "    block_size = 3 # context length : how many characters do we take to predict next one\n",
    "    X, Y       = [],[]\n",
    "\n",
    "    for w in words:\n",
    "        #print(w)\n",
    "        context = [0] * block_size\n",
    "        for ch in w + '.':\n",
    "            ix = stoi[ch]\n",
    "            X.append(context)\n",
    "            Y.append(ix)\n",
    "            #print(''.join(itos[i] for i in context), '----->', itos[ix])\n",
    "            context = context[1:] + [ix] #crop and apppend\n",
    "\n",
    "    X = torch.tensor(X)\n",
    "    Y = torch.tensor(Y)\n",
    "    \n",
    "    return X,Y\n",
    "\n",
    "import random\n",
    "random.seed(42)\n",
    "random.shuffle(words)\n",
    "\n",
    "n1 = int(0.8*len(words))\n",
    "n2 = int(0.9*len(words))\n",
    "\n",
    "Xtr, Ytr   = build_dataset(words[:n1])\n",
    "Xval, Yval = build_dataset(words[n1:n2])\n",
    "Xte, Yte   = build_dataset(words[n2])"
   ]
  },
  {
   "cell_type": "markdown",
   "id": "2d6e28f2",
   "metadata": {
    "papermill": {
     "duration": 0.006839,
     "end_time": "2024-08-15T03:25:57.374194",
     "exception": false,
     "start_time": "2024-08-15T03:25:57.367355",
     "status": "completed"
    },
    "tags": []
   },
   "source": [
    "## Initialize weights"
   ]
  },
  {
   "cell_type": "code",
   "execution_count": 6,
   "id": "09b04461",
   "metadata": {
    "execution": {
     "iopub.execute_input": "2024-08-15T03:25:57.389074Z",
     "iopub.status.busy": "2024-08-15T03:25:57.388623Z",
     "iopub.status.idle": "2024-08-15T03:25:57.395177Z",
     "shell.execute_reply": "2024-08-15T03:25:57.394098Z"
    },
    "papermill": {
     "duration": 0.017162,
     "end_time": "2024-08-15T03:25:57.397946",
     "exception": false,
     "start_time": "2024-08-15T03:25:57.380784",
     "status": "completed"
    },
    "tags": []
   },
   "outputs": [],
   "source": [
    "#utility function we are going to use later for comparing manual gradients with PyTorch gradients\n",
    "def cmp(s, dt, t):\n",
    "    torch.all(dt == t.grad).item()\n",
    "    app     = torch.allclose(dt, t.grad)\n",
    "    maxdiff = (dt - t.grad).asb().max().item()\n",
    "    print(f'{s:15s} | exact: {str(ex):5s} | approximate: {str(app):5s} | maxdiff: {maxdiff}')"
   ]
  },
  {
   "cell_type": "code",
   "execution_count": 7,
   "id": "2cf8f369",
   "metadata": {
    "execution": {
     "iopub.execute_input": "2024-08-15T03:25:57.417596Z",
     "iopub.status.busy": "2024-08-15T03:25:57.417195Z",
     "iopub.status.idle": "2024-08-15T03:25:57.474482Z",
     "shell.execute_reply": "2024-08-15T03:25:57.473171Z"
    },
    "papermill": {
     "duration": 0.070635,
     "end_time": "2024-08-15T03:25:57.477580",
     "exception": false,
     "start_time": "2024-08-15T03:25:57.406945",
     "status": "completed"
    },
    "tags": []
   },
   "outputs": [],
   "source": [
    "n_hidden   = 64 # the number of neurons in the hidden layer of the MLP\n",
    "vocab_size = 27\n",
    "n_embd     = 10 # the dimensionality of the character embedding vectors\n",
    "block_size = 3\n",
    "\n",
    "g = torch.Generator().manual_seed(2147483647) # for reproducability\n",
    "C = torch.randn((vocab_size, n_embd), generator=g)\n",
    "\n",
    "W1 = torch.randn((n_embd * block_size, n_hidden), generator=g) * (5/3)/((n_embd * block_size) ** 0.5) #kamming dist \n",
    "b1 = torch.randn((n_hidden), generator=g) * 0.1 #for making initial weights near to zero to mask un uinform distribution\n",
    "\n",
    "W2 = torch.randn((n_hidden, vocab_size), generator=g) * 0.1\n",
    "b2 = torch.randn((vocab_size), generator=g) * 0.1\n",
    "\n",
    "bngain = torch.ones((1,n_hidden)) * 0.1 + 0.1   #Batch normalization trainable parameter\n",
    "bnbias = torch.zeros((1,n_hidden)) * 0.1  #Batch normalization trainable parameter\n",
    "\n",
    "bnmean_running = torch.zeros((1,n_hidden))\n",
    "bnstd_running  = torch.ones((1,n_hidden))\n",
    "\n",
    "parameters = [C, W1, b1, W2, b2, bngain, bnbias]\n",
    "for p in parameters:\n",
    "    p.requires_grad = True"
   ]
  },
  {
   "cell_type": "markdown",
   "id": "b26475b9",
   "metadata": {
    "papermill": {
     "duration": 0.006616,
     "end_time": "2024-08-15T03:25:57.490989",
     "exception": false,
     "start_time": "2024-08-15T03:25:57.484373",
     "status": "completed"
    },
    "tags": []
   },
   "source": [
    "## Training loop"
   ]
  },
  {
   "cell_type": "code",
   "execution_count": 8,
   "id": "43126b99",
   "metadata": {
    "execution": {
     "iopub.execute_input": "2024-08-15T03:25:57.506890Z",
     "iopub.status.busy": "2024-08-15T03:25:57.505973Z",
     "iopub.status.idle": "2024-08-15T03:25:57.525255Z",
     "shell.execute_reply": "2024-08-15T03:25:57.524152Z"
    },
    "papermill": {
     "duration": 0.029956,
     "end_time": "2024-08-15T03:25:57.527803",
     "exception": false,
     "start_time": "2024-08-15T03:25:57.497847",
     "status": "completed"
    },
    "tags": []
   },
   "outputs": [],
   "source": [
    "batch_size = 32\n",
    "n = batch_size\n",
    "# minibatch\n",
    "ix     = torch.randint(0, Xtr.shape[0], (batch_size,), generator=g)\n",
    "Xb, Yb = Xtr[ix], Ytr[ix]"
   ]
  },
  {
   "cell_type": "code",
   "execution_count": 9,
   "id": "1a9e6b3d",
   "metadata": {
    "execution": {
     "iopub.execute_input": "2024-08-15T03:25:57.542876Z",
     "iopub.status.busy": "2024-08-15T03:25:57.542397Z",
     "iopub.status.idle": "2024-08-15T03:25:57.661268Z",
     "shell.execute_reply": "2024-08-15T03:25:57.660146Z"
    },
    "papermill": {
     "duration": 0.130325,
     "end_time": "2024-08-15T03:25:57.664484",
     "exception": false,
     "start_time": "2024-08-15T03:25:57.534159",
     "status": "completed"
    },
    "tags": []
   },
   "outputs": [
    {
     "data": {
      "text/plain": [
       "tensor(3.2848, grad_fn=<NegBackward0>)"
      ]
     },
     "execution_count": 9,
     "metadata": {},
     "output_type": "execute_result"
    }
   ],
   "source": [
    "#forward pass \"chunkated\" into smaller steps that are possible to backward one at a time\n",
    "emb     = C[Xb] #embed the characters into the vectors\n",
    "embcat  = emb.view(emb.shape[0], -1) # concate the vectors\n",
    "\n",
    "#Linear layer 1\n",
    "hprebn  = embcat @ W1 + b1 #hidden layer pre activation\n",
    "\n",
    "#------------------------------- BatchNorm layer -------------------------------\n",
    "bnmeani   = 1/n*hprebn.sum(0, keepdim=True)\n",
    "bndiff    = hprebn - bnmeani\n",
    "bndiff2   = bndiff**2\n",
    "bnvar     = 1/(n-1)*(bndiff2).sum(0, keepdim=True) # note: Bessel's correction (dividing by n-1, not n)\n",
    "bnvar_inv = (bnvar + 1e-5)**-0.5 #??\n",
    "bnraw     = bndiff * bnvar_inv\n",
    "hpreact   = bngain * bnraw + bnbias\n",
    "#------------------------------------------------------------------------------\n",
    "#Non linearity\n",
    "h       = torch.tanh(hpreact) #hidden layer\n",
    "\n",
    "#Linear layer 2\n",
    "logits  = h @ W2 + b2 # output layer\n",
    "#print(logits[0])\n",
    "\n",
    "#-----------------------------loss function------------------------------------------------\n",
    "\n",
    "logit_maxes    = logits.max(1, keepdim=True).values\n",
    "norm_logits    = logits - logit_maxes # subtract max for numerical stability\n",
    "#print(norm_logits[0])\n",
    "counts         = norm_logits.exp() #converted to 0-1\n",
    "#print(counts)\n",
    "counts_sum     = counts.sum(1, keepdims=True)\n",
    "# print(counts_sum)\n",
    "counts_sum_inv = counts_sum**-1 # if I use (1.0 / counts_sum) instead then I can't get backprop to be bit exact...\n",
    "# print(counts_sum_inv)\n",
    "probs          = counts * counts_sum_inv\n",
    "# print(probs)\n",
    "logprobs       = probs.log()\n",
    "#print(logprobs) #logits become -ve now\n",
    "loss           = -logprobs[range(n), Yb].mean()\n",
    "#-----------------------------------------------------------------------------\n",
    "\n",
    "#Backward pass\n",
    "for p in parameters:\n",
    "    p.grad = None\n",
    "    \n",
    "for t in [logprobs, probs, counts, counts_sum, counts_sum_inv, # afaik there is no cleaner way\n",
    "          norm_logits, logit_maxes, logits, h, hpreact, bnraw,\n",
    "         bnvar_inv, bnvar, bndiff2, bndiff, hprebn, bnmeani,\n",
    "         embcat, emb]:\n",
    "    t.retain_grad()\n",
    "loss.backward()\n",
    "loss"
   ]
  },
  {
   "cell_type": "code",
   "execution_count": 10,
   "id": "001615b9",
   "metadata": {
    "execution": {
     "iopub.execute_input": "2024-08-15T03:25:57.680104Z",
     "iopub.status.busy": "2024-08-15T03:25:57.679065Z",
     "iopub.status.idle": "2024-08-15T03:25:57.684023Z",
     "shell.execute_reply": "2024-08-15T03:25:57.682908Z"
    },
    "papermill": {
     "duration": 0.015091,
     "end_time": "2024-08-15T03:25:57.686351",
     "exception": false,
     "start_time": "2024-08-15T03:25:57.671260",
     "status": "completed"
    },
    "tags": []
   },
   "outputs": [],
   "source": [
    "# Exercise 1: backprop through the whole thing manually, \n",
    "# backpropagating through exactly all of the variables \n",
    "# as they are defined in the forward pass above, one by one"
   ]
  },
  {
   "cell_type": "code",
   "execution_count": null,
   "id": "d724e6d8",
   "metadata": {
    "papermill": {
     "duration": 0.006302,
     "end_time": "2024-08-15T03:25:57.699520",
     "exception": false,
     "start_time": "2024-08-15T03:25:57.693218",
     "status": "completed"
    },
    "tags": []
   },
   "outputs": [],
   "source": []
  }
 ],
 "metadata": {
  "kaggle": {
   "accelerator": "none",
   "dataSources": [
    {
     "databundleVersionId": 9094797,
     "sourceId": 63056,
     "sourceType": "competition"
    },
    {
     "datasetId": 5447273,
     "sourceId": 9036689,
     "sourceType": "datasetVersion"
    }
   ],
   "dockerImageVersionId": 30746,
   "isGpuEnabled": false,
   "isInternetEnabled": true,
   "language": "python",
   "sourceType": "notebook"
  },
  "kernelspec": {
   "display_name": "Python 3",
   "language": "python",
   "name": "python3"
  },
  "language_info": {
   "codemirror_mode": {
    "name": "ipython",
    "version": 3
   },
   "file_extension": ".py",
   "mimetype": "text/x-python",
   "name": "python",
   "nbconvert_exporter": "python",
   "pygments_lexer": "ipython3",
   "version": "3.10.13"
  },
  "papermill": {
   "default_parameters": {},
   "duration": 9.385998,
   "end_time": "2024-08-15T03:25:58.528362",
   "environment_variables": {},
   "exception": null,
   "input_path": "__notebook__.ipynb",
   "output_path": "__notebook__.ipynb",
   "parameters": {},
   "start_time": "2024-08-15T03:25:49.142364",
   "version": "2.5.0"
  }
 },
 "nbformat": 4,
 "nbformat_minor": 5
}
