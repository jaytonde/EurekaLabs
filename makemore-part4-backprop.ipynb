{
 "cells": [
  {
   "cell_type": "code",
   "execution_count": null,
   "id": "15bf0412",
   "metadata": {
    "papermill": {
     "duration": 0.004631,
     "end_time": "2024-08-15T02:52:36.225219",
     "exception": false,
     "start_time": "2024-08-15T02:52:36.220588",
     "status": "completed"
    },
    "tags": []
   },
   "outputs": [],
   "source": []
  },
  {
   "cell_type": "markdown",
   "id": "408d9144",
   "metadata": {
    "papermill": {
     "duration": 0.004086,
     "end_time": "2024-08-15T02:52:36.233985",
     "exception": false,
     "start_time": "2024-08-15T02:52:36.229899",
     "status": "completed"
    },
    "tags": []
   },
   "source": [
    "## Imports"
   ]
  },
  {
   "cell_type": "code",
   "execution_count": 1,
   "id": "087d8fc2",
   "metadata": {
    "execution": {
     "iopub.execute_input": "2024-08-15T02:52:36.244626Z",
     "iopub.status.busy": "2024-08-15T02:52:36.244133Z",
     "iopub.status.idle": "2024-08-15T02:52:39.816028Z",
     "shell.execute_reply": "2024-08-15T02:52:39.814986Z"
    },
    "papermill": {
     "duration": 3.580187,
     "end_time": "2024-08-15T02:52:39.818702",
     "exception": false,
     "start_time": "2024-08-15T02:52:36.238515",
     "status": "completed"
    },
    "tags": []
   },
   "outputs": [],
   "source": [
    "import torch\n",
    "from tqdm import tqdm\n",
    "import torch.nn.functional as F\n",
    "import matplotlib.pyplot as plt\n",
    "%matplotlib inline \n",
    "# %matplotlib inline to creating seperate window for matplotlib figures it will draw it in cell output instead"
   ]
  },
  {
   "cell_type": "markdown",
   "id": "3020f729",
   "metadata": {
    "papermill": {
     "duration": 0.004112,
     "end_time": "2024-08-15T02:52:39.827419",
     "exception": false,
     "start_time": "2024-08-15T02:52:39.823307",
     "status": "completed"
    },
    "tags": []
   },
   "source": [
    "## Read Dataset"
   ]
  },
  {
   "cell_type": "code",
   "execution_count": 2,
   "id": "47115862",
   "metadata": {
    "execution": {
     "iopub.execute_input": "2024-08-15T02:52:39.837841Z",
     "iopub.status.busy": "2024-08-15T02:52:39.837318Z",
     "iopub.status.idle": "2024-08-15T02:52:39.857773Z",
     "shell.execute_reply": "2024-08-15T02:52:39.856585Z"
    },
    "papermill": {
     "duration": 0.028572,
     "end_time": "2024-08-15T02:52:39.860370",
     "exception": false,
     "start_time": "2024-08-15T02:52:39.831798",
     "status": "completed"
    },
    "tags": []
   },
   "outputs": [
    {
     "data": {
      "text/plain": [
       "['emma', 'olivia', 'ava', 'isabella', 'sophia', 'charlotte', 'mia', 'amelia']"
      ]
     },
     "execution_count": 2,
     "metadata": {},
     "output_type": "execute_result"
    }
   ],
   "source": [
    "words = open(\"/kaggle/input/eureka-labs/names.txt\",\"r\").read().splitlines()\n",
    "words[:8]"
   ]
  },
  {
   "cell_type": "code",
   "execution_count": 3,
   "id": "47a169ea",
   "metadata": {
    "execution": {
     "iopub.execute_input": "2024-08-15T02:52:39.871309Z",
     "iopub.status.busy": "2024-08-15T02:52:39.870898Z",
     "iopub.status.idle": "2024-08-15T02:52:39.878081Z",
     "shell.execute_reply": "2024-08-15T02:52:39.877074Z"
    },
    "papermill": {
     "duration": 0.015623,
     "end_time": "2024-08-15T02:52:39.880677",
     "exception": false,
     "start_time": "2024-08-15T02:52:39.865054",
     "status": "completed"
    },
    "tags": []
   },
   "outputs": [
    {
     "data": {
      "text/plain": [
       "32033"
      ]
     },
     "execution_count": 3,
     "metadata": {},
     "output_type": "execute_result"
    }
   ],
   "source": [
    "len(words)"
   ]
  },
  {
   "cell_type": "markdown",
   "id": "f29b8fcf",
   "metadata": {
    "papermill": {
     "duration": 0.004336,
     "end_time": "2024-08-15T02:52:39.889800",
     "exception": false,
     "start_time": "2024-08-15T02:52:39.885464",
     "status": "completed"
    },
    "tags": []
   },
   "source": [
    "## char to id"
   ]
  },
  {
   "cell_type": "code",
   "execution_count": 4,
   "id": "e160f892",
   "metadata": {
    "execution": {
     "iopub.execute_input": "2024-08-15T02:52:39.900874Z",
     "iopub.status.busy": "2024-08-15T02:52:39.900470Z",
     "iopub.status.idle": "2024-08-15T02:52:39.912777Z",
     "shell.execute_reply": "2024-08-15T02:52:39.911154Z"
    },
    "papermill": {
     "duration": 0.020524,
     "end_time": "2024-08-15T02:52:39.915020",
     "exception": false,
     "start_time": "2024-08-15T02:52:39.894496",
     "status": "completed"
    },
    "tags": []
   },
   "outputs": [
    {
     "name": "stdout",
     "output_type": "stream",
     "text": [
      "{1: 'a', 2: 'b', 3: 'c', 4: 'd', 5: 'e', 6: 'f', 7: 'g', 8: 'h', 9: 'i', 10: 'j', 11: 'k', 12: 'l', 13: 'm', 14: 'n', 15: 'o', 16: 'p', 17: 'q', 18: 'r', 19: 's', 20: 't', 21: 'u', 22: 'v', 23: 'w', 24: 'x', 25: 'y', 26: 'z', 0: '.'}\n"
     ]
    }
   ],
   "source": [
    "chars     = sorted(list(set(''.join(words))))\n",
    "stoi      = {s:i+1 for i,s in enumerate(chars)}\n",
    "stoi['.'] = 0\n",
    "itos      = {i:s for s,i in stoi.items()}\n",
    "print(itos)"
   ]
  },
  {
   "cell_type": "markdown",
   "id": "8f402a69",
   "metadata": {
    "papermill": {
     "duration": 0.004312,
     "end_time": "2024-08-15T02:52:39.924091",
     "exception": false,
     "start_time": "2024-08-15T02:52:39.919779",
     "status": "completed"
    },
    "tags": []
   },
   "source": [
    "## Dataset"
   ]
  },
  {
   "cell_type": "code",
   "execution_count": 5,
   "id": "f6183a47",
   "metadata": {
    "execution": {
     "iopub.execute_input": "2024-08-15T02:52:39.935220Z",
     "iopub.status.busy": "2024-08-15T02:52:39.934827Z",
     "iopub.status.idle": "2024-08-15T02:52:40.662594Z",
     "shell.execute_reply": "2024-08-15T02:52:40.661597Z"
    },
    "papermill": {
     "duration": 0.736438,
     "end_time": "2024-08-15T02:52:40.665254",
     "exception": false,
     "start_time": "2024-08-15T02:52:39.928816",
     "status": "completed"
    },
    "tags": []
   },
   "outputs": [],
   "source": [
    "def build_dataset(words):\n",
    "    block_size = 3 # context length : how many characters do we take to predict next one\n",
    "    X, Y       = [],[]\n",
    "\n",
    "    for w in words:\n",
    "        #print(w)\n",
    "        context = [0] * block_size\n",
    "        for ch in w + '.':\n",
    "            ix = stoi[ch]\n",
    "            X.append(context)\n",
    "            Y.append(ix)\n",
    "            #print(''.join(itos[i] for i in context), '----->', itos[ix])\n",
    "            context = context[1:] + [ix] #crop and apppend\n",
    "\n",
    "    X = torch.tensor(X)\n",
    "    Y = torch.tensor(Y)\n",
    "    \n",
    "    return X,Y\n",
    "\n",
    "import random\n",
    "random.seed(42)\n",
    "random.shuffle(words)\n",
    "\n",
    "n1 = int(0.8*len(words))\n",
    "n2 = int(0.9*len(words))\n",
    "\n",
    "Xtr, Ytr   = build_dataset(words[:n1])\n",
    "Xval, Yval = build_dataset(words[n1:n2])\n",
    "Xte, Yte   = build_dataset(words[n2])"
   ]
  },
  {
   "cell_type": "markdown",
   "id": "5add3443",
   "metadata": {
    "papermill": {
     "duration": 0.004291,
     "end_time": "2024-08-15T02:52:40.674244",
     "exception": false,
     "start_time": "2024-08-15T02:52:40.669953",
     "status": "completed"
    },
    "tags": []
   },
   "source": [
    "## Initialize weights"
   ]
  },
  {
   "cell_type": "code",
   "execution_count": 6,
   "id": "67ca240f",
   "metadata": {
    "execution": {
     "iopub.execute_input": "2024-08-15T02:52:40.685253Z",
     "iopub.status.busy": "2024-08-15T02:52:40.684874Z",
     "iopub.status.idle": "2024-08-15T02:52:40.690975Z",
     "shell.execute_reply": "2024-08-15T02:52:40.689923Z"
    },
    "papermill": {
     "duration": 0.014557,
     "end_time": "2024-08-15T02:52:40.693551",
     "exception": false,
     "start_time": "2024-08-15T02:52:40.678994",
     "status": "completed"
    },
    "tags": []
   },
   "outputs": [],
   "source": [
    "#utility function we are going to use later for comparing manual gradients with PyTorch gradients\n",
    "def cmp(s, dt, t):\n",
    "    torch.all(dt == t.grad).item()\n",
    "    app     = torch.allclose(dt, t.grad)\n",
    "    maxdiff = (dt - t.grad).asb().max().item()\n",
    "    print(f'{s:15s} | exact: {str(ex):5s} | approximate: {str(app):5s} | maxdiff: {maxdiff}')"
   ]
  },
  {
   "cell_type": "code",
   "execution_count": 7,
   "id": "c5767da4",
   "metadata": {
    "execution": {
     "iopub.execute_input": "2024-08-15T02:52:40.704678Z",
     "iopub.status.busy": "2024-08-15T02:52:40.704275Z",
     "iopub.status.idle": "2024-08-15T02:52:40.753364Z",
     "shell.execute_reply": "2024-08-15T02:52:40.752415Z"
    },
    "papermill": {
     "duration": 0.057836,
     "end_time": "2024-08-15T02:52:40.756091",
     "exception": false,
     "start_time": "2024-08-15T02:52:40.698255",
     "status": "completed"
    },
    "tags": []
   },
   "outputs": [],
   "source": [
    "n_hidden   = 64 # the number of neurons in the hidden layer of the MLP\n",
    "vocab_size = 27\n",
    "n_embd     = 10 # the dimensionality of the character embedding vectors\n",
    "block_size = 3\n",
    "\n",
    "g = torch.Generator().manual_seed(2147483647) # for reproducability\n",
    "C = torch.randn((vocab_size, n_embd), generator=g)\n",
    "\n",
    "W1 = torch.randn((n_embd * block_size, n_hidden), generator=g) * (5/3)/((n_embd * block_size) ** 0.5) #kamming dist \n",
    "b1 = torch.randn((n_hidden), generator=g) * 0.1 #for making initial weights near to zero to mask un uinform distribution\n",
    "\n",
    "W2 = torch.randn((n_hidden, vocab_size), generator=g) * 0.1\n",
    "b2 = torch.randn((vocab_size), generator=g) * 0.1\n",
    "\n",
    "bngain = torch.ones((1,n_hidden)) * 0.1 + 0.1   #Batch normalization trainable parameter\n",
    "bnbias = torch.zeros((1,n_hidden)) * 0.1  #Batch normalization trainable parameter\n",
    "\n",
    "bnmean_running = torch.zeros((1,n_hidden))\n",
    "bnstd_running  = torch.ones((1,n_hidden))\n",
    "\n",
    "parameters = [C, W1, b1, W2, b2, bngain, bnbias]\n",
    "for p in parameters:\n",
    "    p.requires_grad = True"
   ]
  },
  {
   "cell_type": "markdown",
   "id": "d4ae54e7",
   "metadata": {
    "papermill": {
     "duration": 0.004358,
     "end_time": "2024-08-15T02:52:40.765266",
     "exception": false,
     "start_time": "2024-08-15T02:52:40.760908",
     "status": "completed"
    },
    "tags": []
   },
   "source": [
    "## Training loop"
   ]
  },
  {
   "cell_type": "code",
   "execution_count": 8,
   "id": "ea71ce4b",
   "metadata": {
    "execution": {
     "iopub.execute_input": "2024-08-15T02:52:40.777091Z",
     "iopub.status.busy": "2024-08-15T02:52:40.776395Z",
     "iopub.status.idle": "2024-08-15T02:52:40.795413Z",
     "shell.execute_reply": "2024-08-15T02:52:40.793794Z"
    },
    "papermill": {
     "duration": 0.027776,
     "end_time": "2024-08-15T02:52:40.798251",
     "exception": false,
     "start_time": "2024-08-15T02:52:40.770475",
     "status": "completed"
    },
    "tags": []
   },
   "outputs": [],
   "source": [
    "batch_size = 32\n",
    "n = batch_size\n",
    "# minibatch\n",
    "ix     = torch.randint(0, Xtr.shape[0], (batch_size,), generator=g)\n",
    "Xb, Yb = Xtr[ix], Ytr[ix]"
   ]
  },
  {
   "cell_type": "code",
   "execution_count": 9,
   "id": "4fc110da",
   "metadata": {
    "execution": {
     "iopub.execute_input": "2024-08-15T02:52:40.810262Z",
     "iopub.status.busy": "2024-08-15T02:52:40.809240Z",
     "iopub.status.idle": "2024-08-15T02:52:40.910284Z",
     "shell.execute_reply": "2024-08-15T02:52:40.909113Z"
    },
    "papermill": {
     "duration": 0.109979,
     "end_time": "2024-08-15T02:52:40.912884",
     "exception": false,
     "start_time": "2024-08-15T02:52:40.802905",
     "status": "completed"
    },
    "tags": []
   },
   "outputs": [
    {
     "data": {
      "text/plain": [
       "tensor(3.2848, grad_fn=<NegBackward0>)"
      ]
     },
     "execution_count": 9,
     "metadata": {},
     "output_type": "execute_result"
    }
   ],
   "source": [
    "#forward pass \"chunkated\" into smaller steps that are possible to backward one at a time\n",
    "emb     = C[Xb] #embed the characters into the vectors\n",
    "embcat  = emb.view(emb.shape[0], -1) # concate the vectors\n",
    "\n",
    "#Linear layer 1\n",
    "hprebn  = embcat @ W1 + b1 #hidden layer pre activation\n",
    "\n",
    "#------------------------------- BatchNorm layer -------------------------------\n",
    "bnmeani   = 1/n*hprebn.sum(0, keepdim=True)\n",
    "bndiff    = hprebn - bnmeani\n",
    "bndiff2   = bndiff**2\n",
    "bnvar     = 1/(n-1)*(bndiff2).sum(0, keepdim=True) # note: Bessel's correction (dividing by n-1, not n)\n",
    "bnvar_inv = (bnvar + 1e-5)**-0.5 #??\n",
    "bnraw     = bndiff * bnvar_inv\n",
    "hpreact   = bngain * bnraw + bnbias\n",
    "#------------------------------------------------------------------------------\n",
    "#Non linearity\n",
    "h       = torch.tanh(hpreact) #hidden layer\n",
    "\n",
    "#Linear layer 2\n",
    "logits  = h @ W2 + b2 # output layer\n",
    "\n",
    "#-----------------------------loss function------------------------------------------------\n",
    "logit_maxes    = logits.max(1, keepdim=True).values\n",
    "norm_logits    = logits - logit_maxes # subtract max for numerical stability\n",
    "counts         = norm_logits.exp()\n",
    "counts_sum     = counts.sum(1, keepdims=True)\n",
    "counts_sum_inv = counts_sum**-1 # if I use (1.0 / counts_sum) instead then I can't get backprop to be bit exact...\n",
    "probs          = counts * counts_sum_inv\n",
    "logprobs       = probs.log()\n",
    "loss           = -logprobs[range(n), Yb].mean()\n",
    "#-----------------------------------------------------------------------------\n",
    "\n",
    "#Backward pass\n",
    "for p in parameters:\n",
    "    p.grad = None\n",
    "    \n",
    "for t in [logprobs, probs, counts, counts_sum, counts_sum_inv, # afaik there is no cleaner way\n",
    "          norm_logits, logit_maxes, logits, h, hpreact, bnraw,\n",
    "         bnvar_inv, bnvar, bndiff2, bndiff, hprebn, bnmeani,\n",
    "         embcat, emb]:\n",
    "    t.retain_grad()\n",
    "loss.backward()\n",
    "loss"
   ]
  },
  {
   "cell_type": "code",
   "execution_count": null,
   "id": "4968994a",
   "metadata": {
    "papermill": {
     "duration": 0.004738,
     "end_time": "2024-08-15T02:52:40.922686",
     "exception": false,
     "start_time": "2024-08-15T02:52:40.917948",
     "status": "completed"
    },
    "tags": []
   },
   "outputs": [],
   "source": []
  }
 ],
 "metadata": {
  "kaggle": {
   "accelerator": "none",
   "dataSources": [
    {
     "databundleVersionId": 9094797,
     "sourceId": 63056,
     "sourceType": "competition"
    },
    {
     "datasetId": 5447273,
     "sourceId": 9036689,
     "sourceType": "datasetVersion"
    }
   ],
   "dockerImageVersionId": 30746,
   "isGpuEnabled": false,
   "isInternetEnabled": true,
   "language": "python",
   "sourceType": "notebook"
  },
  "kernelspec": {
   "display_name": "Python 3",
   "language": "python",
   "name": "python3"
  },
  "language_info": {
   "codemirror_mode": {
    "name": "ipython",
    "version": 3
   },
   "file_extension": ".py",
   "mimetype": "text/x-python",
   "name": "python",
   "nbconvert_exporter": "python",
   "pygments_lexer": "ipython3",
   "version": "3.10.13"
  },
  "papermill": {
   "default_parameters": {},
   "duration": 8.428175,
   "end_time": "2024-08-15T02:52:41.750082",
   "environment_variables": {},
   "exception": null,
   "input_path": "__notebook__.ipynb",
   "output_path": "__notebook__.ipynb",
   "parameters": {},
   "start_time": "2024-08-15T02:52:33.321907",
   "version": "2.5.0"
  }
 },
 "nbformat": 4,
 "nbformat_minor": 5
}
