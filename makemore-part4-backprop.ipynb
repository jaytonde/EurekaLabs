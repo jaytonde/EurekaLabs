{
 "cells": [
  {
   "cell_type": "markdown",
   "id": "e41ff42b",
   "metadata": {
    "papermill": {
     "duration": 0.007077,
     "end_time": "2024-08-16T05:12:43.483230",
     "exception": false,
     "start_time": "2024-08-16T05:12:43.476153",
     "status": "completed"
    },
    "tags": []
   },
   "source": [
    "## Imports"
   ]
  },
  {
   "cell_type": "code",
   "execution_count": 1,
   "id": "591896ec",
   "metadata": {
    "execution": {
     "iopub.execute_input": "2024-08-16T05:12:43.498319Z",
     "iopub.status.busy": "2024-08-16T05:12:43.497897Z",
     "iopub.status.idle": "2024-08-16T05:12:47.501475Z",
     "shell.execute_reply": "2024-08-16T05:12:47.500229Z"
    },
    "papermill": {
     "duration": 4.014395,
     "end_time": "2024-08-16T05:12:47.504426",
     "exception": false,
     "start_time": "2024-08-16T05:12:43.490031",
     "status": "completed"
    },
    "tags": []
   },
   "outputs": [],
   "source": [
    "import torch\n",
    "from tqdm import tqdm\n",
    "import torch.nn.functional as F\n",
    "import matplotlib.pyplot as plt\n",
    "%matplotlib inline \n",
    "# %matplotlib inline to creating seperate window for matplotlib figures it will draw it in cell output instead"
   ]
  },
  {
   "cell_type": "markdown",
   "id": "3e256271",
   "metadata": {
    "papermill": {
     "duration": 0.007186,
     "end_time": "2024-08-16T05:12:47.518270",
     "exception": false,
     "start_time": "2024-08-16T05:12:47.511084",
     "status": "completed"
    },
    "tags": []
   },
   "source": [
    "## Read Dataset"
   ]
  },
  {
   "cell_type": "code",
   "execution_count": 2,
   "id": "c8e9d801",
   "metadata": {
    "execution": {
     "iopub.execute_input": "2024-08-16T05:12:47.533936Z",
     "iopub.status.busy": "2024-08-16T05:12:47.533372Z",
     "iopub.status.idle": "2024-08-16T05:12:47.568294Z",
     "shell.execute_reply": "2024-08-16T05:12:47.567021Z"
    },
    "papermill": {
     "duration": 0.04635,
     "end_time": "2024-08-16T05:12:47.571173",
     "exception": false,
     "start_time": "2024-08-16T05:12:47.524823",
     "status": "completed"
    },
    "tags": []
   },
   "outputs": [
    {
     "data": {
      "text/plain": [
       "['emma', 'olivia', 'ava', 'isabella', 'sophia', 'charlotte', 'mia', 'amelia']"
      ]
     },
     "execution_count": 2,
     "metadata": {},
     "output_type": "execute_result"
    }
   ],
   "source": [
    "words = open(\"/kaggle/input/eureka-labs/names.txt\",\"r\").read().splitlines()\n",
    "words[:8]"
   ]
  },
  {
   "cell_type": "code",
   "execution_count": 3,
   "id": "0364818a",
   "metadata": {
    "execution": {
     "iopub.execute_input": "2024-08-16T05:12:47.587087Z",
     "iopub.status.busy": "2024-08-16T05:12:47.586195Z",
     "iopub.status.idle": "2024-08-16T05:12:47.594038Z",
     "shell.execute_reply": "2024-08-16T05:12:47.592871Z"
    },
    "papermill": {
     "duration": 0.018322,
     "end_time": "2024-08-16T05:12:47.596464",
     "exception": false,
     "start_time": "2024-08-16T05:12:47.578142",
     "status": "completed"
    },
    "tags": []
   },
   "outputs": [
    {
     "data": {
      "text/plain": [
       "32033"
      ]
     },
     "execution_count": 3,
     "metadata": {},
     "output_type": "execute_result"
    }
   ],
   "source": [
    "len(words)"
   ]
  },
  {
   "cell_type": "markdown",
   "id": "fdd4cbbe",
   "metadata": {
    "papermill": {
     "duration": 0.006504,
     "end_time": "2024-08-16T05:12:47.610037",
     "exception": false,
     "start_time": "2024-08-16T05:12:47.603533",
     "status": "completed"
    },
    "tags": []
   },
   "source": [
    "## char to id"
   ]
  },
  {
   "cell_type": "code",
   "execution_count": 4,
   "id": "54dbdb4b",
   "metadata": {
    "execution": {
     "iopub.execute_input": "2024-08-16T05:12:47.625614Z",
     "iopub.status.busy": "2024-08-16T05:12:47.625227Z",
     "iopub.status.idle": "2024-08-16T05:12:47.637295Z",
     "shell.execute_reply": "2024-08-16T05:12:47.636130Z"
    },
    "papermill": {
     "duration": 0.023028,
     "end_time": "2024-08-16T05:12:47.640024",
     "exception": false,
     "start_time": "2024-08-16T05:12:47.616996",
     "status": "completed"
    },
    "tags": []
   },
   "outputs": [
    {
     "name": "stdout",
     "output_type": "stream",
     "text": [
      "{1: 'a', 2: 'b', 3: 'c', 4: 'd', 5: 'e', 6: 'f', 7: 'g', 8: 'h', 9: 'i', 10: 'j', 11: 'k', 12: 'l', 13: 'm', 14: 'n', 15: 'o', 16: 'p', 17: 'q', 18: 'r', 19: 's', 20: 't', 21: 'u', 22: 'v', 23: 'w', 24: 'x', 25: 'y', 26: 'z', 0: '.'}\n"
     ]
    }
   ],
   "source": [
    "chars     = sorted(list(set(''.join(words))))\n",
    "stoi      = {s:i+1 for i,s in enumerate(chars)}\n",
    "stoi['.'] = 0\n",
    "itos      = {i:s for s,i in stoi.items()}\n",
    "print(itos)"
   ]
  },
  {
   "cell_type": "markdown",
   "id": "11242cf3",
   "metadata": {
    "papermill": {
     "duration": 0.006812,
     "end_time": "2024-08-16T05:12:47.653946",
     "exception": false,
     "start_time": "2024-08-16T05:12:47.647134",
     "status": "completed"
    },
    "tags": []
   },
   "source": [
    "## Dataset"
   ]
  },
  {
   "cell_type": "code",
   "execution_count": 5,
   "id": "2d2956ce",
   "metadata": {
    "execution": {
     "iopub.execute_input": "2024-08-16T05:12:47.669885Z",
     "iopub.status.busy": "2024-08-16T05:12:47.669494Z",
     "iopub.status.idle": "2024-08-16T05:12:48.717609Z",
     "shell.execute_reply": "2024-08-16T05:12:48.716404Z"
    },
    "papermill": {
     "duration": 1.059349,
     "end_time": "2024-08-16T05:12:48.720513",
     "exception": false,
     "start_time": "2024-08-16T05:12:47.661164",
     "status": "completed"
    },
    "tags": []
   },
   "outputs": [],
   "source": [
    "def build_dataset(words):\n",
    "    block_size = 3 # context length : how many characters do we take to predict next one\n",
    "    X, Y       = [],[]\n",
    "\n",
    "    for w in words:\n",
    "        #print(w)\n",
    "        context = [0] * block_size\n",
    "        for ch in w + '.':\n",
    "            ix = stoi[ch]\n",
    "            X.append(context)\n",
    "            Y.append(ix)\n",
    "            #print(''.join(itos[i] for i in context), '----->', itos[ix])\n",
    "            context = context[1:] + [ix] #crop and apppend\n",
    "\n",
    "    X = torch.tensor(X)\n",
    "    Y = torch.tensor(Y)\n",
    "    \n",
    "    return X,Y\n",
    "\n",
    "import random\n",
    "random.seed(42)\n",
    "random.shuffle(words)\n",
    "\n",
    "n1 = int(0.8*len(words))\n",
    "n2 = int(0.9*len(words))\n",
    "\n",
    "Xtr, Ytr   = build_dataset(words[:n1])\n",
    "Xval, Yval = build_dataset(words[n1:n2])\n",
    "Xte, Yte   = build_dataset(words[n2])"
   ]
  },
  {
   "cell_type": "markdown",
   "id": "0a4a5d87",
   "metadata": {
    "papermill": {
     "duration": 0.009923,
     "end_time": "2024-08-16T05:12:48.737919",
     "exception": false,
     "start_time": "2024-08-16T05:12:48.727996",
     "status": "completed"
    },
    "tags": []
   },
   "source": [
    "## Initialize weights"
   ]
  },
  {
   "cell_type": "code",
   "execution_count": 6,
   "id": "823dd02d",
   "metadata": {
    "execution": {
     "iopub.execute_input": "2024-08-16T05:12:48.756047Z",
     "iopub.status.busy": "2024-08-16T05:12:48.754859Z",
     "iopub.status.idle": "2024-08-16T05:12:48.817324Z",
     "shell.execute_reply": "2024-08-16T05:12:48.816089Z"
    },
    "papermill": {
     "duration": 0.074465,
     "end_time": "2024-08-16T05:12:48.820817",
     "exception": false,
     "start_time": "2024-08-16T05:12:48.746352",
     "status": "completed"
    },
    "tags": []
   },
   "outputs": [],
   "source": [
    "n_hidden   = 64 # the number of neurons in the hidden layer of the MLP\n",
    "vocab_size = 27\n",
    "n_embd     = 10 # the dimensionality of the character embedding vectors\n",
    "block_size = 3\n",
    "\n",
    "g = torch.Generator().manual_seed(2147483647) # for reproducability\n",
    "C = torch.randn((vocab_size, n_embd), generator=g)\n",
    "\n",
    "W1 = torch.randn((n_embd * block_size, n_hidden), generator=g) * (5/3)/((n_embd * block_size) ** 0.5) #kamming dist \n",
    "b1 = torch.randn((n_hidden), generator=g) * 0.1 #for making initial weights near to zero to mask un uinform distribution\n",
    "\n",
    "W2 = torch.randn((n_hidden, vocab_size), generator=g) * 0.1\n",
    "b2 = torch.randn((vocab_size), generator=g) * 0.1\n",
    "\n",
    "bngain = torch.ones((1,n_hidden)) * 0.1 + 0.1   #Batch normalization trainable parameter\n",
    "bnbias = torch.zeros((1,n_hidden)) * 0.1  #Batch normalization trainable parameter\n",
    "\n",
    "bnmean_running = torch.zeros((1,n_hidden))\n",
    "bnstd_running  = torch.ones((1,n_hidden))\n",
    "\n",
    "parameters = [C, W1, b1, W2, b2, bngain, bnbias]\n",
    "for p in parameters:\n",
    "    p.requires_grad = True"
   ]
  },
  {
   "cell_type": "markdown",
   "id": "cff0fdcc",
   "metadata": {
    "papermill": {
     "duration": 0.008824,
     "end_time": "2024-08-16T05:12:48.839504",
     "exception": false,
     "start_time": "2024-08-16T05:12:48.830680",
     "status": "completed"
    },
    "tags": []
   },
   "source": [
    "## Training loop"
   ]
  },
  {
   "cell_type": "code",
   "execution_count": 7,
   "id": "a12c5e44",
   "metadata": {
    "execution": {
     "iopub.execute_input": "2024-08-16T05:12:48.856389Z",
     "iopub.status.busy": "2024-08-16T05:12:48.855837Z",
     "iopub.status.idle": "2024-08-16T05:12:48.878278Z",
     "shell.execute_reply": "2024-08-16T05:12:48.876951Z"
    },
    "papermill": {
     "duration": 0.034038,
     "end_time": "2024-08-16T05:12:48.881140",
     "exception": false,
     "start_time": "2024-08-16T05:12:48.847102",
     "status": "completed"
    },
    "tags": []
   },
   "outputs": [],
   "source": [
    "batch_size = 32\n",
    "n = batch_size\n",
    "# minibatch\n",
    "ix     = torch.randint(0, Xtr.shape[0], (batch_size,), generator=g)\n",
    "Xb, Yb = Xtr[ix], Ytr[ix]"
   ]
  },
  {
   "cell_type": "code",
   "execution_count": 8,
   "id": "d0904922",
   "metadata": {
    "execution": {
     "iopub.execute_input": "2024-08-16T05:12:48.898180Z",
     "iopub.status.busy": "2024-08-16T05:12:48.897745Z",
     "iopub.status.idle": "2024-08-16T05:12:49.016661Z",
     "shell.execute_reply": "2024-08-16T05:12:49.015324Z"
    },
    "papermill": {
     "duration": 0.131693,
     "end_time": "2024-08-16T05:12:49.020290",
     "exception": false,
     "start_time": "2024-08-16T05:12:48.888597",
     "status": "completed"
    },
    "tags": []
   },
   "outputs": [
    {
     "data": {
      "text/plain": [
       "tensor(3.2848, grad_fn=<NegBackward0>)"
      ]
     },
     "execution_count": 8,
     "metadata": {},
     "output_type": "execute_result"
    }
   ],
   "source": [
    "#forward pass \"chunkated\" into smaller steps that are possible to backward one at a time\n",
    "emb     = C[Xb] #embed the characters into the vectors\n",
    "embcat  = emb.view(emb.shape[0], -1) # concate the vectors\n",
    "\n",
    "#Linear layer 1\n",
    "hprebn  = embcat @ W1 + b1 #hidden layer pre activation\n",
    "\n",
    "#------------------------------- BatchNorm layer -------------------------------\n",
    "bnmeani   = 1/n*hprebn.sum(0, keepdim=True)\n",
    "bndiff    = hprebn - bnmeani\n",
    "bndiff2   = bndiff**2\n",
    "bnvar     = 1/(n-1)*(bndiff2).sum(0, keepdim=True) # note: Bessel's correction (dividing by n-1, not n)\n",
    "bnvar_inv = (bnvar + 1e-5)**-0.5 #?? (bnvar + 0.00001)/2\n",
    "bnraw     = bndiff * bnvar_inv\n",
    "hpreact   = bngain * bnraw + bnbias\n",
    "#------------------------------------------------------------------------------\n",
    "#Non linearity\n",
    "h       = torch.tanh(hpreact) #hidden layer\n",
    "\n",
    "#Linear layer 2\n",
    "logits  = h @ W2 + b2 # output layer\n",
    "#print(logits[0])\n",
    "\n",
    "#-----------------------------loss function------------------------------------------------\n",
    "\n",
    "logit_maxes    = logits.max(1, keepdim=True).values\n",
    "norm_logits    = logits - logit_maxes # subtract max for numerical stability cause high values lead to instability as we are exponentiating them\n",
    "#print(norm_logits[0])\n",
    "counts         = norm_logits.exp() #taking natural(e^x) exponent of all values from tensor\n",
    "#print(counts)\n",
    "counts_sum     = counts.sum(1, keepdims=True)\n",
    "# print(counts_sum)\n",
    "counts_sum_inv = counts_sum**-1 # if I use (1.0 / counts_sum) instead then I can't get backprop to be bit exact...\n",
    "# print(counts_sum_inv)\n",
    "probs          = counts * counts_sum_inv\n",
    "# print(probs)\n",
    "logprobs       = probs.log() #natural logaritham of all elements from the tensor.\n",
    "#print(logprobs) #logits become -ve now\n",
    "loss           = -logprobs[range(n), Yb].mean()\n",
    "#-----------------------------------------------------------------------------\n",
    "\n",
    "#Backward pass\n",
    "for p in parameters:\n",
    "    p.grad = None\n",
    "    \n",
    "for t in [logprobs, probs, counts, counts_sum, counts_sum_inv, # afaik there is no cleaner way\n",
    "          norm_logits, logit_maxes, logits, h, hpreact, bnraw,\n",
    "         bnvar_inv, bnvar, bndiff2, bndiff, hprebn, bnmeani,\n",
    "         embcat, emb]:\n",
    "    t.retain_grad()\n",
    "loss.backward()\n",
    "loss"
   ]
  },
  {
   "cell_type": "code",
   "execution_count": 9,
   "id": "ebe2111c",
   "metadata": {
    "execution": {
     "iopub.execute_input": "2024-08-16T05:12:49.044520Z",
     "iopub.status.busy": "2024-08-16T05:12:49.043324Z",
     "iopub.status.idle": "2024-08-16T05:12:49.050690Z",
     "shell.execute_reply": "2024-08-16T05:12:49.049112Z"
    },
    "papermill": {
     "duration": 0.024579,
     "end_time": "2024-08-16T05:12:49.055102",
     "exception": false,
     "start_time": "2024-08-16T05:12:49.030523",
     "status": "completed"
    },
    "tags": []
   },
   "outputs": [],
   "source": [
    "# logprobs[(0,1),(0,1)]"
   ]
  },
  {
   "cell_type": "code",
   "execution_count": 10,
   "id": "25b984b1",
   "metadata": {
    "execution": {
     "iopub.execute_input": "2024-08-16T05:12:49.073404Z",
     "iopub.status.busy": "2024-08-16T05:12:49.073000Z",
     "iopub.status.idle": "2024-08-16T05:12:49.079907Z",
     "shell.execute_reply": "2024-08-16T05:12:49.078680Z"
    },
    "papermill": {
     "duration": 0.018143,
     "end_time": "2024-08-16T05:12:49.082539",
     "exception": false,
     "start_time": "2024-08-16T05:12:49.064396",
     "status": "completed"
    },
    "tags": []
   },
   "outputs": [],
   "source": [
    "#utility function we are going to use later for comparing manual gradients with PyTorch gradients\n",
    "def cmp(s, dt, t):\n",
    "    ex      = torch.all(dt == t.grad).item() # Extractly equal : checking if all values are equal by precision also if yes it retruns boolean value as .item()\n",
    "    app     = torch.allclose(dt, t.grad)     # Approximatly equal by precision level is ignored\n",
    "    maxdiff = (dt - t.grad).abs().max().item() # highest absolute diffrence\n",
    "    print(f'{s:15s} | exact: {str(ex):5s} | approximate: {str(app):5s} | maxdiff: {maxdiff}')"
   ]
  },
  {
   "cell_type": "code",
   "execution_count": 11,
   "id": "f4efa296",
   "metadata": {
    "execution": {
     "iopub.execute_input": "2024-08-16T05:12:49.102755Z",
     "iopub.status.busy": "2024-08-16T05:12:49.101832Z",
     "iopub.status.idle": "2024-08-16T05:12:49.108777Z",
     "shell.execute_reply": "2024-08-16T05:12:49.106701Z"
    },
    "papermill": {
     "duration": 0.022124,
     "end_time": "2024-08-16T05:12:49.111803",
     "exception": false,
     "start_time": "2024-08-16T05:12:49.089679",
     "status": "completed"
    },
    "tags": []
   },
   "outputs": [],
   "source": [
    "#norm_logits    = logits - logit_maxes\n",
    "# c11 c12 c13 = a11 a12 a13   b1\n",
    "# c21 c22 c23 = a21 a22 a23 - b2\n",
    "# c31 c32 c33 = a31 a32 a33   b3\n",
    "\n",
    "#so e.g C32 = a32 - b3\n",
    "\n",
    "#norm_logits    = logits - logit_maxes - this operation is for numerical stability only so it dose not impact the \n",
    "# loss at all so it's derivative is zero"
   ]
  },
  {
   "cell_type": "code",
   "execution_count": 12,
   "id": "22932643",
   "metadata": {
    "execution": {
     "iopub.execute_input": "2024-08-16T05:12:49.130945Z",
     "iopub.status.busy": "2024-08-16T05:12:49.129840Z",
     "iopub.status.idle": "2024-08-16T05:12:49.167940Z",
     "shell.execute_reply": "2024-08-16T05:12:49.166756Z"
    },
    "papermill": {
     "duration": 0.050563,
     "end_time": "2024-08-16T05:12:49.171552",
     "exception": false,
     "start_time": "2024-08-16T05:12:49.120989",
     "status": "completed"
    },
    "tags": []
   },
   "outputs": [
    {
     "name": "stdout",
     "output_type": "stream",
     "text": [
      "logprobs        | exact: True  | approximate: True  | maxdiff: 0.0\n",
      "probs           | exact: True  | approximate: True  | maxdiff: 0.0\n",
      "counts_sum_inv  | exact: True  | approximate: True  | maxdiff: 0.0\n",
      "counts_sum      | exact: True  | approximate: True  | maxdiff: 0.0\n",
      "counts          | exact: True  | approximate: True  | maxdiff: 0.0\n",
      "logit_maxes     | exact: True  | approximate: True  | maxdiff: 0.0\n",
      "logits          | exact: True  | approximate: True  | maxdiff: 0.0\n",
      "h               | exact: True  | approximate: True  | maxdiff: 0.0\n",
      "W2              | exact: True  | approximate: True  | maxdiff: 0.0\n",
      "b2              | exact: True  | approximate: True  | maxdiff: 0.0\n",
      "hpreact         | exact: False | approximate: True  | maxdiff: 4.656612873077393e-10\n",
      "bngain          | exact: False | approximate: True  | maxdiff: 3.725290298461914e-09\n",
      "bnraw           | exact: False | approximate: True  | maxdiff: 1.1641532182693481e-10\n",
      "bnbias          | exact: False | approximate: True  | maxdiff: 3.725290298461914e-09\n"
     ]
    }
   ],
   "source": [
    "# Exercise 1: backprop through the whole thing manually, \n",
    "# backpropagating through exactly all of the variables \n",
    "# as they are defined in the forward pass above, one by one\n",
    "\n",
    "dlogprobs               = torch.zeros_like(logprobs)\n",
    "dlogprobs[range(n), Yb] = -1.0 / n                          #d(loss)/d(logprobs) = -1/n\n",
    "dprobs                  = (1.0 / probs) * dlogprobs         #d/dx log(x)         = 1/x   # Boosting the gradients where probs is low if it is 1 then we just pass grads in back layer\n",
    "dcounts_sum_inv         = (counts * dprobs).sum(1, keepdim=True) # count : (32,27) * (32,1) using broadcasting for sum operation\n",
    "dcounts                 = counts_sum_inv * dprobs\n",
    "dcounts_sum             = (-counts_sum**-2) * dcounts_sum_inv #d(x**-1)/dx = -1/x**2 \n",
    "dcounts                += torch.ones_like(counts) * dcounts_sum\n",
    "dnorm_logits            = counts * dcounts                    #d(e^x)/dx = x     \n",
    "dlogits                 = dnorm_logits.clone()\n",
    "dlogit_maxes            = (-dnorm_logits).sum(1, keepdim=True) #drivaties flow as it is through nodes for -ve and +ve operations.\n",
    "dlogits                += F.one_hot(logits.max(1).indices, num_classes=logits.shape[1]) * dlogit_maxes\n",
    "\n",
    "dh                      = dlogits @ W2.T # for more clarification see the video : 51:00 hrs\n",
    "dW2                     = h.T @ dlogits  # --\n",
    "db2                     = dlogits.sum(0) # --\n",
    "\n",
    "dhpreact                = (1.0 - h**2) * dh # d(tanh(x))/dx = 1 - tanh(x) ** 2\n",
    "\n",
    "dbngain                 = (bnraw * dhpreact).sum(0, keepdim=True)\n",
    "dbnraw                  = bngain * dhpreact\n",
    "dbnbias                 = dhpreact.sum(0, keepdim=True)\n",
    "\n",
    "cmp('logprobs',       dlogprobs,        logprobs)\n",
    "cmp('probs',          dprobs,           probs)\n",
    "cmp('counts_sum_inv', dcounts_sum_inv,  counts_sum_inv)\n",
    "cmp('counts_sum',     dcounts_sum,      counts_sum)\n",
    "cmp('counts',         dcounts,          counts)\n",
    "cmp('logit_maxes',    dlogit_maxes,     logit_maxes)\n",
    "cmp('logits',         dlogits,          logits)\n",
    "\n",
    "cmp('h',              dh,               h)\n",
    "cmp('W2',             dW2,              W2)\n",
    "cmp('b2',             db2,              b2)\n",
    "\n",
    "cmp('hpreact',        dhpreact,         hpreact)\n",
    "\n",
    "cmp('bngain',         dbngain,          bngain)\n",
    "cmp('bnraw',          dbnraw,           bnraw)\n",
    "cmp('bnbias',         dbnbias,          bnbias)"
   ]
  },
  {
   "cell_type": "code",
   "execution_count": null,
   "id": "43eced5c",
   "metadata": {
    "papermill": {
     "duration": 0.009645,
     "end_time": "2024-08-16T05:12:49.192420",
     "exception": false,
     "start_time": "2024-08-16T05:12:49.182775",
     "status": "completed"
    },
    "tags": []
   },
   "outputs": [],
   "source": []
  }
 ],
 "metadata": {
  "kaggle": {
   "accelerator": "none",
   "dataSources": [
    {
     "databundleVersionId": 9094797,
     "sourceId": 63056,
     "sourceType": "competition"
    },
    {
     "datasetId": 5447273,
     "sourceId": 9036689,
     "sourceType": "datasetVersion"
    }
   ],
   "dockerImageVersionId": 30746,
   "isGpuEnabled": false,
   "isInternetEnabled": true,
   "language": "python",
   "sourceType": "notebook"
  },
  "kernelspec": {
   "display_name": "Python 3",
   "language": "python",
   "name": "python3"
  },
  "language_info": {
   "codemirror_mode": {
    "name": "ipython",
    "version": 3
   },
   "file_extension": ".py",
   "mimetype": "text/x-python",
   "name": "python",
   "nbconvert_exporter": "python",
   "pygments_lexer": "ipython3",
   "version": "3.10.13"
  },
  "papermill": {
   "default_parameters": {},
   "duration": 9.935765,
   "end_time": "2024-08-16T05:12:50.122970",
   "environment_variables": {},
   "exception": null,
   "input_path": "__notebook__.ipynb",
   "output_path": "__notebook__.ipynb",
   "parameters": {},
   "start_time": "2024-08-16T05:12:40.187205",
   "version": "2.5.0"
  }
 },
 "nbformat": 4,
 "nbformat_minor": 5
}
