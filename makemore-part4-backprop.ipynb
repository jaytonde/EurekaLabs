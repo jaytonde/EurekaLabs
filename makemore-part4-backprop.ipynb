{
 "cells": [
  {
   "cell_type": "markdown",
   "id": "aab1fbc6",
   "metadata": {
    "papermill": {
     "duration": 0.016473,
     "end_time": "2024-08-18T04:30:01.494755",
     "exception": false,
     "start_time": "2024-08-18T04:30:01.478282",
     "status": "completed"
    },
    "tags": []
   },
   "source": [
    "## Imports"
   ]
  },
  {
   "cell_type": "code",
   "execution_count": 1,
   "id": "241e03df",
   "metadata": {
    "execution": {
     "iopub.execute_input": "2024-08-18T04:30:01.535393Z",
     "iopub.status.busy": "2024-08-18T04:30:01.534781Z",
     "iopub.status.idle": "2024-08-18T04:30:06.526310Z",
     "shell.execute_reply": "2024-08-18T04:30:06.524920Z"
    },
    "papermill": {
     "duration": 5.013964,
     "end_time": "2024-08-18T04:30:06.529717",
     "exception": false,
     "start_time": "2024-08-18T04:30:01.515753",
     "status": "completed"
    },
    "tags": []
   },
   "outputs": [],
   "source": [
    "import torch\n",
    "from tqdm import tqdm\n",
    "import torch.nn.functional as F\n",
    "import matplotlib.pyplot as plt\n",
    "%matplotlib inline \n",
    "# %matplotlib inline to creating seperate window for matplotlib figures it will draw it in cell output instead"
   ]
  },
  {
   "cell_type": "markdown",
   "id": "bedd4e2e",
   "metadata": {
    "papermill": {
     "duration": 0.014079,
     "end_time": "2024-08-18T04:30:06.559518",
     "exception": false,
     "start_time": "2024-08-18T04:30:06.545439",
     "status": "completed"
    },
    "tags": []
   },
   "source": [
    "## Read Dataset"
   ]
  },
  {
   "cell_type": "code",
   "execution_count": 2,
   "id": "b9bfe62d",
   "metadata": {
    "execution": {
     "iopub.execute_input": "2024-08-18T04:30:06.589518Z",
     "iopub.status.busy": "2024-08-18T04:30:06.588972Z",
     "iopub.status.idle": "2024-08-18T04:30:06.619163Z",
     "shell.execute_reply": "2024-08-18T04:30:06.617908Z"
    },
    "papermill": {
     "duration": 0.047978,
     "end_time": "2024-08-18T04:30:06.622059",
     "exception": false,
     "start_time": "2024-08-18T04:30:06.574081",
     "status": "completed"
    },
    "tags": []
   },
   "outputs": [
    {
     "data": {
      "text/plain": [
       "['emma', 'olivia', 'ava', 'isabella', 'sophia', 'charlotte', 'mia', 'amelia']"
      ]
     },
     "execution_count": 2,
     "metadata": {},
     "output_type": "execute_result"
    }
   ],
   "source": [
    "words = open(\"/kaggle/input/eureka-labs/names.txt\",\"r\").read().splitlines()\n",
    "words[:8]"
   ]
  },
  {
   "cell_type": "code",
   "execution_count": 3,
   "id": "67a55873",
   "metadata": {
    "execution": {
     "iopub.execute_input": "2024-08-18T04:30:06.651972Z",
     "iopub.status.busy": "2024-08-18T04:30:06.651548Z",
     "iopub.status.idle": "2024-08-18T04:30:06.659976Z",
     "shell.execute_reply": "2024-08-18T04:30:06.658525Z"
    },
    "papermill": {
     "duration": 0.027095,
     "end_time": "2024-08-18T04:30:06.662880",
     "exception": false,
     "start_time": "2024-08-18T04:30:06.635785",
     "status": "completed"
    },
    "tags": []
   },
   "outputs": [
    {
     "data": {
      "text/plain": [
       "32033"
      ]
     },
     "execution_count": 3,
     "metadata": {},
     "output_type": "execute_result"
    }
   ],
   "source": [
    "len(words)"
   ]
  },
  {
   "cell_type": "markdown",
   "id": "3afbf21e",
   "metadata": {
    "papermill": {
     "duration": 0.012968,
     "end_time": "2024-08-18T04:30:06.689218",
     "exception": false,
     "start_time": "2024-08-18T04:30:06.676250",
     "status": "completed"
    },
    "tags": []
   },
   "source": [
    "## char to id"
   ]
  },
  {
   "cell_type": "code",
   "execution_count": 4,
   "id": "3006792e",
   "metadata": {
    "execution": {
     "iopub.execute_input": "2024-08-18T04:30:06.719516Z",
     "iopub.status.busy": "2024-08-18T04:30:06.718926Z",
     "iopub.status.idle": "2024-08-18T04:30:06.733949Z",
     "shell.execute_reply": "2024-08-18T04:30:06.732527Z"
    },
    "papermill": {
     "duration": 0.036392,
     "end_time": "2024-08-18T04:30:06.739036",
     "exception": false,
     "start_time": "2024-08-18T04:30:06.702644",
     "status": "completed"
    },
    "tags": []
   },
   "outputs": [
    {
     "name": "stdout",
     "output_type": "stream",
     "text": [
      "{1: 'a', 2: 'b', 3: 'c', 4: 'd', 5: 'e', 6: 'f', 7: 'g', 8: 'h', 9: 'i', 10: 'j', 11: 'k', 12: 'l', 13: 'm', 14: 'n', 15: 'o', 16: 'p', 17: 'q', 18: 'r', 19: 's', 20: 't', 21: 'u', 22: 'v', 23: 'w', 24: 'x', 25: 'y', 26: 'z', 0: '.'}\n"
     ]
    }
   ],
   "source": [
    "chars     = sorted(list(set(''.join(words))))\n",
    "stoi      = {s:i+1 for i,s in enumerate(chars)}\n",
    "stoi['.'] = 0\n",
    "itos      = {i:s for s,i in stoi.items()}\n",
    "print(itos)"
   ]
  },
  {
   "cell_type": "markdown",
   "id": "9dc2c52f",
   "metadata": {
    "papermill": {
     "duration": 0.020064,
     "end_time": "2024-08-18T04:30:06.781468",
     "exception": false,
     "start_time": "2024-08-18T04:30:06.761404",
     "status": "completed"
    },
    "tags": []
   },
   "source": [
    "## Dataset"
   ]
  },
  {
   "cell_type": "code",
   "execution_count": 5,
   "id": "fc846c83",
   "metadata": {
    "execution": {
     "iopub.execute_input": "2024-08-18T04:30:06.815431Z",
     "iopub.status.busy": "2024-08-18T04:30:06.814955Z",
     "iopub.status.idle": "2024-08-18T04:30:07.960138Z",
     "shell.execute_reply": "2024-08-18T04:30:07.958662Z"
    },
    "papermill": {
     "duration": 1.164662,
     "end_time": "2024-08-18T04:30:07.964327",
     "exception": false,
     "start_time": "2024-08-18T04:30:06.799665",
     "status": "completed"
    },
    "tags": []
   },
   "outputs": [],
   "source": [
    "def build_dataset(words):\n",
    "    block_size = 3 # context length : how many characters do we take to predict next one\n",
    "    X, Y       = [],[]\n",
    "\n",
    "    for w in words:\n",
    "        #print(w)\n",
    "        context = [0] * block_size\n",
    "        for ch in w + '.':\n",
    "            ix = stoi[ch]\n",
    "            X.append(context)\n",
    "            Y.append(ix)\n",
    "            #print(''.join(itos[i] for i in context), '----->', itos[ix])\n",
    "            context = context[1:] + [ix] #crop and apppend\n",
    "\n",
    "    X = torch.tensor(X)\n",
    "    Y = torch.tensor(Y)\n",
    "    \n",
    "    return X,Y\n",
    "\n",
    "import random\n",
    "random.seed(42)\n",
    "random.shuffle(words)\n",
    "\n",
    "n1 = int(0.8*len(words))\n",
    "n2 = int(0.9*len(words))\n",
    "\n",
    "Xtr, Ytr   = build_dataset(words[:n1])\n",
    "Xval, Yval = build_dataset(words[n1:n2])\n",
    "Xte, Yte   = build_dataset(words[n2])"
   ]
  },
  {
   "cell_type": "markdown",
   "id": "bf29a968",
   "metadata": {
    "papermill": {
     "duration": 0.014463,
     "end_time": "2024-08-18T04:30:07.992591",
     "exception": false,
     "start_time": "2024-08-18T04:30:07.978128",
     "status": "completed"
    },
    "tags": []
   },
   "source": [
    "## Initialize weights"
   ]
  },
  {
   "cell_type": "code",
   "execution_count": 6,
   "id": "d747a9fc",
   "metadata": {
    "execution": {
     "iopub.execute_input": "2024-08-18T04:30:08.022076Z",
     "iopub.status.busy": "2024-08-18T04:30:08.021657Z",
     "iopub.status.idle": "2024-08-18T04:30:08.081544Z",
     "shell.execute_reply": "2024-08-18T04:30:08.080175Z"
    },
    "papermill": {
     "duration": 0.077956,
     "end_time": "2024-08-18T04:30:08.084468",
     "exception": false,
     "start_time": "2024-08-18T04:30:08.006512",
     "status": "completed"
    },
    "tags": []
   },
   "outputs": [],
   "source": [
    "n_hidden   = 64 # the number of neurons in the hidden layer of the MLP\n",
    "vocab_size = 27\n",
    "n_embd     = 10 # the dimensionality of the character embedding vectors\n",
    "block_size = 3\n",
    "\n",
    "g = torch.Generator().manual_seed(2147483647) # for reproducability\n",
    "C = torch.randn((vocab_size, n_embd),             generator=g)\n",
    "\n",
    "W1 = torch.randn((n_embd * block_size, n_hidden), generator=g) * (5/3)/((n_embd * block_size) ** 0.5) #kamming dist \n",
    "b1 = torch.randn(n_hidden,                        generator=g) * 0.1 #for making initial weights near to zero to mask un uinform distribution\n",
    "\n",
    "W2 = torch.randn((n_hidden, vocab_size),          generator=g) * 0.1\n",
    "b2 = torch.randn(vocab_size,                      generator=g) * 0.1\n",
    "\n",
    "bngain = torch.randn((1,n_hidden)) * 0.1 + 1.0   #Batch normalization trainable parameter\n",
    "bnbias = torch.randn((1,n_hidden)) * 0.1  #Batch normalization trainable parameter\n",
    "\n",
    "\n",
    "parameters = [C, W1, b1, W2, b2, bngain, bnbias]\n",
    "for p in parameters:\n",
    "    p.requires_grad = True"
   ]
  },
  {
   "cell_type": "markdown",
   "id": "42e53a59",
   "metadata": {
    "papermill": {
     "duration": 0.01475,
     "end_time": "2024-08-18T04:30:08.112837",
     "exception": false,
     "start_time": "2024-08-18T04:30:08.098087",
     "status": "completed"
    },
    "tags": []
   },
   "source": [
    "## Forward pass"
   ]
  },
  {
   "cell_type": "code",
   "execution_count": 7,
   "id": "7c2a8e65",
   "metadata": {
    "execution": {
     "iopub.execute_input": "2024-08-18T04:30:08.142826Z",
     "iopub.status.busy": "2024-08-18T04:30:08.142392Z",
     "iopub.status.idle": "2024-08-18T04:30:08.170525Z",
     "shell.execute_reply": "2024-08-18T04:30:08.169031Z"
    },
    "papermill": {
     "duration": 0.045966,
     "end_time": "2024-08-18T04:30:08.173511",
     "exception": false,
     "start_time": "2024-08-18T04:30:08.127545",
     "status": "completed"
    },
    "tags": []
   },
   "outputs": [],
   "source": [
    "batch_size = 32\n",
    "n          = batch_size\n",
    "\n",
    "# minibatch\n",
    "ix         = torch.randint(0, Xtr.shape[0], (batch_size,), generator=g)\n",
    "Xb, Yb     = Xtr[ix], Ytr[ix]"
   ]
  },
  {
   "cell_type": "code",
   "execution_count": 8,
   "id": "f9ed37f5",
   "metadata": {
    "execution": {
     "iopub.execute_input": "2024-08-18T04:30:08.203001Z",
     "iopub.status.busy": "2024-08-18T04:30:08.202570Z",
     "iopub.status.idle": "2024-08-18T04:30:08.358058Z",
     "shell.execute_reply": "2024-08-18T04:30:08.356739Z"
    },
    "papermill": {
     "duration": 0.173438,
     "end_time": "2024-08-18T04:30:08.360946",
     "exception": false,
     "start_time": "2024-08-18T04:30:08.187508",
     "status": "completed"
    },
    "tags": []
   },
   "outputs": [
    {
     "data": {
      "text/plain": [
       "tensor(3.3207, grad_fn=<NegBackward0>)"
      ]
     },
     "execution_count": 8,
     "metadata": {},
     "output_type": "execute_result"
    }
   ],
   "source": [
    "#forward pass \"chunkated\" into smaller steps that are possible to backward one at a time\n",
    "emb     = C[Xb] #embed the characters into the vectors\n",
    "embcat  = emb.view(emb.shape[0], -1) # concate the vectors\n",
    "\n",
    "#Linear layer 1\n",
    "hprebn  = embcat @ W1 + b1 #hidden layer pre activation\n",
    "\n",
    "#------------------------------- BatchNorm layer -------------------------------\n",
    "bnmeani   = 1/n*hprebn.sum(0, keepdim=True)\n",
    "bndiff    = hprebn - bnmeani\n",
    "bndiff2   = bndiff**2\n",
    "bnvar     = 1/(n-1)*(bndiff2).sum(0, keepdim=True) # note: Bessel's correction (dividing by n-1, not n) Check notes for more info\n",
    "bnvar_inv = (bnvar + 1e-5)**-0.5 #?? (bnvar + 0.00001)/2\n",
    "bnraw     = bndiff * bnvar_inv\n",
    "hpreact   = bngain * bnraw + bnbias\n",
    "#------------------------------------------------------------------------------\n",
    "#Non linearity\n",
    "h              = torch.tanh(hpreact) #hidden layer\n",
    "\n",
    "#Linear layer 2\n",
    "logits         = h @ W2 + b2 # output layer\n",
    "#-----------------------------loss function------------------------------------------------\n",
    "logit_maxes    = logits.max(1, keepdim=True).values\n",
    "norm_logits    = logits - logit_maxes                    # subtract max for numerical stability cause high values lead to instability as we are exponentiating them\n",
    "counts         = norm_logits.exp()                       #taking natural(e^x) exponent of all values from tensor\n",
    "counts_sum     = counts.sum(1, keepdims=True)\n",
    "counts_sum_inv = counts_sum**-1                          # if I use (1.0 / counts_sum) instead then I can't get backprop to be bit exact...\n",
    "probs          = counts * counts_sum_inv\n",
    "logprobs       = probs.log()                             #natural logaritham of all elements from the tensor.\n",
    "loss           = -logprobs[range(n), Yb].mean()\n",
    "#-----------------------------------------------------------------------------\n",
    "\n",
    "#Backward pass\n",
    "for p in parameters:\n",
    "    p.grad = None\n",
    "    \n",
    "for t in [logprobs, probs, counts, counts_sum, counts_sum_inv, # afaik there is no cleaner way\n",
    "          norm_logits, logit_maxes, logits, h, hpreact, bnraw,\n",
    "         bnvar_inv, bnvar, bndiff2, bndiff, hprebn, bnmeani,\n",
    "         embcat, emb]:\n",
    "    t.retain_grad()\n",
    "loss.backward()\n",
    "loss"
   ]
  },
  {
   "cell_type": "code",
   "execution_count": 9,
   "id": "e64aa99a",
   "metadata": {
    "execution": {
     "iopub.execute_input": "2024-08-18T04:30:08.389881Z",
     "iopub.status.busy": "2024-08-18T04:30:08.389401Z",
     "iopub.status.idle": "2024-08-18T04:30:08.395124Z",
     "shell.execute_reply": "2024-08-18T04:30:08.393882Z"
    },
    "papermill": {
     "duration": 0.023613,
     "end_time": "2024-08-18T04:30:08.398164",
     "exception": false,
     "start_time": "2024-08-18T04:30:08.374551",
     "status": "completed"
    },
    "tags": []
   },
   "outputs": [],
   "source": [
    "# logprobs[(0,1),(0,1)]"
   ]
  },
  {
   "cell_type": "code",
   "execution_count": 10,
   "id": "4f187469",
   "metadata": {
    "execution": {
     "iopub.execute_input": "2024-08-18T04:30:08.428100Z",
     "iopub.status.busy": "2024-08-18T04:30:08.427686Z",
     "iopub.status.idle": "2024-08-18T04:30:08.435190Z",
     "shell.execute_reply": "2024-08-18T04:30:08.433803Z"
    },
    "papermill": {
     "duration": 0.025999,
     "end_time": "2024-08-18T04:30:08.438032",
     "exception": false,
     "start_time": "2024-08-18T04:30:08.412033",
     "status": "completed"
    },
    "tags": []
   },
   "outputs": [],
   "source": [
    "#utility function we are going to use later for comparing manual gradients with PyTorch gradients\n",
    "def cmp(s, dt, t):\n",
    "    ex      = torch.all(dt == t.grad).item() # Extractly equal : checking if all values are equal by precision also if yes it retruns boolean value as .item()\n",
    "    app     = torch.allclose(dt, t.grad)     # Approximatly equal by precision level is ignored\n",
    "    maxdiff = (dt - t.grad).abs().max().item() # highest absolute diffrence\n",
    "    print(f'{s:15s} | exact: {str(ex):5s} | approximate: {str(app):5s} | maxdiff: {maxdiff}')"
   ]
  },
  {
   "cell_type": "code",
   "execution_count": 11,
   "id": "d1e013eb",
   "metadata": {
    "execution": {
     "iopub.execute_input": "2024-08-18T04:30:08.468381Z",
     "iopub.status.busy": "2024-08-18T04:30:08.467239Z",
     "iopub.status.idle": "2024-08-18T04:30:08.472984Z",
     "shell.execute_reply": "2024-08-18T04:30:08.471739Z"
    },
    "papermill": {
     "duration": 0.024213,
     "end_time": "2024-08-18T04:30:08.476067",
     "exception": false,
     "start_time": "2024-08-18T04:30:08.451854",
     "status": "completed"
    },
    "tags": []
   },
   "outputs": [],
   "source": [
    "#norm_logits    = logits - logit_maxes\n",
    "# c11 c12 c13 = a11 a12 a13   b1\n",
    "# c21 c22 c23 = a21 a22 a23 - b2\n",
    "# c31 c32 c33 = a31 a32 a33   b3\n",
    "\n",
    "#so e.g C32 = a32 - b3\n",
    "\n",
    "#norm_logits    = logits - logit_maxes - this operation is for numerical stability only so it dose not impact the \n",
    "# loss at all so it's derivative is zero"
   ]
  },
  {
   "cell_type": "markdown",
   "id": "eb3b19f6",
   "metadata": {
    "papermill": {
     "duration": 0.013391,
     "end_time": "2024-08-18T04:30:08.503588",
     "exception": false,
     "start_time": "2024-08-18T04:30:08.490197",
     "status": "completed"
    },
    "tags": []
   },
   "source": [
    "## Exercise 1 :-> Backward pass manually"
   ]
  },
  {
   "cell_type": "code",
   "execution_count": 12,
   "id": "89d9f52f",
   "metadata": {
    "execution": {
     "iopub.execute_input": "2024-08-18T04:30:08.533114Z",
     "iopub.status.busy": "2024-08-18T04:30:08.532698Z",
     "iopub.status.idle": "2024-08-18T04:30:08.581469Z",
     "shell.execute_reply": "2024-08-18T04:30:08.580161Z"
    },
    "papermill": {
     "duration": 0.067024,
     "end_time": "2024-08-18T04:30:08.584441",
     "exception": false,
     "start_time": "2024-08-18T04:30:08.517417",
     "status": "completed"
    },
    "tags": []
   },
   "outputs": [
    {
     "name": "stdout",
     "output_type": "stream",
     "text": [
      "logprobs        | exact: True  | approximate: True  | maxdiff: 0.0\n",
      "probs           | exact: True  | approximate: True  | maxdiff: 0.0\n",
      "counts_sum_inv  | exact: True  | approximate: True  | maxdiff: 0.0\n",
      "counts_sum      | exact: True  | approximate: True  | maxdiff: 0.0\n",
      "counts          | exact: True  | approximate: True  | maxdiff: 0.0\n",
      "logit_maxes     | exact: True  | approximate: True  | maxdiff: 0.0\n",
      "logits          | exact: True  | approximate: True  | maxdiff: 0.0\n",
      "h               | exact: True  | approximate: True  | maxdiff: 0.0\n",
      "W2              | exact: True  | approximate: True  | maxdiff: 0.0\n",
      "b2              | exact: True  | approximate: True  | maxdiff: 0.0\n",
      "hpreact         | exact: False | approximate: True  | maxdiff: 9.313225746154785e-10\n",
      "bngain          | exact: False | approximate: True  | maxdiff: 2.0954757928848267e-09\n",
      "bnraw           | exact: False | approximate: True  | maxdiff: 9.313225746154785e-10\n",
      "bnbias          | exact: False | approximate: True  | maxdiff: 3.725290298461914e-09\n",
      "bnvar_inv       | exact: False | approximate: True  | maxdiff: 7.450580596923828e-09\n",
      "bnvar           | exact: False | approximate: True  | maxdiff: 4.656612873077393e-10\n",
      "bndiff2         | exact: False | approximate: True  | maxdiff: 1.4551915228366852e-11\n",
      "bndiff          | exact: False | approximate: True  | maxdiff: 6.984919309616089e-10\n",
      "bnmeani         | exact: False | approximate: True  | maxdiff: 1.862645149230957e-09\n",
      "hprebn          | exact: False | approximate: True  | maxdiff: 6.984919309616089e-10\n",
      "embcat          | exact: False | approximate: True  | maxdiff: 1.3969838619232178e-09\n",
      "W1              | exact: False | approximate: True  | maxdiff: 3.725290298461914e-09\n",
      "b1              | exact: False | approximate: True  | maxdiff: 3.259629011154175e-09\n",
      "emb             | exact: False | approximate: True  | maxdiff: 1.3969838619232178e-09\n",
      "C               | exact: False | approximate: True  | maxdiff: 3.725290298461914e-09\n"
     ]
    }
   ],
   "source": [
    "# Exercise 1: backprop through the whole thing manually, \n",
    "# backpropagating through exactly all of the variables \n",
    "# as they are defined in the forward pass above, one by one\n",
    "\n",
    "dlogprobs               = torch.zeros_like(logprobs)\n",
    "dlogprobs[range(n), Yb] = -1.0 / n                          #d(loss)/d(logprobs) = -1/n\n",
    "dprobs                  = (1.0 / probs) * dlogprobs         #d/dx log(x)         = 1/x   # Boosting the gradients where probs is low if it is 1 then we just pass grads in back layer\n",
    "dcounts_sum_inv         = (counts * dprobs).sum(1, keepdim=True) # count : (32,27) * (32,1) using broadcasting for sum operation\n",
    "dcounts                 = counts_sum_inv * dprobs\n",
    "dcounts_sum             = (-counts_sum**-2) * dcounts_sum_inv #d(x**-1)/dx = -1/x**2 \n",
    "dcounts                += torch.ones_like(counts) * dcounts_sum\n",
    "dnorm_logits            = counts * dcounts                    #d(e^x)/dx = x     \n",
    "dlogits                 = dnorm_logits.clone()\n",
    "dlogit_maxes            = (-dnorm_logits).sum(1, keepdim=True) #drivaties flow as it is through nodes for -ve and +ve operations.\n",
    "dlogits                += F.one_hot(logits.max(1).indices, num_classes=logits.shape[1]) * dlogit_maxes\n",
    "\n",
    "dh                      = dlogits @ W2.T # for more clarification see the video : 51:00 hrs\n",
    "dW2                     = h.T @ dlogits  #--\n",
    "db2                     = dlogits.sum(0) #--\n",
    "\n",
    "dhpreact                = (1.0 - h**2) * dh #d(tanh(x))/dx = 1 - tanh(x) ** 2\n",
    "\n",
    "dbngain                 = (bnraw * dhpreact).sum(0, keepdim=True)\n",
    "dbnraw                  = bngain * dhpreact\n",
    "dbnbias                 = dhpreact.sum(0, keepdim=True)\n",
    "dbndiff                 = bnvar_inv * dbnraw\n",
    "dbnvar_inv              = (bndiff * dbnraw).sum(0, keepdim=True)\n",
    "dbnvar                  = (-0.5*(bnvar + 1e-5)**-1.5) * dbnvar_inv # d(x^y)/dw = y * (x ^ (y-1))\n",
    "dbndiff2                = (1.0/(n-1))*torch.ones_like(bndiff2) * dbnvar\n",
    "dbndiff                += (2*bndiff) * dbndiff2\n",
    "dhprebn                 = dbndiff.clone()\n",
    "dbnmeani                = (-dbndiff).sum(0)\n",
    "dhprebn                += 1.0/n * (torch.ones_like(hprebn) * dbnmeani)\n",
    "dembcat                 = dhprebn @ W1.T        # In multiplication it is transpose of other element and global derivative\n",
    "dW1                     = embcat.T @ dhprebn    # In multiplication it is transpose of other element and global derivative\n",
    "db1                     = dhprebn.sum(0)        # in add operation derivates flows as it we just have to consider right using brodcasting\n",
    "demb                    = dembcat.view(emb.shape)  # just undoing the view operation from forward pass\n",
    "\n",
    "dC = torch.zeros_like(C)\n",
    "for k in range(Xb.shape[0]):\n",
    "    for j in range(Xb.shape[1]):\n",
    "        ix = Xb[k,j]\n",
    "        dC[ix] += demb[k,j]\n",
    "    \n",
    "cmp('logprobs',       dlogprobs,        logprobs)\n",
    "cmp('probs',          dprobs,           probs)\n",
    "cmp('counts_sum_inv', dcounts_sum_inv,  counts_sum_inv)\n",
    "cmp('counts_sum',     dcounts_sum,      counts_sum)\n",
    "cmp('counts',         dcounts,          counts)\n",
    "cmp('logit_maxes',    dlogit_maxes,     logit_maxes)\n",
    "cmp('logits',         dlogits,          logits)\n",
    "\n",
    "cmp('h',              dh,               h)\n",
    "cmp('W2',             dW2,              W2)\n",
    "cmp('b2',             db2,              b2)\n",
    "\n",
    "cmp('hpreact',        dhpreact,         hpreact)\n",
    "\n",
    "cmp('bngain',         dbngain,          bngain)\n",
    "cmp('bnraw',          dbnraw,           bnraw)\n",
    "cmp('bnbias',         dbnbias,          bnbias)\n",
    "cmp('bnvar_inv',      dbnvar_inv,       bnvar_inv)\n",
    "cmp('bnvar',          dbnvar,           bnvar)\n",
    "cmp('bndiff2',        dbndiff2,         bndiff2)\n",
    "cmp('bndiff',         dbndiff,          bndiff)\n",
    "cmp('bnmeani',        dbnmeani,         bnmeani)\n",
    "cmp('hprebn',         dhprebn,          hprebn)\n",
    "\n",
    "cmp('embcat',         dembcat,          embcat)\n",
    "cmp('W1',             dW1,              W1)\n",
    "cmp('b1',             db1,              b1)\n",
    "\n",
    "cmp('emb',            demb,             emb)\n",
    "cmp('C',              dC,               C)"
   ]
  },
  {
   "cell_type": "markdown",
   "id": "c329031c",
   "metadata": {
    "papermill": {
     "duration": 0.013484,
     "end_time": "2024-08-18T04:30:08.612037",
     "exception": false,
     "start_time": "2024-08-18T04:30:08.598553",
     "status": "completed"
    },
    "tags": []
   },
   "source": [
    "## Exercise 2 :-> "
   ]
  },
  {
   "cell_type": "code",
   "execution_count": 13,
   "id": "8216042b",
   "metadata": {
    "execution": {
     "iopub.execute_input": "2024-08-18T04:30:08.642349Z",
     "iopub.status.busy": "2024-08-18T04:30:08.641776Z",
     "iopub.status.idle": "2024-08-18T04:30:08.647554Z",
     "shell.execute_reply": "2024-08-18T04:30:08.646029Z"
    },
    "papermill": {
     "duration": 0.024068,
     "end_time": "2024-08-18T04:30:08.650248",
     "exception": false,
     "start_time": "2024-08-18T04:30:08.626180",
     "status": "completed"
    },
    "tags": []
   },
   "outputs": [],
   "source": [
    "# Exercise 2: backprop through cross_entropy but all in one go\n",
    "# to complete this challenge look at the mathematical expression of the loss,\n",
    "# take the derivative, simplify the expression, and just write it out"
   ]
  },
  {
   "cell_type": "code",
   "execution_count": 14,
   "id": "e67b6bc2",
   "metadata": {
    "execution": {
     "iopub.execute_input": "2024-08-18T04:30:08.680346Z",
     "iopub.status.busy": "2024-08-18T04:30:08.679907Z",
     "iopub.status.idle": "2024-08-18T04:30:08.686093Z",
     "shell.execute_reply": "2024-08-18T04:30:08.684639Z"
    },
    "papermill": {
     "duration": 0.024943,
     "end_time": "2024-08-18T04:30:08.689423",
     "exception": false,
     "start_time": "2024-08-18T04:30:08.664480",
     "status": "completed"
    },
    "tags": []
   },
   "outputs": [],
   "source": [
    "# forward pass\n",
    "\n",
    "# before:\n",
    "# logit_maxes = logits.max(1, keepdim=True).values\n",
    "# norm_logits = logits - logit_maxes # subtract max for numerical stability\n",
    "# counts = norm_logits.exp()\n",
    "# counts_sum = counts.sum(1, keepdims=True)\n",
    "# counts_sum_inv = counts_sum**-1 # if I use (1.0 / counts_sum) instead then I can't get backprop to be bit exact...\n",
    "# probs = counts * counts_sum_inv\n",
    "# logprobs = probs.log()\n",
    "# loss = -logprobs[range(n), Yb].mean()"
   ]
  },
  {
   "cell_type": "code",
   "execution_count": 15,
   "id": "23641ee8",
   "metadata": {
    "execution": {
     "iopub.execute_input": "2024-08-18T04:30:08.719455Z",
     "iopub.status.busy": "2024-08-18T04:30:08.719018Z",
     "iopub.status.idle": "2024-08-18T04:30:08.730594Z",
     "shell.execute_reply": "2024-08-18T04:30:08.729157Z"
    },
    "papermill": {
     "duration": 0.029914,
     "end_time": "2024-08-18T04:30:08.733245",
     "exception": false,
     "start_time": "2024-08-18T04:30:08.703331",
     "status": "completed"
    },
    "tags": []
   },
   "outputs": [
    {
     "name": "stdout",
     "output_type": "stream",
     "text": [
      "3.320688009262085 diff: 0.0\n"
     ]
    }
   ],
   "source": [
    "# now\n",
    "loss_fast = F.cross_entropy(logits, Yb)\n",
    "print(loss_fast.item(), 'diff:', (loss_fast - loss).item())"
   ]
  },
  {
   "cell_type": "code",
   "execution_count": 16,
   "id": "051d0f35",
   "metadata": {
    "execution": {
     "iopub.execute_input": "2024-08-18T04:30:08.764675Z",
     "iopub.status.busy": "2024-08-18T04:30:08.764219Z",
     "iopub.status.idle": "2024-08-18T04:30:08.776378Z",
     "shell.execute_reply": "2024-08-18T04:30:08.774822Z"
    },
    "papermill": {
     "duration": 0.031635,
     "end_time": "2024-08-18T04:30:08.779529",
     "exception": false,
     "start_time": "2024-08-18T04:30:08.747894",
     "status": "completed"
    },
    "tags": []
   },
   "outputs": [
    {
     "name": "stdout",
     "output_type": "stream",
     "text": [
      "logits          | exact: False | approximate: True  | maxdiff: 7.450580596923828e-09\n"
     ]
    }
   ],
   "source": [
    "# backward pass - for derivative check notes from capacities\n",
    "dlogits = F.softmax(logits, 1)\n",
    "dlogits[range(n), Yb] -= 1\n",
    "dlogits /= n\n",
    "\n",
    "cmp('logits', dlogits, logits) # I can only get approximate to be true, my maxdiff is 6e-9"
   ]
  },
  {
   "cell_type": "code",
   "execution_count": 17,
   "id": "4db03f9a",
   "metadata": {
    "execution": {
     "iopub.execute_input": "2024-08-18T04:30:08.817180Z",
     "iopub.status.busy": "2024-08-18T04:30:08.815474Z",
     "iopub.status.idle": "2024-08-18T04:30:09.102377Z",
     "shell.execute_reply": "2024-08-18T04:30:09.101178Z"
    },
    "papermill": {
     "duration": 0.306742,
     "end_time": "2024-08-18T04:30:09.105458",
     "exception": false,
     "start_time": "2024-08-18T04:30:08.798716",
     "status": "completed"
    },
    "tags": []
   },
   "outputs": [
    {
     "data": {
      "text/plain": [
       "<matplotlib.image.AxesImage at 0x7ebb855ea290>"
      ]
     },
     "execution_count": 17,
     "metadata": {},
     "output_type": "execute_result"
    },
    {
     "data": {
      "image/png": "[encoded data removed]",
      "text/plain": [
       "<Figure size 400x400 with 1 Axes>"
      ]
     },
     "metadata": {},
     "output_type": "display_data"
    }
   ],
   "source": [
    "plt.figure(figsize=(4, 4))\n",
    "plt.imshow(dlogits.detach(), cmap='gray')"
   ]
  },
  {
   "cell_type": "markdown",
   "id": "d2c14d79",
   "metadata": {
    "papermill": {
     "duration": 0.013842,
     "end_time": "2024-08-18T04:30:09.133879",
     "exception": false,
     "start_time": "2024-08-18T04:30:09.120037",
     "status": "completed"
    },
    "tags": []
   },
   "source": [
    "## Exercise - 3"
   ]
  },
  {
   "cell_type": "code",
   "execution_count": 18,
   "id": "101259c1",
   "metadata": {
    "execution": {
     "iopub.execute_input": "2024-08-18T04:30:09.165601Z",
     "iopub.status.busy": "2024-08-18T04:30:09.165123Z",
     "iopub.status.idle": "2024-08-18T04:30:09.170962Z",
     "shell.execute_reply": "2024-08-18T04:30:09.169569Z"
    },
    "papermill": {
     "duration": 0.025663,
     "end_time": "2024-08-18T04:30:09.173984",
     "exception": false,
     "start_time": "2024-08-18T04:30:09.148321",
     "status": "completed"
    },
    "tags": []
   },
   "outputs": [],
   "source": [
    "#Task : Calculate the backward pass of batch normalization in one go\n",
    "\n",
    "# Backward pass\n",
    "# Exercise 3: backprop through batchnorm but all in one go\n",
    "# to complete this challenge look at the mathematical expression of the output of batchnorm,\n",
    "# take the derivative w.r.t. its input, simplify the expression, and just write it out"
   ]
  },
  {
   "cell_type": "code",
   "execution_count": 19,
   "id": "9583770b",
   "metadata": {
    "execution": {
     "iopub.execute_input": "2024-08-18T04:30:09.206300Z",
     "iopub.status.busy": "2024-08-18T04:30:09.205886Z",
     "iopub.status.idle": "2024-08-18T04:30:09.211577Z",
     "shell.execute_reply": "2024-08-18T04:30:09.210185Z"
    },
    "papermill": {
     "duration": 0.024631,
     "end_time": "2024-08-18T04:30:09.214526",
     "exception": false,
     "start_time": "2024-08-18T04:30:09.189895",
     "status": "completed"
    },
    "tags": []
   },
   "outputs": [],
   "source": [
    "# forward pass\n",
    "\n",
    "# before:\n",
    "# bnmeani = 1/n*hprebn.sum(0, keepdim=True)\n",
    "# bndiff = hprebn - bnmeani\n",
    "# bndiff2 = bndiff**2\n",
    "# bnvar = 1/(n-1)*(bndiff2).sum(0, keepdim=True) # note: Bessel's correction (dividing by n-1, not n)\n",
    "# bnvar_inv = (bnvar + 1e-5)**-0.5\n",
    "# bnraw = bndiff * bnvar_inv\n",
    "# hpreact = bngain * bnraw + bnbias"
   ]
  },
  {
   "attachments": {
    "a9071b43-56e8-4850-a349-6a3154106c5d.png": {
     "image/png": "[encoded data removed]"
    }
   },
   "cell_type": "markdown",
   "id": "e78e9b70",
   "metadata": {
    "papermill": {
     "duration": 0.014074,
     "end_time": "2024-08-18T04:30:09.243023",
     "exception": false,
     "start_time": "2024-08-18T04:30:09.228949",
     "status": "completed"
    },
    "tags": []
   },
   "source": [
    "# Simplified derivation of backward pass\n",
    "![image.png](attachment:a9071b43-56e8-4850-a349-6a3154106c5d.png)"
   ]
  },
  {
   "cell_type": "code",
   "execution_count": 20,
   "id": "d1381c3f",
   "metadata": {
    "execution": {
     "iopub.execute_input": "2024-08-18T04:30:09.274885Z",
     "iopub.status.busy": "2024-08-18T04:30:09.274333Z",
     "iopub.status.idle": "2024-08-18T04:30:09.292437Z",
     "shell.execute_reply": "2024-08-18T04:30:09.290424Z"
    },
    "papermill": {
     "duration": 0.037535,
     "end_time": "2024-08-18T04:30:09.295509",
     "exception": false,
     "start_time": "2024-08-18T04:30:09.257974",
     "status": "completed"
    },
    "tags": []
   },
   "outputs": [
    {
     "name": "stdout",
     "output_type": "stream",
     "text": [
      "max diff: tensor(4.7684e-07, grad_fn=<MaxBackward1>)\n"
     ]
    }
   ],
   "source": [
    "# now:\n",
    "hpreact_fast = bngain * (hprebn - hprebn.mean(0, keepdim=True)) / torch.sqrt(hprebn.var(0, keepdim=True, unbiased=True) + 1e-5) + bnbias\n",
    "print('max diff:', (hpreact_fast - hpreact).abs().max())"
   ]
  },
  {
   "cell_type": "markdown",
   "id": "ad1e6d94",
   "metadata": {
    "papermill": {
     "duration": 0.015002,
     "end_time": "2024-08-18T04:30:09.325716",
     "exception": false,
     "start_time": "2024-08-18T04:30:09.310714",
     "status": "completed"
    },
    "tags": []
   },
   "source": [
    "# Exercise - 4"
   ]
  },
  {
   "cell_type": "code",
   "execution_count": 21,
   "id": "b750fbed",
   "metadata": {
    "execution": {
     "iopub.execute_input": "2024-08-18T04:30:09.356851Z",
     "iopub.status.busy": "2024-08-18T04:30:09.356418Z",
     "iopub.status.idle": "2024-08-18T04:30:09.361471Z",
     "shell.execute_reply": "2024-08-18T04:30:09.360313Z"
    },
    "papermill": {
     "duration": 0.023369,
     "end_time": "2024-08-18T04:30:09.364050",
     "exception": false,
     "start_time": "2024-08-18T04:30:09.340681",
     "status": "completed"
    },
    "tags": []
   },
   "outputs": [],
   "source": [
    "# Exercise 4: putting it all together!\n",
    "# Train the MLP neural net with your own backward pass"
   ]
  },
  {
   "cell_type": "code",
   "execution_count": 22,
   "id": "9ad4d9a6",
   "metadata": {
    "execution": {
     "iopub.execute_input": "2024-08-18T04:30:09.396145Z",
     "iopub.status.busy": "2024-08-18T04:30:09.395730Z",
     "iopub.status.idle": "2024-08-18T04:30:09.408609Z",
     "shell.execute_reply": "2024-08-18T04:30:09.407209Z"
    },
    "papermill": {
     "duration": 0.033144,
     "end_time": "2024-08-18T04:30:09.411671",
     "exception": false,
     "start_time": "2024-08-18T04:30:09.378527",
     "status": "completed"
    },
    "tags": []
   },
   "outputs": [
    {
     "name": "stdout",
     "output_type": "stream",
     "text": [
      "12297\n"
     ]
    }
   ],
   "source": [
    "# init\n",
    "n_embd = 10 # the dimensionality of the character embedding vectors\n",
    "n_hidden = 200 # the number of neurons in the hidden layer of the MLP\n",
    "\n",
    "g = torch.Generator().manual_seed(2147483647) # for reproducibility\n",
    "C  = torch.randn((vocab_size, n_embd),            generator=g)\n",
    "# Layer 1\n",
    "W1 = torch.randn((n_embd * block_size, n_hidden), generator=g) * (5/3)/((n_embd * block_size)**0.5)\n",
    "b1 = torch.randn(n_hidden,                        generator=g) * 0.1\n",
    "# Layer 2\n",
    "W2 = torch.randn((n_hidden, vocab_size),          generator=g) * 0.1\n",
    "b2 = torch.randn(vocab_size,                      generator=g) * 0.1\n",
    "# BatchNorm parameters\n",
    "bngain = torch.randn((1, n_hidden))*0.1 + 1.0\n",
    "bnbias = torch.randn((1, n_hidden))*0.1\n",
    "\n",
    "parameters = [C, W1, b1, W2, b2, bngain, bnbias]\n",
    "print(sum(p.nelement() for p in parameters)) # number of parameters in total\n",
    "for p in parameters:\n",
    "    p.requires_grad = True"
   ]
  },
  {
   "cell_type": "code",
   "execution_count": 23,
   "id": "eea76d7d",
   "metadata": {
    "execution": {
     "iopub.execute_input": "2024-08-18T04:30:09.443084Z",
     "iopub.status.busy": "2024-08-18T04:30:09.442672Z",
     "iopub.status.idle": "2024-08-18T04:31:11.297565Z",
     "shell.execute_reply": "2024-08-18T04:31:11.296544Z"
    },
    "papermill": {
     "duration": 61.874289,
     "end_time": "2024-08-18T04:31:11.300582",
     "exception": false,
     "start_time": "2024-08-18T04:30:09.426293",
     "status": "completed"
    },
    "tags": []
   },
   "outputs": [
    {
     "name": "stdout",
     "output_type": "stream",
     "text": [
      "      0/  20000: 3.8039\n",
      "   1000/  20000: 2.2407\n",
      "   2000/  20000: 2.3149\n",
      "   3000/  20000: 2.2199\n",
      "   4000/  20000: 2.1851\n",
      "   5000/  20000: 2.3186\n",
      "   6000/  20000: 2.1376\n",
      "   7000/  20000: 2.4850\n",
      "   8000/  20000: 2.0049\n",
      "   9000/  20000: 2.1781\n",
      "  10000/  20000: 2.2092\n",
      "  11000/  20000: 1.8729\n",
      "  12000/  20000: 2.2541\n",
      "  13000/  20000: 2.2383\n",
      "  14000/  20000: 2.6715\n",
      "  15000/  20000: 2.1163\n",
      "  16000/  20000: 2.4775\n",
      "  17000/  20000: 2.2564\n",
      "  18000/  20000: 1.9879\n",
      "  19000/  20000: 2.4472\n"
     ]
    }
   ],
   "source": [
    "# same optimization as last time\n",
    "max_steps  = 20000\n",
    "batch_size = 32\n",
    "n          = batch_size # convenience\n",
    "lossi      = []\n",
    "\n",
    "# use this context manager for efficiency once your backward pass is written (TODO)\n",
    "with torch.no_grad():\n",
    "\n",
    "  # kick off optimization\n",
    "  for i in range(max_steps):\n",
    "\n",
    "    # minibatch construct\n",
    "    ix     = torch.randint(0, Xtr.shape[0], (batch_size,), generator=g)\n",
    "    Xb, Yb = Xtr[ix], Ytr[ix] # batch X,Y\n",
    "\n",
    "    # forward pass\n",
    "    emb    = C[Xb] # embed the characters into vectors\n",
    "    embcat = emb.view(emb.shape[0], -1) # concatenate the vectors\n",
    "    \n",
    "    # Linear layer\n",
    "    hprebn = embcat @ W1 + b1 # hidden layer pre-activation\n",
    "    \n",
    "    # BatchNorm layer\n",
    "    # -------------------------------------------------------------\n",
    "    bnmean    = hprebn.mean(0, keepdim=True)\n",
    "    bnvar     = hprebn.var(0, keepdim=True, unbiased=True)\n",
    "    bnvar_inv = (bnvar + 1e-5)**-0.5\n",
    "    bnraw     = (hprebn - bnmean) * bnvar_inv\n",
    "    hpreact   = bngain * bnraw + bnbias\n",
    "    # -------------------------------------------------------------\n",
    "    # Non-linearity\n",
    "    h      = torch.tanh(hpreact) # hidden layer\n",
    "    \n",
    "    logits = h @ W2 + b2 # output layer\n",
    "    loss   = F.cross_entropy(logits, Yb) # loss function\n",
    "\n",
    "    # backward pass\n",
    "    for p in parameters:\n",
    "        p.grad = None\n",
    "    #loss.backward() # use this for correctness comparisons, delete it later!\n",
    "\n",
    "    # manual backprop! #swole_doge_meme\n",
    "    # -----------------\n",
    "    dlogits  = F.softmax(logits, 1)\n",
    "    dlogits[range(n), Yb] -= 1\n",
    "    dlogits /= n\n",
    "    \n",
    "    # 2nd layer backprop\n",
    "    dh  = dlogits @ W2.T\n",
    "    dW2 = h.T @ dlogits\n",
    "    db2 = dlogits.sum(0)\n",
    "    \n",
    "    # tanh\n",
    "    dhpreact = (1.0 - h**2) * dh\n",
    "    \n",
    "    # batchnorm backprop\n",
    "    dbngain = (bnraw * dhpreact).sum(0, keepdim=True)\n",
    "    dbnbias = dhpreact.sum(0, keepdim=True)\n",
    "    dhprebn = bngain*bnvar_inv/n * (n*dhpreact - dhpreact.sum(0) - n/(n-1)*bnraw*(dhpreact*bnraw).sum(0))\n",
    "    \n",
    "    # 1st layer\n",
    "    dembcat = dhprebn @ W1.T\n",
    "    dW1     = embcat.T @ dhprebn\n",
    "    db1     = dhprebn.sum(0)\n",
    "    \n",
    "    # embedding\n",
    "    demb = dembcat.view(emb.shape)\n",
    "    dC = torch.zeros_like(C)\n",
    "    for k in range(Xb.shape[0]):\n",
    "        for j in range(Xb.shape[1]):\n",
    "            ix = Xb[k,j]\n",
    "            dC[ix] += demb[k,j]\n",
    "            \n",
    "    grads = [dC, dW1, db1, dW2, db2, dbngain, dbnbias]\n",
    "    # -----------------\n",
    "\n",
    "    # update\n",
    "    lr = 0.1 if i < 100000 else 0.01 # step learning rate decay\n",
    "    for p, grad in zip(parameters, grads):\n",
    "      #p.data += -lr * p.grad # old way of cheems doge (using PyTorch grad from .backward())\n",
    "      p.data += -lr * grad # new way of swole doge TODO: enable\n",
    "\n",
    "    # track stats\n",
    "    if i % 1000 == 0: # print every once in a while\n",
    "        print(f'{i:7d}/{max_steps:7d}: {loss.item():.4f}')\n",
    "    lossi.append(loss.log10().item())\n",
    "\n",
    "  #   if i >= 100: # TODO: delete early breaking when you're ready to train the full net\n",
    "  #     break"
   ]
  },
  {
   "cell_type": "code",
   "execution_count": 24,
   "id": "46ab7ebd",
   "metadata": {
    "execution": {
     "iopub.execute_input": "2024-08-18T04:31:11.335684Z",
     "iopub.status.busy": "2024-08-18T04:31:11.334748Z",
     "iopub.status.idle": "2024-08-18T04:31:11.847756Z",
     "shell.execute_reply": "2024-08-18T04:31:11.846585Z"
    },
    "papermill": {
     "duration": 0.533968,
     "end_time": "2024-08-18T04:31:11.851212",
     "exception": false,
     "start_time": "2024-08-18T04:31:11.317244",
     "status": "completed"
    },
    "tags": []
   },
   "outputs": [],
   "source": [
    "# calibrate the batch norm at the end of training\n",
    "\n",
    "with torch.no_grad():\n",
    "    # pass the training set through\n",
    "    emb = C[Xtr]\n",
    "    embcat = emb.view(emb.shape[0], -1)\n",
    "    hpreact = embcat @ W1 + b1\n",
    "    # measure the mean/std over the entire training set\n",
    "    bnmean = hpreact.mean(0, keepdim=True)\n",
    "    bnvar = hpreact.var(0, keepdim=True, unbiased=True)"
   ]
  },
  {
   "cell_type": "code",
   "execution_count": 25,
   "id": "643fd851",
   "metadata": {
    "execution": {
     "iopub.execute_input": "2024-08-18T04:31:11.887641Z",
     "iopub.status.busy": "2024-08-18T04:31:11.887199Z",
     "iopub.status.idle": "2024-08-18T04:31:12.640737Z",
     "shell.execute_reply": "2024-08-18T04:31:12.639167Z"
    },
    "papermill": {
     "duration": 0.774765,
     "end_time": "2024-08-18T04:31:12.643796",
     "exception": false,
     "start_time": "2024-08-18T04:31:11.869031",
     "status": "completed"
    },
    "tags": []
   },
   "outputs": [
    {
     "name": "stdout",
     "output_type": "stream",
     "text": [
      "train 2.2121996879577637\n",
      "val 2.2301130294799805\n"
     ]
    }
   ],
   "source": [
    "# evaluate train and val loss\n",
    "\n",
    "@torch.no_grad() # this decorator disables gradient tracking\n",
    "def split_loss(split):\n",
    "    x,y = {\n",
    "        'train': (Xtr, Ytr),\n",
    "        'val': (Xval, Yval),\n",
    "        'test': (Xte, Yte),\n",
    "      }[split]\n",
    "     \n",
    "    emb     = C[x] # (N, block_size, n_embd)\n",
    "    embcat  = emb.view(emb.shape[0], -1) # concat into (N, block_size * n_embd)\n",
    "    hpreact = embcat @ W1 + b1\n",
    "    hpreact = bngain * (hpreact - bnmean) * (bnvar + 1e-5)**-0.5 + bnbias\n",
    "    h       = torch.tanh(hpreact) # (N, n_hidden)\n",
    "    logits  = h @ W2 + b2 # (N, vocab_size)\n",
    "    loss    = F.cross_entropy(logits, y)\n",
    "    print(split, loss.item())\n",
    "\n",
    "split_loss('train')\n",
    "split_loss('val')"
   ]
  },
  {
   "cell_type": "code",
   "execution_count": 26,
   "id": "d09ccc50",
   "metadata": {
    "execution": {
     "iopub.execute_input": "2024-08-18T04:31:12.680288Z",
     "iopub.status.busy": "2024-08-18T04:31:12.679846Z",
     "iopub.status.idle": "2024-08-18T04:31:12.735856Z",
     "shell.execute_reply": "2024-08-18T04:31:12.734316Z"
    },
    "papermill": {
     "duration": 0.076965,
     "end_time": "2024-08-18T04:31:12.738812",
     "exception": false,
     "start_time": "2024-08-18T04:31:12.661847",
     "status": "completed"
    },
    "tags": []
   },
   "outputs": [
    {
     "name": "stdout",
     "output_type": "stream",
     "text": [
      "mri.\n",
      "almyanziee.\n",
      "mad.\n",
      "ryah.\n",
      "rethretted.\n",
      "lei.\n",
      "azeer.\n",
      "melin.\n",
      "shi.\n",
      "jen.\n",
      "eden.\n",
      "estana.\n",
      "analeigh.\n",
      "karin.\n",
      "sadbergihi.\n",
      "jest.\n",
      "jair.\n",
      "jelina.\n",
      "tero.\n",
      "kunzey.\n"
     ]
    }
   ],
   "source": [
    "# sample from the model\n",
    "g = torch.Generator().manual_seed(2147483647 + 10)\n",
    "\n",
    "for _ in range(20):\n",
    "    out     = []\n",
    "    context = [0] * block_size # initialize with all ...\n",
    "    \n",
    "    while True:\n",
    "        \n",
    "        # ------------\n",
    "        # forward pass:\n",
    "        # Embedding\n",
    "        emb     = C[torch.tensor([context])] # (1,block_size,d)      \n",
    "        embcat  = emb.view(emb.shape[0], -1) # concat into (N, block_size * n_embd)\n",
    "        hpreact = embcat @ W1 + b1\n",
    "        hpreact = bngain * (hpreact - bnmean) * (bnvar + 1e-5)**-0.5 + bnbias\n",
    "        h       = torch.tanh(hpreact) # (N, n_hidden)\n",
    "        logits  = h @ W2 + b2 # (N, vocab_size)\n",
    "        \n",
    "        # ------------\n",
    "        # Sample\n",
    "        probs   = F.softmax(logits, dim=1)\n",
    "        ix      = torch.multinomial(probs, num_samples=1, generator=g).item()\n",
    "        context = context[1:] + [ix]\n",
    "        \n",
    "        out.append(ix)\n",
    "        if ix == 0:\n",
    "            break\n",
    "    \n",
    "    print(''.join(itos[i] for i in out))"
   ]
  },
  {
   "cell_type": "code",
   "execution_count": null,
   "id": "9ab8c430",
   "metadata": {
    "papermill": {
     "duration": 0.016581,
     "end_time": "2024-08-18T04:31:12.772210",
     "exception": false,
     "start_time": "2024-08-18T04:31:12.755629",
     "status": "completed"
    },
    "tags": []
   },
   "outputs": [],
   "source": []
  }
 ],
 "metadata": {
  "kaggle": {
   "accelerator": "none",
   "dataSources": [
    {
     "databundleVersionId": 9094797,
     "sourceId": 63056,
     "sourceType": "competition"
    },
    {
     "datasetId": 5447273,
     "sourceId": 9036689,
     "sourceType": "datasetVersion"
    }
   ],
   "dockerImageVersionId": 30746,
   "isGpuEnabled": false,
   "isInternetEnabled": true,
   "language": "python",
   "sourceType": "notebook"
  },
  "kernelspec": {
   "display_name": "Python 3",
   "language": "python",
   "name": "python3"
  },
  "language_info": {
   "codemirror_mode": {
    "name": "ipython",
    "version": 3
   },
   "file_extension": ".py",
   "mimetype": "text/x-python",
   "name": "python",
   "nbconvert_exporter": "python",
   "pygments_lexer": "ipython3",
   "version": "3.10.13"
  },
  "papermill": {
   "default_parameters": {},
   "duration": 75.878516,
   "end_time": "2024-08-18T04:31:13.713276",
   "environment_variables": {},
   "exception": null,
   "input_path": "__notebook__.ipynb",
   "output_path": "__notebook__.ipynb",
   "parameters": {},
   "start_time": "2024-08-18T04:29:57.834760",
   "version": "2.5.0"
  }
 },
 "nbformat": 4,
 "nbformat_minor": 5
}
