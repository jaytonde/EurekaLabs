{
 "cells": [
  {
   "cell_type": "markdown",
   "id": "aa2ba856",
   "metadata": {
    "papermill": {
     "duration": 0.01112,
     "end_time": "2024-08-18T09:26:14.265871",
     "exception": false,
     "start_time": "2024-08-18T09:26:14.254751",
     "status": "completed"
    },
    "tags": []
   },
   "source": [
    "## Imports"
   ]
  },
  {
   "cell_type": "code",
   "execution_count": 1,
   "id": "d30f1e43",
   "metadata": {
    "execution": {
     "iopub.execute_input": "2024-08-18T09:26:14.292372Z",
     "iopub.status.busy": "2024-08-18T09:26:14.291062Z",
     "iopub.status.idle": "2024-08-18T09:26:17.943050Z",
     "shell.execute_reply": "2024-08-18T09:26:17.941633Z"
    },
    "papermill": {
     "duration": 3.669262,
     "end_time": "2024-08-18T09:26:17.945921",
     "exception": false,
     "start_time": "2024-08-18T09:26:14.276659",
     "status": "completed"
    },
    "tags": []
   },
   "outputs": [],
   "source": [
    "import torch\n",
    "from tqdm import tqdm\n",
    "import torch.nn.functional as F\n",
    "import matplotlib.pyplot as plt\n",
    "%matplotlib inline \n",
    "# %matplotlib inline to creating seperate window for matplotlib figures it will draw it in cell output instead"
   ]
  },
  {
   "cell_type": "markdown",
   "id": "23683be2",
   "metadata": {
    "papermill": {
     "duration": 0.010551,
     "end_time": "2024-08-18T09:26:17.967642",
     "exception": false,
     "start_time": "2024-08-18T09:26:17.957091",
     "status": "completed"
    },
    "tags": []
   },
   "source": [
    "## Read Dataset"
   ]
  },
  {
   "cell_type": "code",
   "execution_count": 2,
   "id": "a97aae75",
   "metadata": {
    "execution": {
     "iopub.execute_input": "2024-08-18T09:26:17.991868Z",
     "iopub.status.busy": "2024-08-18T09:26:17.991325Z",
     "iopub.status.idle": "2024-08-18T09:26:18.022294Z",
     "shell.execute_reply": "2024-08-18T09:26:18.020800Z"
    },
    "papermill": {
     "duration": 0.046333,
     "end_time": "2024-08-18T09:26:18.025024",
     "exception": false,
     "start_time": "2024-08-18T09:26:17.978691",
     "status": "completed"
    },
    "tags": []
   },
   "outputs": [
    {
     "data": {
      "text/plain": [
       "['emma', 'olivia', 'ava', 'isabella', 'sophia', 'charlotte', 'mia', 'amelia']"
      ]
     },
     "execution_count": 2,
     "metadata": {},
     "output_type": "execute_result"
    }
   ],
   "source": [
    "words = open(\"/kaggle/input/eureka-labs/names.txt\",\"r\").read().splitlines()\n",
    "words[:8]"
   ]
  },
  {
   "cell_type": "code",
   "execution_count": 3,
   "id": "ad042b70",
   "metadata": {
    "execution": {
     "iopub.execute_input": "2024-08-18T09:26:18.048903Z",
     "iopub.status.busy": "2024-08-18T09:26:18.048472Z",
     "iopub.status.idle": "2024-08-18T09:26:18.055619Z",
     "shell.execute_reply": "2024-08-18T09:26:18.054439Z"
    },
    "papermill": {
     "duration": 0.02191,
     "end_time": "2024-08-18T09:26:18.058037",
     "exception": false,
     "start_time": "2024-08-18T09:26:18.036127",
     "status": "completed"
    },
    "tags": []
   },
   "outputs": [
    {
     "data": {
      "text/plain": [
       "32033"
      ]
     },
     "execution_count": 3,
     "metadata": {},
     "output_type": "execute_result"
    }
   ],
   "source": [
    "len(words)"
   ]
  },
  {
   "cell_type": "markdown",
   "id": "177b7526",
   "metadata": {
    "papermill": {
     "duration": 0.010674,
     "end_time": "2024-08-18T09:26:18.079757",
     "exception": false,
     "start_time": "2024-08-18T09:26:18.069083",
     "status": "completed"
    },
    "tags": []
   },
   "source": [
    "## char to id"
   ]
  },
  {
   "cell_type": "code",
   "execution_count": 4,
   "id": "b546b7ff",
   "metadata": {
    "execution": {
     "iopub.execute_input": "2024-08-18T09:26:18.103660Z",
     "iopub.status.busy": "2024-08-18T09:26:18.103256Z",
     "iopub.status.idle": "2024-08-18T09:26:18.114867Z",
     "shell.execute_reply": "2024-08-18T09:26:18.113740Z"
    },
    "papermill": {
     "duration": 0.027106,
     "end_time": "2024-08-18T09:26:18.117908",
     "exception": false,
     "start_time": "2024-08-18T09:26:18.090802",
     "status": "completed"
    },
    "tags": []
   },
   "outputs": [
    {
     "name": "stdout",
     "output_type": "stream",
     "text": [
      "{1: 'a', 2: 'b', 3: 'c', 4: 'd', 5: 'e', 6: 'f', 7: 'g', 8: 'h', 9: 'i', 10: 'j', 11: 'k', 12: 'l', 13: 'm', 14: 'n', 15: 'o', 16: 'p', 17: 'q', 18: 'r', 19: 's', 20: 't', 21: 'u', 22: 'v', 23: 'w', 24: 'x', 25: 'y', 26: 'z', 0: '.'}\n"
     ]
    }
   ],
   "source": [
    "chars     = sorted(list(set(''.join(words))))\n",
    "stoi      = {s:i+1 for i,s in enumerate(chars)}\n",
    "stoi['.'] = 0\n",
    "itos      = {i:s for s,i in stoi.items()}\n",
    "print(itos)"
   ]
  },
  {
   "cell_type": "markdown",
   "id": "d89d6d93",
   "metadata": {
    "papermill": {
     "duration": 0.011654,
     "end_time": "2024-08-18T09:26:18.140604",
     "exception": false,
     "start_time": "2024-08-18T09:26:18.128950",
     "status": "completed"
    },
    "tags": []
   },
   "source": [
    "## Dataset"
   ]
  },
  {
   "cell_type": "code",
   "execution_count": 5,
   "id": "8202ecb4",
   "metadata": {
    "execution": {
     "iopub.execute_input": "2024-08-18T09:26:18.165050Z",
     "iopub.status.busy": "2024-08-18T09:26:18.164105Z",
     "iopub.status.idle": "2024-08-18T09:26:19.640544Z",
     "shell.execute_reply": "2024-08-18T09:26:19.639285Z"
    },
    "papermill": {
     "duration": 1.491925,
     "end_time": "2024-08-18T09:26:19.643562",
     "exception": false,
     "start_time": "2024-08-18T09:26:18.151637",
     "status": "completed"
    },
    "tags": []
   },
   "outputs": [],
   "source": [
    "block_size = 8 # context length : how many characters do we take to predict next one\n",
    "def build_dataset(words):\n",
    "    X, Y       = [],[]\n",
    "\n",
    "    for w in words:\n",
    "        #print(w)\n",
    "        context = [0] * block_size\n",
    "        for ch in w + '.':\n",
    "            ix = stoi[ch]\n",
    "            X.append(context)\n",
    "            Y.append(ix)\n",
    "            #print(''.join(itos[i] for i in context), '----->', itos[ix])\n",
    "            context = context[1:] + [ix] #crop and apppend\n",
    "\n",
    "    X = torch.tensor(X)\n",
    "    Y = torch.tensor(Y)\n",
    "    \n",
    "    return X,Y\n",
    "\n",
    "import random\n",
    "random.seed(42)\n",
    "random.shuffle(words)\n",
    "\n",
    "n1 = int(0.8*len(words))\n",
    "n2 = int(0.9*len(words))\n",
    "\n",
    "Xtr, Ytr   = build_dataset(words[:n1])\n",
    "Xval, Yval = build_dataset(words[n1:n2])\n",
    "Xte, Yte   = build_dataset(words[n2])"
   ]
  },
  {
   "cell_type": "code",
   "execution_count": 6,
   "id": "d6d22a11",
   "metadata": {
    "execution": {
     "iopub.execute_input": "2024-08-18T09:26:19.669517Z",
     "iopub.status.busy": "2024-08-18T09:26:19.669066Z",
     "iopub.status.idle": "2024-08-18T09:26:19.704840Z",
     "shell.execute_reply": "2024-08-18T09:26:19.703556Z"
    },
    "papermill": {
     "duration": 0.052055,
     "end_time": "2024-08-18T09:26:19.707950",
     "exception": false,
     "start_time": "2024-08-18T09:26:19.655895",
     "status": "completed"
    },
    "tags": []
   },
   "outputs": [
    {
     "name": "stdout",
     "output_type": "stream",
     "text": [
      "........ --> y\n",
      ".......y --> u\n",
      "......yu --> h\n",
      ".....yuh --> e\n",
      "....yuhe --> n\n",
      "...yuhen --> g\n",
      "..yuheng --> .\n",
      "........ --> d\n",
      ".......d --> i\n",
      "......di --> o\n",
      ".....dio --> n\n",
      "....dion --> d\n",
      "...diond --> r\n",
      "..diondr --> e\n",
      ".diondre --> .\n",
      "........ --> x\n",
      ".......x --> a\n",
      "......xa --> v\n",
      ".....xav --> i\n",
      "....xavi --> e\n"
     ]
    }
   ],
   "source": [
    "for x,y in zip(Xtr[:20], Ytr[:20]):\n",
    "    print(''.join(itos[ix.item()] for ix in x), '-->', itos[y.item()])"
   ]
  },
  {
   "cell_type": "markdown",
   "id": "869340cf",
   "metadata": {
    "papermill": {
     "duration": 0.011222,
     "end_time": "2024-08-18T09:26:19.730488",
     "exception": false,
     "start_time": "2024-08-18T09:26:19.719266",
     "status": "completed"
    },
    "tags": []
   },
   "source": [
    "## Initialize weights"
   ]
  },
  {
   "cell_type": "code",
   "execution_count": 7,
   "id": "4804f0a1",
   "metadata": {
    "execution": {
     "iopub.execute_input": "2024-08-18T09:26:19.754738Z",
     "iopub.status.busy": "2024-08-18T09:26:19.754354Z",
     "iopub.status.idle": "2024-08-18T09:26:19.796533Z",
     "shell.execute_reply": "2024-08-18T09:26:19.795494Z"
    },
    "papermill": {
     "duration": 0.057725,
     "end_time": "2024-08-18T09:26:19.799409",
     "exception": false,
     "start_time": "2024-08-18T09:26:19.741684",
     "status": "completed"
    },
    "tags": []
   },
   "outputs": [],
   "source": [
    "n_hidden   = 200\n",
    "vocab_size = 27\n",
    "n_embd     = 10\n",
    "\n",
    "g = torch.Generator().manual_seed(2147483647) # for reproducability\n",
    "C = torch.randn((vocab_size, n_embd), generator=g)\n",
    "\n",
    "W1 = torch.randn((n_embd * block_size, n_hidden), generator=g) * (5/3)/((n_embd * block_size))\n",
    "b1 = torch.randn((n_hidden), generator=g)\n",
    "\n",
    "W2 = torch.randn((n_hidden, vocab_size), generator=g)\n",
    "b2 = torch.randn((vocab_size), generator=g)\n",
    "\n",
    "bngain = torch.ones((1,n_hidden))   #Batch normalization trainable parameter\n",
    "bnbias = torch.zeros((1,n_hidden))  #Batch normalization trainable parameter\n",
    "bnmean_running = torch.zeros((1,n_hidden))\n",
    "bnstd_running  = torch.ones((1,n_hidden))\n",
    "\n",
    "parameters = [C, W1, b1, W2, b2, bngain, bnbias]\n",
    "for p in parameters:\n",
    "    p.requires_grad = True"
   ]
  },
  {
   "cell_type": "code",
   "execution_count": 8,
   "id": "fa96dd2c",
   "metadata": {
    "execution": {
     "iopub.execute_input": "2024-08-18T09:26:19.824679Z",
     "iopub.status.busy": "2024-08-18T09:26:19.824297Z",
     "iopub.status.idle": "2024-08-18T09:26:19.847260Z",
     "shell.execute_reply": "2024-08-18T09:26:19.846031Z"
    },
    "papermill": {
     "duration": 0.038258,
     "end_time": "2024-08-18T09:26:19.849798",
     "exception": false,
     "start_time": "2024-08-18T09:26:19.811540",
     "status": "completed"
    },
    "tags": []
   },
   "outputs": [],
   "source": [
    "class Linear:\n",
    "    def __init__(self, fan_in, fan_out, bias=True):\n",
    "        self.weight = torch.randn((fan_in, fan_out), generator=g) / fan_in**0.5 #fan_in**0.5 kamming bias\n",
    "        self.bias   = torch.zeros(fan_out) if bias else None\n",
    "        \n",
    "    def __call__(self, x):\n",
    "        self.out = x @ self.weight\n",
    "        if self.bias is not None:\n",
    "            self.out += self.bias\n",
    "        return self.out\n",
    "    \n",
    "    def parameters(self):\n",
    "        return [self.weight] + ([] if self.bias is None else [self.bias])\n",
    "    \n",
    "\n",
    "class BatchNorm1d:\n",
    "    def __init__(self, dim, eps=1e-5, momentum=0.1):\n",
    "        self.eps          = eps\n",
    "        self.momentum     = momentum\n",
    "        self.training     = True\n",
    "        \n",
    "        #parameter's (trained with backprop)\n",
    "        self.gamma        = torch.ones(dim) \n",
    "        self.beta         = torch.zeros(dim)\n",
    "        \n",
    "        #buffers (trained with a running 'momentu update')\n",
    "        self.running_mean = torch.zeros(dim)\n",
    "        self.running_var  = torch.ones(dim)\n",
    "        \n",
    "    def __call__(self, x):\n",
    "        #calculate the forward pass\n",
    "        if self.training:\n",
    "            if x.ndim == 2:\n",
    "                dim = 0\n",
    "            elif x.ndim == 3:\n",
    "                dim = (0,1)\n",
    "            xmean = x.mean(dim, keepdim=True) #batch mean\n",
    "            xvar  = x.var(dim, keepdim=True) #batch varience\n",
    "        else:\n",
    "            xmean = self.running_mean\n",
    "            xvar  = self.running_var\n",
    "            \n",
    "        xhat      = (x-xmean) / torch.sqrt(xvar + self.eps) #normalize to unit varience\n",
    "        self.out  = self.gamma * xhat + self.beta\n",
    "        \n",
    "        #update the buffers\n",
    "        if self.training:\n",
    "            with torch.no_grad():\n",
    "                self.running_mean = (1 - self.momentum) * self.running_mean + self.momentum * xmean\n",
    "                self.running_var  = (1 - self.momentum) * self.running_var  + self.momentum * xvar\n",
    "                \n",
    "        return self.out\n",
    "    \n",
    "    def parameters(self):\n",
    "        return [self.gamma, self.beta]\n",
    "    \n",
    "class Tanh:\n",
    "    def __call__(self, x):\n",
    "        self.out = torch.tanh(x)\n",
    "        return self.out\n",
    "    \n",
    "    def parameters(self):\n",
    "        return []\n",
    "    \n",
    "    \n",
    "class Embedding:\n",
    "    def __init__(self, num_embeddings, embedding_dim):\n",
    "        self.weight = torch.randn((num_embeddings, embedding_dim))\n",
    "    \n",
    "    def __call__(self, IX):\n",
    "        self.out = self.weight[IX]\n",
    "        return self.out\n",
    "  \n",
    "    def parameters(self):\n",
    "        return [self.weight]\n",
    "    \n",
    "class FlattenConsecutive:\n",
    "    def __init__(self, n):\n",
    "        self.n = n\n",
    "    \n",
    "    def __call__(self, x):\n",
    "        B, T, C = x.shape\n",
    "        x       = x.view(B, T//self.n, C*self.n)\n",
    "        if x.shape[1] == 1:\n",
    "            x = x.squeeze(1)\n",
    "        self.out = x\n",
    "        return self.out\n",
    "  \n",
    "    def parameters(self):\n",
    "        return []\n",
    "\n",
    "#------------------------------ PyTorch containers ------------------------------------    \n",
    "class Sequential:\n",
    "    def __init__(self, layers):\n",
    "        self.layers = layers\n",
    "  \n",
    "    def __call__(self, x):\n",
    "        for layer in self.layers:\n",
    "            x        = layer(x)\n",
    "        self.out = x\n",
    "        return self.out\n",
    "  \n",
    "    def parameters(self):\n",
    "        # get parameters of all layers and stretch them out into one list\n",
    "        return [p for layer in self.layers for p in layer.parameters()]"
   ]
  },
  {
   "cell_type": "code",
   "execution_count": 9,
   "id": "be600a40",
   "metadata": {
    "execution": {
     "iopub.execute_input": "2024-08-18T09:26:19.874543Z",
     "iopub.status.busy": "2024-08-18T09:26:19.874116Z",
     "iopub.status.idle": "2024-08-18T09:26:19.888804Z",
     "shell.execute_reply": "2024-08-18T09:26:19.887364Z"
    },
    "papermill": {
     "duration": 0.030369,
     "end_time": "2024-08-18T09:26:19.891491",
     "exception": false,
     "start_time": "2024-08-18T09:26:19.861122",
     "status": "completed"
    },
    "tags": []
   },
   "outputs": [
    {
     "name": "stdout",
     "output_type": "stream",
     "text": [
      "76579\n"
     ]
    }
   ],
   "source": [
    "# original network\n",
    "# n_embd = 10 # the dimensionality of the character embedding vectors\n",
    "# n_hidden = 300 # the number of neurons in the hidden layer of the MLP\n",
    "# model = Sequential([\n",
    "#   Embedding(vocab_size, n_embd),\n",
    "#   FlattenConsecutive(8), Linear(n_embd * 8, n_hidden, bias=False), BatchNorm1d(n_hidden), Tanh(),\n",
    "#   Linear(n_hidden, vocab_size),\n",
    "# ])\n",
    "\n",
    "# hierarchical network\n",
    "\n",
    "\n",
    "n_embd   = 24  # the dimensionality of the character embedding vectors\n",
    "n_hidden = 128 # the number of neurons in the hidden layer of the MLP\n",
    "g        = torch.Generator().manual_seed(2147483647) # for reproducability\n",
    "\n",
    "model    =  Sequential ([\n",
    "                            Embedding(vocab_size, n_embd),\n",
    "                            FlattenConsecutive(2), Linear(n_embd * 2, n_hidden,   bias=False), BatchNorm1d(n_hidden), Tanh(),\n",
    "                            FlattenConsecutive(2), Linear(n_hidden * 2, n_hidden, bias=False), BatchNorm1d(n_hidden), Tanh(),\n",
    "                            FlattenConsecutive(2), Linear(n_hidden * 2, n_hidden, bias=False), BatchNorm1d(n_hidden), Tanh(),\n",
    "                            Linear(n_hidden, vocab_size)\n",
    "                       ])\n",
    "\n",
    "with torch.no_grad():\n",
    "    # last layer : make less confident\n",
    "    model.layers[-1].weight *= 0.1\n",
    "            \n",
    "parameters = model.parameters()\n",
    "print(sum(p.nelement() for p in parameters)) # number of parameters in total\n",
    "\n",
    "for p in parameters:\n",
    "    p.requires_grad = True"
   ]
  },
  {
   "cell_type": "code",
   "execution_count": 10,
   "id": "c862fca0",
   "metadata": {
    "execution": {
     "iopub.execute_input": "2024-08-18T09:26:19.916154Z",
     "iopub.status.busy": "2024-08-18T09:26:19.915744Z",
     "iopub.status.idle": "2024-08-18T09:26:19.921468Z",
     "shell.execute_reply": "2024-08-18T09:26:19.920067Z"
    },
    "papermill": {
     "duration": 0.021104,
     "end_time": "2024-08-18T09:26:19.924103",
     "exception": false,
     "start_time": "2024-08-18T09:26:19.902999",
     "status": "completed"
    },
    "tags": []
   },
   "outputs": [],
   "source": [
    "from tqdm import tqdm"
   ]
  },
  {
   "cell_type": "code",
   "execution_count": 11,
   "id": "34fdcd14",
   "metadata": {
    "execution": {
     "iopub.execute_input": "2024-08-18T09:26:19.948958Z",
     "iopub.status.busy": "2024-08-18T09:26:19.948525Z",
     "iopub.status.idle": "2024-08-18T09:27:47.749421Z",
     "shell.execute_reply": "2024-08-18T09:27:47.748130Z"
    },
    "papermill": {
     "duration": 87.816573,
     "end_time": "2024-08-18T09:27:47.752314",
     "exception": false,
     "start_time": "2024-08-18T09:26:19.935741",
     "status": "completed"
    },
    "tags": []
   },
   "outputs": [
    {
     "name": "stderr",
     "output_type": "stream",
     "text": [
      "  0%|          | 2/20000 [00:00<17:22, 19.18it/s]"
     ]
    },
    {
     "name": "stdout",
     "output_type": "stream",
     "text": [
      "      0/  20000: 3.295902\n"
     ]
    },
    {
     "name": "stderr",
     "output_type": "stream",
     "text": [
      " 25%|██▌       | 5043/20000 [00:21<01:02, 237.44it/s]"
     ]
    },
    {
     "name": "stdout",
     "output_type": "stream",
     "text": [
      "   5000/  20000: 2.151274\n"
     ]
    },
    {
     "name": "stderr",
     "output_type": "stream",
     "text": [
      " 50%|█████     | 10031/20000 [00:43<00:43, 228.51it/s]"
     ]
    },
    {
     "name": "stdout",
     "output_type": "stream",
     "text": [
      "  10000/  20000: 1.782374\n"
     ]
    },
    {
     "name": "stderr",
     "output_type": "stream",
     "text": [
      " 75%|███████▌  | 15026/20000 [01:06<00:31, 159.85it/s]"
     ]
    },
    {
     "name": "stdout",
     "output_type": "stream",
     "text": [
      "  15000/  20000: 2.270511\n"
     ]
    },
    {
     "name": "stderr",
     "output_type": "stream",
     "text": [
      "100%|██████████| 20000/20000 [01:27<00:00, 227.83it/s]\n"
     ]
    }
   ],
   "source": [
    "max_steps  = 20000\n",
    "batch_size = 32\n",
    "lossi      = []\n",
    "ud         = []\n",
    "\n",
    "for i in tqdm(range(max_steps)):\n",
    "    \n",
    "    #minibatch construct\n",
    "    ix     = torch.randint(0, Xtr.shape[0], (batch_size,), generator=g)\n",
    "    Xb, Yb = Xtr[ix], Ytr[ix]\n",
    "    \n",
    "    #forward pass           \n",
    "    logits = model(Xb)\n",
    "    loss   = F.cross_entropy(logits, Yb) # loss function\n",
    "    \n",
    "    #backward pass\n",
    "    for p in parameters:\n",
    "        p.grad = None\n",
    "    loss.backward()\n",
    "    \n",
    "    #update\n",
    "    lr = 0.1 if i < 100000 else 0.01 #step learning rate decay\n",
    "    for p in parameters:\n",
    "        p.data += -lr * p.grad\n",
    "        \n",
    "    #track stats\n",
    "    if i % 5000 == 0: #print every once in while\n",
    "        print(f\"{i:7d}/{max_steps:7d}: {loss.item():4f}\")\n",
    "    lossi.append(loss.log10().item())\n",
    "    \n",
    "    with torch.no_grad():\n",
    "        ud.append([(lr * p.grad.std() / p.data.std()).log10().item() for p in parameters])\n",
    "    \n",
    "#     if i > 1000:\n",
    "#         break # AFTER DEBUG : would take out obviously to run full optimization"
   ]
  },
  {
   "cell_type": "markdown",
   "id": "3e513feb",
   "metadata": {
    "papermill": {
     "duration": 0.08992,
     "end_time": "2024-08-18T09:27:47.931616",
     "exception": false,
     "start_time": "2024-08-18T09:27:47.841696",
     "status": "completed"
    },
    "tags": []
   },
   "source": [
    "### Layer Inspector "
   ]
  },
  {
   "cell_type": "code",
   "execution_count": 12,
   "id": "896f9283",
   "metadata": {
    "execution": {
     "iopub.execute_input": "2024-08-18T09:27:48.112413Z",
     "iopub.status.busy": "2024-08-18T09:27:48.111969Z",
     "iopub.status.idle": "2024-08-18T09:27:48.118750Z",
     "shell.execute_reply": "2024-08-18T09:27:48.117564Z"
    },
    "papermill": {
     "duration": 0.100693,
     "end_time": "2024-08-18T09:27:48.121713",
     "exception": false,
     "start_time": "2024-08-18T09:27:48.021020",
     "status": "completed"
    },
    "tags": []
   },
   "outputs": [
    {
     "name": "stdout",
     "output_type": "stream",
     "text": [
      "Embedding : (32, 8, 24)\n",
      "FlattenConsecutive : (32, 4, 48)\n",
      "Linear : (32, 4, 128)\n",
      "BatchNorm1d : (32, 4, 128)\n",
      "Tanh : (32, 4, 128)\n",
      "FlattenConsecutive : (32, 2, 256)\n",
      "Linear : (32, 2, 128)\n",
      "BatchNorm1d : (32, 2, 128)\n",
      "Tanh : (32, 2, 128)\n",
      "FlattenConsecutive : (32, 256)\n",
      "Linear : (32, 128)\n",
      "BatchNorm1d : (32, 128)\n",
      "Tanh : (32, 128)\n",
      "Linear : (32, 27)\n"
     ]
    }
   ],
   "source": [
    "for layer in model.layers:\n",
    "    print(layer.__class__.__name__, ':', tuple(layer.out.shape))"
   ]
  },
  {
   "cell_type": "code",
   "execution_count": 13,
   "id": "c092069c",
   "metadata": {
    "execution": {
     "iopub.execute_input": "2024-08-18T09:27:48.371982Z",
     "iopub.status.busy": "2024-08-18T09:27:48.371559Z",
     "iopub.status.idle": "2024-08-18T09:27:49.079811Z",
     "shell.execute_reply": "2024-08-18T09:27:49.078590Z"
    },
    "papermill": {
     "duration": 0.804429,
     "end_time": "2024-08-18T09:27:49.082560",
     "exception": false,
     "start_time": "2024-08-18T09:27:48.278131",
     "status": "completed"
    },
    "tags": []
   },
   "outputs": [
    {
     "data": {
      "text/plain": [
       "[<matplotlib.lines.Line2D at 0x7817db4817b0>]"
      ]
     },
     "execution_count": 13,
     "metadata": {},
     "output_type": "execute_result"
    },
    {
     "data": {
      "image/png": "[encoded data removed]",
      "text/plain": [
       "<Figure size 640x480 with 1 Axes>"
      ]
     },
     "metadata": {},
     "output_type": "display_data"
    }
   ],
   "source": [
    "plt.plot(lossi)"
   ]
  },
  {
   "cell_type": "code",
   "execution_count": 14,
   "id": "dedc1e9a",
   "metadata": {
    "execution": {
     "iopub.execute_input": "2024-08-18T09:27:49.268644Z",
     "iopub.status.busy": "2024-08-18T09:27:49.268205Z",
     "iopub.status.idle": "2024-08-18T09:27:49.600400Z",
     "shell.execute_reply": "2024-08-18T09:27:49.599105Z"
    },
    "papermill": {
     "duration": 0.429621,
     "end_time": "2024-08-18T09:27:49.603080",
     "exception": false,
     "start_time": "2024-08-18T09:27:49.173459",
     "status": "completed"
    },
    "tags": []
   },
   "outputs": [
    {
     "data": {
      "text/plain": [
       "[<matplotlib.lines.Line2D at 0x7817db4822c0>]"
      ]
     },
     "execution_count": 14,
     "metadata": {},
     "output_type": "execute_result"
    },
    {
     "data": {
      "image/png": "[encoded data removed]",
      "text/plain": [
       "<Figure size 640x480 with 1 Axes>"
      ]
     },
     "metadata": {},
     "output_type": "display_data"
    }
   ],
   "source": [
    "plt.plot(torch.tensor(lossi).view(-1,500).mean(1))"
   ]
  },
  {
   "cell_type": "code",
   "execution_count": 15,
   "id": "b3cfc44c",
   "metadata": {
    "execution": {
     "iopub.execute_input": "2024-08-18T09:27:49.790121Z",
     "iopub.status.busy": "2024-08-18T09:27:49.788998Z",
     "iopub.status.idle": "2024-08-18T09:27:49.794439Z",
     "shell.execute_reply": "2024-08-18T09:27:49.793418Z"
    },
    "papermill": {
     "duration": 0.101646,
     "end_time": "2024-08-18T09:27:49.796912",
     "exception": false,
     "start_time": "2024-08-18T09:27:49.695266",
     "status": "completed"
    },
    "tags": []
   },
   "outputs": [],
   "source": [
    "#put the model into eval mode\n",
    "for layer in model.layers:\n",
    "    layer.training = False"
   ]
  },
  {
   "cell_type": "code",
   "execution_count": 16,
   "id": "2a9e590d",
   "metadata": {
    "execution": {
     "iopub.execute_input": "2024-08-18T09:27:49.982036Z",
     "iopub.status.busy": "2024-08-18T09:27:49.981635Z",
     "iopub.status.idle": "2024-08-18T09:27:53.229081Z",
     "shell.execute_reply": "2024-08-18T09:27:53.227894Z"
    },
    "papermill": {
     "duration": 3.344105,
     "end_time": "2024-08-18T09:27:53.232112",
     "exception": false,
     "start_time": "2024-08-18T09:27:49.888007",
     "status": "completed"
    },
    "tags": []
   },
   "outputs": [
    {
     "name": "stdout",
     "output_type": "stream",
     "text": [
      "train 2.0511221885681152\n",
      "val 2.105168104171753\n"
     ]
    }
   ],
   "source": [
    "@torch.no_grad() #this decorator disables gradient tracking\n",
    "def split_loss(split):\n",
    "    x, y    = {'train' : (Xtr, Ytr), 'val' : (Xval, Yval), 'test' : (Xte, Yte)}[split]\n",
    "    logits  = model(x)                                            # output layer\n",
    "    loss    = F.cross_entropy(logits, y)                                     # loss function\n",
    "    print(split, loss.item())\n",
    "    \n",
    "split_loss('train')\n",
    "split_loss('val')"
   ]
  },
  {
   "cell_type": "code",
   "execution_count": 17,
   "id": "9de704c2",
   "metadata": {
    "execution": {
     "iopub.execute_input": "2024-08-18T09:27:53.423963Z",
     "iopub.status.busy": "2024-08-18T09:27:53.423556Z",
     "iopub.status.idle": "2024-08-18T09:27:53.528062Z",
     "shell.execute_reply": "2024-08-18T09:27:53.526214Z"
    },
    "papermill": {
     "duration": 0.204172,
     "end_time": "2024-08-18T09:27:53.531294",
     "exception": false,
     "start_time": "2024-08-18T09:27:53.327122",
     "status": "completed"
    },
    "tags": []
   },
   "outputs": [
    {
     "name": "stdout",
     "output_type": "stream",
     "text": [
      "maraiyah.\n",
      "zhieer.\n",
      "ndylynn.\n",
      "renven.\n",
      "endrae.\n",
      "razelynne.\n",
      "ivenly.\n",
      "jennedelle.\n",
      "nanar.\n",
      "kayzion.\n",
      "karin.\n",
      "shaber.\n",
      "shimie.\n",
      "trinton.\n",
      "kynlen.\n",
      "pairy.\n",
      "kamied.\n",
      "ryylen.\n",
      "meksylah.\n",
      "maykella.\n"
     ]
    }
   ],
   "source": [
    "g = torch.Generator().manual_seed(2147483647 + 10)\n",
    "\n",
    "for _ in range(20):\n",
    "    out = []\n",
    "    context = [0] * block_size # initialize with all ...\n",
    "    \n",
    "    while(True):\n",
    "        logits  = model(torch.tensor([context])) # (1,block_size,d)\n",
    "        probs   = F.softmax(logits, dim=1)\n",
    "        ix      = torch.multinomial(probs, num_samples=1, generator=g).item()\n",
    "        context = context[1:] + [ix]\n",
    "        out.append(ix)\n",
    "        if ix == 0:\n",
    "            #util . comes again\n",
    "            break\n",
    "    print(''.join(itos[i] for i in out))"
   ]
  },
  {
   "cell_type": "markdown",
   "id": "61cc6322",
   "metadata": {
    "papermill": {
     "duration": 0.092363,
     "end_time": "2024-08-18T09:27:53.717354",
     "exception": false,
     "start_time": "2024-08-18T09:27:53.624991",
     "status": "completed"
    },
    "tags": []
   },
   "source": [
    "## performance log\n",
    "* original (3 character context + 200 hidden neurons, 12K params): train 2.058, val 2.105\n",
    "* context: 3 -> 8 (22K params): train 1.918, val 2.027\n",
    "* flat -> hierarchical (22K params): train 1.941, val 2.029\n",
    "* fix bug in batchnorm: train 1.912, val 2.022\n",
    "* scale up the network: n_embd 24, n_hidden 128 (76K params): train 1.769, val 1.993"
   ]
  },
  {
   "cell_type": "markdown",
   "id": "8bcaf09f",
   "metadata": {
    "papermill": {
     "duration": 0.090764,
     "end_time": "2024-08-18T09:27:53.900142",
     "exception": false,
     "start_time": "2024-08-18T09:27:53.809378",
     "status": "completed"
    },
    "tags": []
   },
   "source": [
    "# **Next time :**\n",
    "Why convolutions? Brief preview/hint"
   ]
  },
  {
   "attachments": {
    "6e41fb83-ae84-4132-8e69-0f95e8aae8b8.png": {
     "image/png": "[encoded data removed]"
    }
   },
   "cell_type": "markdown",
   "id": "886f8362",
   "metadata": {
    "papermill": {
     "duration": 0.091199,
     "end_time": "2024-08-18T09:27:54.082773",
     "exception": false,
     "start_time": "2024-08-18T09:27:53.991574",
     "status": "completed"
    },
    "tags": []
   },
   "source": [
    "![image.png](attachment:6e41fb83-ae84-4132-8e69-0f95e8aae8b8.png)\n",
    "* in CNN model slids over the input array intenally using cuda to calculate the next token in the sequnce.\n",
    "* Like if we have batch size of 8 then there will internal cuda for loop which will run our model 8 times to calculate 8 outputs.\n",
    "* In convolutional network linear layer works as filter.\n"
   ]
  },
  {
   "cell_type": "code",
   "execution_count": 18,
   "id": "68a979cd",
   "metadata": {
    "execution": {
     "iopub.execute_input": "2024-08-18T09:27:54.268813Z",
     "iopub.status.busy": "2024-08-18T09:27:54.268379Z",
     "iopub.status.idle": "2024-08-18T09:27:54.275711Z",
     "shell.execute_reply": "2024-08-18T09:27:54.274568Z"
    },
    "papermill": {
     "duration": 0.102666,
     "end_time": "2024-08-18T09:27:54.278130",
     "exception": false,
     "start_time": "2024-08-18T09:27:54.175464",
     "status": "completed"
    },
    "tags": []
   },
   "outputs": [
    {
     "data": {
      "text/plain": [
       "torch.Size([182625, 8])"
      ]
     },
     "execution_count": 18,
     "metadata": {},
     "output_type": "execute_result"
    }
   ],
   "source": [
    "Xtr.shape"
   ]
  },
  {
   "cell_type": "code",
   "execution_count": 19,
   "id": "80e55274",
   "metadata": {
    "execution": {
     "iopub.execute_input": "2024-08-18T09:27:54.466172Z",
     "iopub.status.busy": "2024-08-18T09:27:54.465025Z",
     "iopub.status.idle": "2024-08-18T09:27:54.473385Z",
     "shell.execute_reply": "2024-08-18T09:27:54.472241Z"
    },
    "papermill": {
     "duration": 0.105863,
     "end_time": "2024-08-18T09:27:54.475907",
     "exception": false,
     "start_time": "2024-08-18T09:27:54.370044",
     "status": "completed"
    },
    "tags": []
   },
   "outputs": [
    {
     "name": "stdout",
     "output_type": "stream",
     "text": [
      "........ --> y\n",
      ".......y --> u\n",
      "......yu --> h\n",
      ".....yuh --> e\n",
      "....yuhe --> n\n",
      "...yuhen --> g\n",
      "..yuheng --> .\n"
     ]
    }
   ],
   "source": [
    "for x, y in zip(Xtr[0:7], Ytr[0:7]):\n",
    "    print(''.join(itos[ix.item()] for ix in x), '-->', itos[y.item()])"
   ]
  },
  {
   "cell_type": "code",
   "execution_count": 20,
   "id": "4cdafc8b",
   "metadata": {
    "execution": {
     "iopub.execute_input": "2024-08-18T09:27:54.664445Z",
     "iopub.status.busy": "2024-08-18T09:27:54.664028Z",
     "iopub.status.idle": "2024-08-18T09:27:54.673770Z",
     "shell.execute_reply": "2024-08-18T09:27:54.672617Z"
    },
    "papermill": {
     "duration": 0.107566,
     "end_time": "2024-08-18T09:27:54.676335",
     "exception": false,
     "start_time": "2024-08-18T09:27:54.568769",
     "status": "completed"
    },
    "tags": []
   },
   "outputs": [
    {
     "data": {
      "text/plain": [
       "tensor([[ 0,  0,  0,  0,  0, 25, 21,  8]])"
      ]
     },
     "execution_count": 20,
     "metadata": {},
     "output_type": "execute_result"
    }
   ],
   "source": [
    "Xtr[[3]]"
   ]
  },
  {
   "cell_type": "code",
   "execution_count": 21,
   "id": "e8a6a777",
   "metadata": {
    "execution": {
     "iopub.execute_input": "2024-08-18T09:27:54.865697Z",
     "iopub.status.busy": "2024-08-18T09:27:54.864548Z",
     "iopub.status.idle": "2024-08-18T09:27:54.874165Z",
     "shell.execute_reply": "2024-08-18T09:27:54.872999Z"
    },
    "papermill": {
     "duration": 0.10632,
     "end_time": "2024-08-18T09:27:54.876570",
     "exception": false,
     "start_time": "2024-08-18T09:27:54.770250",
     "status": "completed"
    },
    "tags": []
   },
   "outputs": [
    {
     "data": {
      "text/plain": [
       "torch.Size([1, 27])"
      ]
     },
     "execution_count": 21,
     "metadata": {},
     "output_type": "execute_result"
    }
   ],
   "source": [
    "# forward single example\n",
    "logits = model(Xtr[[0]]) # double brackets [[]] we suppose send 2 dim vector 0th dim of batch and 2nd of input data\n",
    "logits.shape"
   ]
  },
  {
   "cell_type": "code",
   "execution_count": 22,
   "id": "de355ecf",
   "metadata": {
    "execution": {
     "iopub.execute_input": "2024-08-18T09:27:55.064664Z",
     "iopub.status.busy": "2024-08-18T09:27:55.064230Z",
     "iopub.status.idle": "2024-08-18T09:27:55.077268Z",
     "shell.execute_reply": "2024-08-18T09:27:55.075850Z"
    },
    "papermill": {
     "duration": 0.109027,
     "end_time": "2024-08-18T09:27:55.079939",
     "exception": false,
     "start_time": "2024-08-18T09:27:54.970912",
     "status": "completed"
    },
    "tags": []
   },
   "outputs": [
    {
     "data": {
      "text/plain": [
       "torch.Size([8, 27])"
      ]
     },
     "execution_count": 22,
     "metadata": {},
     "output_type": "execute_result"
    }
   ],
   "source": [
    "# forward all of them\n",
    "logits = torch.zeros(8, 27)\n",
    "for i in range(8):\n",
    "    logits[i] = model(Xtr[[0+i]])\n",
    "logits.shape"
   ]
  },
  {
   "cell_type": "markdown",
   "id": "bf891e02",
   "metadata": {
    "papermill": {
     "duration": 0.092268,
     "end_time": "2024-08-18T09:27:55.266137",
     "exception": false,
     "start_time": "2024-08-18T09:27:55.173869",
     "status": "completed"
    },
    "tags": []
   },
   "source": [
    "# Lecture summary : \n",
    "* Implemented the containers from PyTorch like : Sequential"
   ]
  },
  {
   "cell_type": "code",
   "execution_count": null,
   "id": "13d7d388",
   "metadata": {
    "papermill": {
     "duration": 0.09416,
     "end_time": "2024-08-18T09:27:55.452829",
     "exception": false,
     "start_time": "2024-08-18T09:27:55.358669",
     "status": "completed"
    },
    "tags": []
   },
   "outputs": [],
   "source": []
  }
 ],
 "metadata": {
  "kaggle": {
   "accelerator": "none",
   "dataSources": [
    {
     "databundleVersionId": 9094797,
     "sourceId": 63056,
     "sourceType": "competition"
    },
    {
     "datasetId": 5447273,
     "sourceId": 9036689,
     "sourceType": "datasetVersion"
    }
   ],
   "dockerImageVersionId": 30746,
   "isGpuEnabled": false,
   "isInternetEnabled": true,
   "language": "python",
   "sourceType": "notebook"
  },
  "kernelspec": {
   "display_name": "Python 3",
   "language": "python",
   "name": "python3"
  },
  "language_info": {
   "codemirror_mode": {
    "name": "ipython",
    "version": 3
   },
   "file_extension": ".py",
   "mimetype": "text/x-python",
   "name": "python",
   "nbconvert_exporter": "python",
   "pygments_lexer": "ipython3",
   "version": "3.10.13"
  },
  "papermill": {
   "default_parameters": {},
   "duration": 105.353205,
   "end_time": "2024-08-18T09:27:56.469597",
   "environment_variables": {},
   "exception": null,
   "input_path": "__notebook__.ipynb",
   "output_path": "__notebook__.ipynb",
   "parameters": {},
   "start_time": "2024-08-18T09:26:11.116392",
   "version": "2.5.0"
  }
 },
 "nbformat": 4,
 "nbformat_minor": 5
}
